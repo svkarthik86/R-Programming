{
 "cells": [
  {
   "cell_type": "raw",
   "id": "39ff53f1",
   "metadata": {},
   "source": [
    "1.Write a program to create a sequence of numbers from 20 to 50\n",
    "  and find the mean of numbers ,from 20 to 60 and sum of numbers from 51 to 91.\n",
    "  \n",
    "2. Write a program to extract first 10 english letter in lower case and last 10 letters in upper case and extract letters between 22nd to 24th letters in upper case\n",
    "\n",
    "Note: Use built-in datasets letters and LETTERS.\n",
    "\n",
    "3.Write a program to create three vectors a,b,c with 3 integers. Combine the three vectors to become a 3×3 matrix where each column represents a vector. Print the content of the matrix\n",
    "\n",
    "4.Write a program to find the maximum and the minimum value of a given vector\n",
    "x = c(10, 20, 30, 20, 20, 25, 9, 26)\n"
   ]
  },
  {
   "cell_type": "code",
   "execution_count": null,
   "id": "aabef8a3",
   "metadata": {},
   "outputs": [],
   "source": []
  },
  {
   "cell_type": "code",
   "execution_count": null,
   "id": "3d6327ec",
   "metadata": {},
   "outputs": [],
   "source": []
  },
  {
   "cell_type": "code",
   "execution_count": null,
   "id": "427bcaac",
   "metadata": {},
   "outputs": [],
   "source": []
  },
  {
   "cell_type": "code",
   "execution_count": null,
   "id": "85987429",
   "metadata": {},
   "outputs": [],
   "source": []
  },
  {
   "cell_type": "code",
   "execution_count": null,
   "id": "3f377ad5",
   "metadata": {},
   "outputs": [],
   "source": []
  },
  {
   "cell_type": "code",
   "execution_count": null,
   "id": "2a281a7d",
   "metadata": {},
   "outputs": [],
   "source": []
  },
  {
   "cell_type": "code",
   "execution_count": null,
   "id": "9e318a2e",
   "metadata": {},
   "outputs": [],
   "source": [
    "Getting userinput:"
   ]
  },
  {
   "cell_type": "code",
   "execution_count": 2,
   "id": "f580194f",
   "metadata": {},
   "outputs": [
    {
     "name": "stdout",
     "output_type": "stream",
     "text": [
      "Enter the start sequence20\n",
      "Enter the end sequence50\n"
     ]
    }
   ],
   "source": [
    "start<-as.integer(readline(prompt=\"Enter the start sequence\"))\n",
    "end<-as.integer(readline(prompt=\"Enter the end sequence\"))"
   ]
  },
  {
   "cell_type": "code",
   "execution_count": 4,
   "id": "0c0f3c8b",
   "metadata": {},
   "outputs": [
    {
     "data": {
      "text/html": [
       "'integer'"
      ],
      "text/latex": [
       "'integer'"
      ],
      "text/markdown": [
       "'integer'"
      ],
      "text/plain": [
       "[1] \"integer\""
      ]
     },
     "metadata": {},
     "output_type": "display_data"
    }
   ],
   "source": [
    "typeof(start)"
   ]
  },
  {
   "cell_type": "code",
   "execution_count": 7,
   "id": "e8063312",
   "metadata": {},
   "outputs": [
    {
     "data": {
      "text/html": [
       "1085"
      ],
      "text/latex": [
       "1085"
      ],
      "text/markdown": [
       "1085"
      ],
      "text/plain": [
       "[1] 1085"
      ]
     },
     "metadata": {},
     "output_type": "display_data"
    }
   ],
   "source": [
    "sum(start:end)"
   ]
  },
  {
   "cell_type": "code",
   "execution_count": 4,
   "id": "f302ca04",
   "metadata": {},
   "outputs": [
    {
     "data": {
      "text/html": [
       "<ol class=list-inline>\n",
       "\t<li>20</li>\n",
       "\t<li>21</li>\n",
       "\t<li>22</li>\n",
       "\t<li>23</li>\n",
       "\t<li>24</li>\n",
       "\t<li>25</li>\n",
       "\t<li>26</li>\n",
       "\t<li>27</li>\n",
       "\t<li>28</li>\n",
       "\t<li>29</li>\n",
       "\t<li>30</li>\n",
       "\t<li>31</li>\n",
       "\t<li>32</li>\n",
       "\t<li>33</li>\n",
       "\t<li>34</li>\n",
       "\t<li>35</li>\n",
       "\t<li>36</li>\n",
       "\t<li>37</li>\n",
       "\t<li>38</li>\n",
       "\t<li>39</li>\n",
       "\t<li>40</li>\n",
       "\t<li>41</li>\n",
       "\t<li>42</li>\n",
       "\t<li>43</li>\n",
       "\t<li>44</li>\n",
       "\t<li>45</li>\n",
       "\t<li>46</li>\n",
       "\t<li>47</li>\n",
       "\t<li>48</li>\n",
       "\t<li>49</li>\n",
       "\t<li>50</li>\n",
       "\t<li>51</li>\n",
       "\t<li>52</li>\n",
       "\t<li>53</li>\n",
       "\t<li>54</li>\n",
       "\t<li>55</li>\n",
       "\t<li>56</li>\n",
       "\t<li>57</li>\n",
       "\t<li>58</li>\n",
       "\t<li>59</li>\n",
       "\t<li>60</li>\n",
       "</ol>\n"
      ],
      "text/latex": [
       "\\begin{enumerate*}\n",
       "\\item 20\n",
       "\\item 21\n",
       "\\item 22\n",
       "\\item 23\n",
       "\\item 24\n",
       "\\item 25\n",
       "\\item 26\n",
       "\\item 27\n",
       "\\item 28\n",
       "\\item 29\n",
       "\\item 30\n",
       "\\item 31\n",
       "\\item 32\n",
       "\\item 33\n",
       "\\item 34\n",
       "\\item 35\n",
       "\\item 36\n",
       "\\item 37\n",
       "\\item 38\n",
       "\\item 39\n",
       "\\item 40\n",
       "\\item 41\n",
       "\\item 42\n",
       "\\item 43\n",
       "\\item 44\n",
       "\\item 45\n",
       "\\item 46\n",
       "\\item 47\n",
       "\\item 48\n",
       "\\item 49\n",
       "\\item 50\n",
       "\\item 51\n",
       "\\item 52\n",
       "\\item 53\n",
       "\\item 54\n",
       "\\item 55\n",
       "\\item 56\n",
       "\\item 57\n",
       "\\item 58\n",
       "\\item 59\n",
       "\\item 60\n",
       "\\end{enumerate*}\n"
      ],
      "text/markdown": [
       "1. 20\n",
       "2. 21\n",
       "3. 22\n",
       "4. 23\n",
       "5. 24\n",
       "6. 25\n",
       "7. 26\n",
       "8. 27\n",
       "9. 28\n",
       "10. 29\n",
       "11. 30\n",
       "12. 31\n",
       "13. 32\n",
       "14. 33\n",
       "15. 34\n",
       "16. 35\n",
       "17. 36\n",
       "18. 37\n",
       "19. 38\n",
       "20. 39\n",
       "21. 40\n",
       "22. 41\n",
       "23. 42\n",
       "24. 43\n",
       "25. 44\n",
       "26. 45\n",
       "27. 46\n",
       "28. 47\n",
       "29. 48\n",
       "30. 49\n",
       "31. 50\n",
       "32. 51\n",
       "33. 52\n",
       "34. 53\n",
       "35. 54\n",
       "36. 55\n",
       "37. 56\n",
       "38. 57\n",
       "39. 58\n",
       "40. 59\n",
       "41. 60\n",
       "\n",
       "\n"
      ],
      "text/plain": [
       " [1] 20 21 22 23 24 25 26 27 28 29 30 31 32 33 34 35 36 37 38 39 40 41 42 43 44\n",
       "[26] 45 46 47 48 49 50 51 52 53 54 55 56 57 58 59 60"
      ]
     },
     "metadata": {},
     "output_type": "display_data"
    }
   ],
   "source": [
    "start:(end+10)"
   ]
  },
  {
   "cell_type": "code",
   "execution_count": 2,
   "id": "e7bb4aa9",
   "metadata": {},
   "outputs": [
    {
     "data": {
      "text/html": [
       "40"
      ],
      "text/latex": [
       "40"
      ],
      "text/markdown": [
       "40"
      ],
      "text/plain": [
       "[1] 40"
      ]
     },
     "metadata": {},
     "output_type": "display_data"
    }
   ],
   "source": [
    "mean(20:60)"
   ]
  },
  {
   "cell_type": "code",
   "execution_count": 1,
   "id": "092954fe",
   "metadata": {},
   "outputs": [
    {
     "data": {
      "text/html": [
       "2911"
      ],
      "text/latex": [
       "2911"
      ],
      "text/markdown": [
       "2911"
      ],
      "text/plain": [
       "[1] 2911"
      ]
     },
     "metadata": {},
     "output_type": "display_data"
    }
   ],
   "source": [
    "sum(51:91)"
   ]
  },
  {
   "cell_type": "code",
   "execution_count": null,
   "id": "75ae932b",
   "metadata": {},
   "outputs": [],
   "source": []
  },
  {
   "cell_type": "markdown",
   "id": "957ff986",
   "metadata": {},
   "source": [
    "1.Write a program to create a sequence of numbers from 20 to 50\n",
    "  and find the mean of numbers ,from 20 to 60 and sum of numbers from 51 to 91."
   ]
  },
  {
   "cell_type": "code",
   "execution_count": 1,
   "id": "fc5d817e",
   "metadata": {},
   "outputs": [
    {
     "data": {
      "text/html": [
       "<ol class=list-inline>\n",
       "\t<li>20</li>\n",
       "\t<li>21</li>\n",
       "\t<li>22</li>\n",
       "\t<li>23</li>\n",
       "\t<li>24</li>\n",
       "\t<li>25</li>\n",
       "\t<li>26</li>\n",
       "\t<li>27</li>\n",
       "\t<li>28</li>\n",
       "\t<li>29</li>\n",
       "\t<li>30</li>\n",
       "\t<li>31</li>\n",
       "\t<li>32</li>\n",
       "\t<li>33</li>\n",
       "\t<li>34</li>\n",
       "\t<li>35</li>\n",
       "\t<li>36</li>\n",
       "\t<li>37</li>\n",
       "\t<li>38</li>\n",
       "\t<li>39</li>\n",
       "\t<li>40</li>\n",
       "\t<li>41</li>\n",
       "\t<li>42</li>\n",
       "\t<li>43</li>\n",
       "\t<li>44</li>\n",
       "\t<li>45</li>\n",
       "\t<li>46</li>\n",
       "\t<li>47</li>\n",
       "\t<li>48</li>\n",
       "\t<li>49</li>\n",
       "\t<li>50</li>\n",
       "</ol>\n"
      ],
      "text/latex": [
       "\\begin{enumerate*}\n",
       "\\item 20\n",
       "\\item 21\n",
       "\\item 22\n",
       "\\item 23\n",
       "\\item 24\n",
       "\\item 25\n",
       "\\item 26\n",
       "\\item 27\n",
       "\\item 28\n",
       "\\item 29\n",
       "\\item 30\n",
       "\\item 31\n",
       "\\item 32\n",
       "\\item 33\n",
       "\\item 34\n",
       "\\item 35\n",
       "\\item 36\n",
       "\\item 37\n",
       "\\item 38\n",
       "\\item 39\n",
       "\\item 40\n",
       "\\item 41\n",
       "\\item 42\n",
       "\\item 43\n",
       "\\item 44\n",
       "\\item 45\n",
       "\\item 46\n",
       "\\item 47\n",
       "\\item 48\n",
       "\\item 49\n",
       "\\item 50\n",
       "\\end{enumerate*}\n"
      ],
      "text/markdown": [
       "1. 20\n",
       "2. 21\n",
       "3. 22\n",
       "4. 23\n",
       "5. 24\n",
       "6. 25\n",
       "7. 26\n",
       "8. 27\n",
       "9. 28\n",
       "10. 29\n",
       "11. 30\n",
       "12. 31\n",
       "13. 32\n",
       "14. 33\n",
       "15. 34\n",
       "16. 35\n",
       "17. 36\n",
       "18. 37\n",
       "19. 38\n",
       "20. 39\n",
       "21. 40\n",
       "22. 41\n",
       "23. 42\n",
       "24. 43\n",
       "25. 44\n",
       "26. 45\n",
       "27. 46\n",
       "28. 47\n",
       "29. 48\n",
       "30. 49\n",
       "31. 50\n",
       "\n",
       "\n"
      ],
      "text/plain": [
       " [1] 20 21 22 23 24 25 26 27 28 29 30 31 32 33 34 35 36 37 38 39 40 41 42 43 44\n",
       "[26] 45 46 47 48 49 50"
      ]
     },
     "metadata": {},
     "output_type": "display_data"
    }
   ],
   "source": [
    "seq(20,50)#20:50"
   ]
  },
  {
   "cell_type": "code",
   "execution_count": 2,
   "id": "48c85381",
   "metadata": {},
   "outputs": [
    {
     "data": {
      "text/html": [
       "40"
      ],
      "text/latex": [
       "40"
      ],
      "text/markdown": [
       "40"
      ],
      "text/plain": [
       "[1] 40"
      ]
     },
     "metadata": {},
     "output_type": "display_data"
    }
   ],
   "source": [
    "mean(seq(20,60))#mean(20:60)"
   ]
  },
  {
   "cell_type": "code",
   "execution_count": 1,
   "id": "74f7ec36",
   "metadata": {},
   "outputs": [
    {
     "data": {
      "text/html": [
       "2911"
      ],
      "text/latex": [
       "2911"
      ],
      "text/markdown": [
       "2911"
      ],
      "text/plain": [
       "[1] 2911"
      ]
     },
     "metadata": {},
     "output_type": "display_data"
    }
   ],
   "source": [
    "sum(seq(51,91))#sum(51:91)"
   ]
  },
  {
   "cell_type": "code",
   "execution_count": null,
   "id": "51cc93fa",
   "metadata": {},
   "outputs": [],
   "source": []
  },
  {
   "cell_type": "raw",
   "id": "95f32512",
   "metadata": {},
   "source": [
    "2. Write a program to extract first 10 english letter in lower case and last 10 letters in upper case and extract letters between 22nd to 24th letters in upper case\n",
    "\n",
    "Note: Use built-in datasets letters and LETTERS.\n"
   ]
  },
  {
   "cell_type": "code",
   "execution_count": 5,
   "id": "3a153566",
   "metadata": {},
   "outputs": [
    {
     "data": {
      "text/html": [
       "<ol class=list-inline>\n",
       "\t<li>'a'</li>\n",
       "\t<li>'b'</li>\n",
       "\t<li>'c'</li>\n",
       "\t<li>'d'</li>\n",
       "\t<li>'e'</li>\n",
       "\t<li>'f'</li>\n",
       "\t<li>'g'</li>\n",
       "\t<li>'h'</li>\n",
       "\t<li>'i'</li>\n",
       "\t<li>'j'</li>\n",
       "</ol>\n"
      ],
      "text/latex": [
       "\\begin{enumerate*}\n",
       "\\item 'a'\n",
       "\\item 'b'\n",
       "\\item 'c'\n",
       "\\item 'd'\n",
       "\\item 'e'\n",
       "\\item 'f'\n",
       "\\item 'g'\n",
       "\\item 'h'\n",
       "\\item 'i'\n",
       "\\item 'j'\n",
       "\\end{enumerate*}\n"
      ],
      "text/markdown": [
       "1. 'a'\n",
       "2. 'b'\n",
       "3. 'c'\n",
       "4. 'd'\n",
       "5. 'e'\n",
       "6. 'f'\n",
       "7. 'g'\n",
       "8. 'h'\n",
       "9. 'i'\n",
       "10. 'j'\n",
       "\n",
       "\n"
      ],
      "text/plain": [
       " [1] \"a\" \"b\" \"c\" \"d\" \"e\" \"f\" \"g\" \"h\" \"i\" \"j\""
      ]
     },
     "metadata": {},
     "output_type": "display_data"
    }
   ],
   "source": [
    "head(letters,n=10)"
   ]
  },
  {
   "cell_type": "code",
   "execution_count": 1,
   "id": "b486f59a",
   "metadata": {},
   "outputs": [
    {
     "data": {
      "text/html": [
       "<ol class=list-inline>\n",
       "\t<li>'Q'</li>\n",
       "\t<li>'R'</li>\n",
       "\t<li>'S'</li>\n",
       "\t<li>'T'</li>\n",
       "\t<li>'U'</li>\n",
       "\t<li>'V'</li>\n",
       "\t<li>'W'</li>\n",
       "\t<li>'X'</li>\n",
       "\t<li>'Y'</li>\n",
       "\t<li>'Z'</li>\n",
       "</ol>\n"
      ],
      "text/latex": [
       "\\begin{enumerate*}\n",
       "\\item 'Q'\n",
       "\\item 'R'\n",
       "\\item 'S'\n",
       "\\item 'T'\n",
       "\\item 'U'\n",
       "\\item 'V'\n",
       "\\item 'W'\n",
       "\\item 'X'\n",
       "\\item 'Y'\n",
       "\\item 'Z'\n",
       "\\end{enumerate*}\n"
      ],
      "text/markdown": [
       "1. 'Q'\n",
       "2. 'R'\n",
       "3. 'S'\n",
       "4. 'T'\n",
       "5. 'U'\n",
       "6. 'V'\n",
       "7. 'W'\n",
       "8. 'X'\n",
       "9. 'Y'\n",
       "10. 'Z'\n",
       "\n",
       "\n"
      ],
      "text/plain": [
       " [1] \"Q\" \"R\" \"S\" \"T\" \"U\" \"V\" \"W\" \"X\" \"Y\" \"Z\""
      ]
     },
     "metadata": {},
     "output_type": "display_data"
    }
   ],
   "source": [
    "tail(LETTERS,n=10)"
   ]
  },
  {
   "cell_type": "code",
   "execution_count": 2,
   "id": "34cbc83c",
   "metadata": {},
   "outputs": [
    {
     "data": {
      "text/html": [
       "<ol class=list-inline>\n",
       "\t<li>'a'</li>\n",
       "\t<li>'b'</li>\n",
       "\t<li>'c'</li>\n",
       "\t<li>'d'</li>\n",
       "\t<li>'e'</li>\n",
       "\t<li>'f'</li>\n",
       "\t<li>'g'</li>\n",
       "\t<li>'h'</li>\n",
       "\t<li>'i'</li>\n",
       "\t<li>'j'</li>\n",
       "</ol>\n"
      ],
      "text/latex": [
       "\\begin{enumerate*}\n",
       "\\item 'a'\n",
       "\\item 'b'\n",
       "\\item 'c'\n",
       "\\item 'd'\n",
       "\\item 'e'\n",
       "\\item 'f'\n",
       "\\item 'g'\n",
       "\\item 'h'\n",
       "\\item 'i'\n",
       "\\item 'j'\n",
       "\\end{enumerate*}\n"
      ],
      "text/markdown": [
       "1. 'a'\n",
       "2. 'b'\n",
       "3. 'c'\n",
       "4. 'd'\n",
       "5. 'e'\n",
       "6. 'f'\n",
       "7. 'g'\n",
       "8. 'h'\n",
       "9. 'i'\n",
       "10. 'j'\n",
       "\n",
       "\n"
      ],
      "text/plain": [
       " [1] \"a\" \"b\" \"c\" \"d\" \"e\" \"f\" \"g\" \"h\" \"i\" \"j\""
      ]
     },
     "metadata": {},
     "output_type": "display_data"
    }
   ],
   "source": [
    "letters[1:10]\n"
   ]
  },
  {
   "cell_type": "code",
   "execution_count": 3,
   "id": "5428c36a",
   "metadata": {},
   "outputs": [
    {
     "data": {
      "text/html": [
       "<ol class=list-inline>\n",
       "\t<li>'Q'</li>\n",
       "\t<li>'R'</li>\n",
       "\t<li>'S'</li>\n",
       "\t<li>'T'</li>\n",
       "\t<li>'U'</li>\n",
       "\t<li>'V'</li>\n",
       "\t<li>'W'</li>\n",
       "\t<li>'X'</li>\n",
       "\t<li>'Y'</li>\n",
       "\t<li>'Z'</li>\n",
       "</ol>\n"
      ],
      "text/latex": [
       "\\begin{enumerate*}\n",
       "\\item 'Q'\n",
       "\\item 'R'\n",
       "\\item 'S'\n",
       "\\item 'T'\n",
       "\\item 'U'\n",
       "\\item 'V'\n",
       "\\item 'W'\n",
       "\\item 'X'\n",
       "\\item 'Y'\n",
       "\\item 'Z'\n",
       "\\end{enumerate*}\n"
      ],
      "text/markdown": [
       "1. 'Q'\n",
       "2. 'R'\n",
       "3. 'S'\n",
       "4. 'T'\n",
       "5. 'U'\n",
       "6. 'V'\n",
       "7. 'W'\n",
       "8. 'X'\n",
       "9. 'Y'\n",
       "10. 'Z'\n",
       "\n",
       "\n"
      ],
      "text/plain": [
       " [1] \"Q\" \"R\" \"S\" \"T\" \"U\" \"V\" \"W\" \"X\" \"Y\" \"Z\""
      ]
     },
     "metadata": {},
     "output_type": "display_data"
    }
   ],
   "source": [
    "LETTERS[17:26]"
   ]
  },
  {
   "cell_type": "code",
   "execution_count": 5,
   "id": "e5a7d57b",
   "metadata": {},
   "outputs": [
    {
     "data": {
      "text/html": [
       "<ol class=list-inline>\n",
       "\t<li>'v'</li>\n",
       "\t<li>'w'</li>\n",
       "\t<li>'x'</li>\n",
       "</ol>\n"
      ],
      "text/latex": [
       "\\begin{enumerate*}\n",
       "\\item 'v'\n",
       "\\item 'w'\n",
       "\\item 'x'\n",
       "\\end{enumerate*}\n"
      ],
      "text/markdown": [
       "1. 'v'\n",
       "2. 'w'\n",
       "3. 'x'\n",
       "\n",
       "\n"
      ],
      "text/plain": [
       "[1] \"v\" \"w\" \"x\""
      ]
     },
     "metadata": {},
     "output_type": "display_data"
    }
   ],
   "source": [
    "letters[22:24]"
   ]
  },
  {
   "cell_type": "markdown",
   "id": "38233f25",
   "metadata": {},
   "source": [
    "Write a program to find the maximum and the minimum value of a given vector\n",
    "x = c(10, 20, 30, 20, 20, 25, 9, 26)\n"
   ]
  },
  {
   "cell_type": "code",
   "execution_count": 2,
   "id": "6945660d",
   "metadata": {},
   "outputs": [],
   "source": [
    "x = c(10, 20, 30, 20, 20, 25, 9, 26)"
   ]
  },
  {
   "cell_type": "code",
   "execution_count": 3,
   "id": "0af8fac3",
   "metadata": {},
   "outputs": [
    {
     "data": {
      "text/html": [
       "9"
      ],
      "text/latex": [
       "9"
      ],
      "text/markdown": [
       "9"
      ],
      "text/plain": [
       "[1] 9"
      ]
     },
     "metadata": {},
     "output_type": "display_data"
    }
   ],
   "source": [
    "min(x)"
   ]
  },
  {
   "cell_type": "code",
   "execution_count": 4,
   "id": "2b88d100",
   "metadata": {},
   "outputs": [
    {
     "data": {
      "text/html": [
       "30"
      ],
      "text/latex": [
       "30"
      ],
      "text/markdown": [
       "30"
      ],
      "text/plain": [
       "[1] 30"
      ]
     },
     "metadata": {},
     "output_type": "display_data"
    }
   ],
   "source": [
    "max(x)"
   ]
  },
  {
   "cell_type": "markdown",
   "id": "abd70b74",
   "metadata": {},
   "source": [
    "Write a program to create three vectors a,b,c with 3 integers. Combine the three vectors to become a 3×3 matrix where each column represents a vector. Print the content of the matrix"
   ]
  },
  {
   "cell_type": "code",
   "execution_count": 2,
   "id": "6272cc08",
   "metadata": {},
   "outputs": [],
   "source": [
    "a<-c(1L,3L,5L)\n",
    "b<-c(2L,4L,6L)\n",
    "c<-c(5L,10L,15L)"
   ]
  },
  {
   "cell_type": "code",
   "execution_count": 3,
   "id": "21fecf43",
   "metadata": {},
   "outputs": [
    {
     "data": {
      "text/html": [
       "<table>\n",
       "<tbody>\n",
       "\t<tr><td>1 </td><td>2 </td><td> 5</td></tr>\n",
       "\t<tr><td>3 </td><td>4 </td><td>10</td></tr>\n",
       "\t<tr><td>5 </td><td>6 </td><td>15</td></tr>\n",
       "</tbody>\n",
       "</table>\n"
      ],
      "text/latex": [
       "\\begin{tabular}{lll}\n",
       "\t 1  & 2  &  5\\\\\n",
       "\t 3  & 4  & 10\\\\\n",
       "\t 5  & 6  & 15\\\\\n",
       "\\end{tabular}\n"
      ],
      "text/markdown": [
       "\n",
       "| 1  | 2  |  5 |\n",
       "| 3  | 4  | 10 |\n",
       "| 5  | 6  | 15 |\n",
       "\n"
      ],
      "text/plain": [
       "     [,1] [,2] [,3]\n",
       "[1,] 1    2     5  \n",
       "[2,] 3    4    10  \n",
       "[3,] 5    6    15  "
      ]
     },
     "metadata": {},
     "output_type": "display_data"
    }
   ],
   "source": [
    "matrix(c(a,b,c),nrow=3)"
   ]
  },
  {
   "cell_type": "code",
   "execution_count": null,
   "id": "8fa30fc0",
   "metadata": {},
   "outputs": [],
   "source": []
  },
  {
   "cell_type": "code",
   "execution_count": null,
   "id": "472fe834",
   "metadata": {},
   "outputs": [],
   "source": [
    "Write a R program to compute sum, mean and product of a given vector elements."
   ]
  },
  {
   "cell_type": "code",
   "execution_count": 2,
   "id": "1ce6f723",
   "metadata": {},
   "outputs": [],
   "source": [
    "x = c(10, 20, 30, 20, 20, 25, 9, 26)"
   ]
  },
  {
   "cell_type": "code",
   "execution_count": 3,
   "id": "511df479",
   "metadata": {},
   "outputs": [
    {
     "data": {
      "text/html": [
       "160"
      ],
      "text/latex": [
       "160"
      ],
      "text/markdown": [
       "160"
      ],
      "text/plain": [
       "[1] 160"
      ]
     },
     "metadata": {},
     "output_type": "display_data"
    }
   ],
   "source": [
    "sum(x)"
   ]
  },
  {
   "cell_type": "code",
   "execution_count": 3,
   "id": "aa73c5c4",
   "metadata": {},
   "outputs": [
    {
     "data": {
      "text/html": [
       "20"
      ],
      "text/latex": [
       "20"
      ],
      "text/markdown": [
       "20"
      ],
      "text/plain": [
       "[1] 20"
      ]
     },
     "metadata": {},
     "output_type": "display_data"
    }
   ],
   "source": [
    "mean(x)"
   ]
  },
  {
   "cell_type": "code",
   "execution_count": 4,
   "id": "5099ea98",
   "metadata": {},
   "outputs": [
    {
     "data": {
      "text/html": [
       "1.404e+10"
      ],
      "text/latex": [
       "1.404e+10"
      ],
      "text/markdown": [
       "1.404e+10"
      ],
      "text/plain": [
       "[1] 1.404e+10"
      ]
     },
     "metadata": {},
     "output_type": "display_data"
    }
   ],
   "source": [
    "prod(x)"
   ]
  },
  {
   "cell_type": "code",
   "execution_count": null,
   "id": "0a7bc327",
   "metadata": {},
   "outputs": [],
   "source": []
  },
  {
   "cell_type": "code",
   "execution_count": null,
   "id": "34886b33",
   "metadata": {},
   "outputs": [],
   "source": [
    "Write a program to create a vector which contains 10 random integer values between -50 and +50."
   ]
  },
  {
   "cell_type": "code",
   "execution_count": 8,
   "id": "32fce0f6",
   "metadata": {},
   "outputs": [
    {
     "data": {
      "text/html": [
       "<ol class=list-inline>\n",
       "\t<li>20</li>\n",
       "\t<li>24</li>\n",
       "\t<li>37</li>\n",
       "\t<li>-10</li>\n",
       "\t<li>16</li>\n",
       "\t<li>-7</li>\n",
       "\t<li>28</li>\n",
       "\t<li>-1</li>\n",
       "\t<li>-5</li>\n",
       "\t<li>11</li>\n",
       "</ol>\n"
      ],
      "text/latex": [
       "\\begin{enumerate*}\n",
       "\\item 20\n",
       "\\item 24\n",
       "\\item 37\n",
       "\\item -10\n",
       "\\item 16\n",
       "\\item -7\n",
       "\\item 28\n",
       "\\item -1\n",
       "\\item -5\n",
       "\\item 11\n",
       "\\end{enumerate*}\n"
      ],
      "text/markdown": [
       "1. 20\n",
       "2. 24\n",
       "3. 37\n",
       "4. -10\n",
       "5. 16\n",
       "6. -7\n",
       "7. 28\n",
       "8. -1\n",
       "9. -5\n",
       "10. 11\n",
       "\n",
       "\n"
      ],
      "text/plain": [
       " [1]  20  24  37 -10  16  -7  28  -1  -5  11"
      ]
     },
     "metadata": {},
     "output_type": "display_data"
    }
   ],
   "source": [
    "sample(-50:50,10)"
   ]
  },
  {
   "cell_type": "code",
   "execution_count": null,
   "id": "243f3ab5",
   "metadata": {},
   "outputs": [],
   "source": [
    "# create a list which prints like this: \n",
    "# [[1]]\n",
    "# [1]  1  3  5  7  9 11\n",
    "#\n",
    "# [[2]]\n",
    "# [[2]][[1]]\n",
    "# [1] \"Happy Birthday\"\n",
    "#\n",
    "# [[2]][[2]]\n",
    "# [1] \"Archery\" \n",
    "\n",
    "# extract the numbers as a vector\n",
    "\n",
    "# extract the phrase Happy Birthday as a vector\n",
    "\n",
    "# extract the second item of the second list as a list\n",
    "\n",
    "# extract the second list as a list\n",
    "\n",
    "# extract the numbers item as a list\n",
    "\n",
    "# add 2 to each element in the numbers item\n",
    "\n",
    "# name the items in the list as \"Numbers\" and \"Phrases\"\n",
    "\n",
    "# you can use the $ to extract named items of a list\n",
    "# if you extract the numbers item from newList with the $, what other extraction method is this equivalent to?\n",
    "\n",
    "# use the dollar sign to repeat the addition from above (add 2 to each element in the numbers list)\n",
    "\n",
    "# add a new item called \"Brands\" to the list. It should contain the brands Kellogs, Nike, iPhone\n",
    "# use either brackets or the dollar sign to do that\n",
    "\n",
    "# remove the iPhone from the Brands item\n",
    "\n",
    "# remove the Brands item from the list"
   ]
  },
  {
   "cell_type": "markdown",
   "id": "95b93544",
   "metadata": {},
   "source": [
    "1.Write a R program to create an array with three columns, three rows, and two \"tables\", taking two vectors as input to the array. Print the array."
   ]
  },
  {
   "cell_type": "markdown",
   "id": "e1f5bac1",
   "metadata": {},
   "source": [
    "2.Write a R program to create a 5 × 4 matrix , 3 × 3 matrix with labels and fill the matrix by rows and 2 × 2 matrix with labels and fill the matrix by columns"
   ]
  },
  {
   "cell_type": "raw",
   "id": "83b3314a",
   "metadata": {},
   "source": [
    "3.Imagine that you are working for the Ghostbusters, and for safety reasons you are recording the height and weight for everyone or everything the team encounters. So far you have collected information about the following. entities: Dr Peter Venkman, Dr Raymond Stantz, Dr. Eagon Spengler, Dana Barrett, Vigo, Slimer, and the Marshmallow Man.\n",
    "# Create the following two vectors:\n",
    "# A vector called weight, storing the values: 71, 67, 83, 67\n",
    "# A vector called height, storing the values: 1.75, 1.81, 1.78, 1.82, 1.97, 2.12, 2.75\n",
    "# You need to calculate the BMI for all you have data for. BMI is calculated by dividing the weight in kg by the height in meters squared.\n",
    "# Carry out the operation and save the result in a variable called bmi.  \n",
    "# What is your output?\n",
    "# Try printing your bmi variable.\n",
    "# Can you explain how you got the last three values, given that your weight variable only had 4 elements?"
   ]
  },
  {
   "cell_type": "markdown",
   "id": "98401196",
   "metadata": {},
   "source": [
    "Date:07.07.2022"
   ]
  },
  {
   "cell_type": "markdown",
   "id": "639caf9d",
   "metadata": {},
   "source": [
    "1.Write a script that will print \"Even Number\" if the variable x is an even number, otherwise print \"Not Even\":\n",
    "\n",
    "2.Write a script that will print 'Is a Matrix' if the variable x is a matrix, otherwise print \"Not a Matrix\". Hint: You may want to check out help(is.matrix)\n",
    "\n",
    "3.3.Write a script that uses if,else if, and else statements to print the max element in a numeric vector with 3 elements."
   ]
  },
  {
   "cell_type": "markdown",
   "id": "1187725f",
   "metadata": {},
   "source": []
  },
  {
   "cell_type": "markdown",
   "id": "16f01ce9",
   "metadata": {},
   "source": []
  },
  {
   "cell_type": "code",
   "execution_count": null,
   "id": "217f8976",
   "metadata": {},
   "outputs": [],
   "source": []
  },
  {
   "cell_type": "code",
   "execution_count": null,
   "id": "be226b15",
   "metadata": {},
   "outputs": [],
   "source": []
  },
  {
   "cell_type": "code",
   "execution_count": null,
   "id": "84013931",
   "metadata": {},
   "outputs": [],
   "source": []
  },
  {
   "cell_type": "code",
   "execution_count": null,
   "id": "7329b4de",
   "metadata": {},
   "outputs": [],
   "source": []
  },
  {
   "cell_type": "code",
   "execution_count": null,
   "id": "411f3ac4",
   "metadata": {},
   "outputs": [],
   "source": []
  }
 ],
 "metadata": {
  "kernelspec": {
   "display_name": "R",
   "language": "R",
   "name": "ir"
  },
  "language_info": {
   "codemirror_mode": "r",
   "file_extension": ".r",
   "mimetype": "text/x-r-source",
   "name": "R",
   "pygments_lexer": "r",
   "version": "3.6.1"
  }
 },
 "nbformat": 4,
 "nbformat_minor": 5
}
