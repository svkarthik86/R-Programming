{
 "cells": [
  {
   "cell_type": "markdown",
   "id": "014b5e20-46ec-439f-8329-a24a9ccb3742",
   "metadata": {},
   "source": [
    "### Data Reshaping in R "
   ]
  },
  {
   "cell_type": "markdown",
   "id": "f548be28-1416-4980-8498-0efdfc6fcfbc",
   "metadata": {},
   "source": [
    "For an analysis project, the gathered data is messy and unstructured most of the time. It is collected from different sources, has different variables, and has irregular formats"
   ]
  },
  {
   "cell_type": "markdown",
   "id": "3c35ad02-ecfa-42cc-a3c3-008bc63b9ea0",
   "metadata": {},
   "source": [
    "- What is Data Reshaping in R?\n",
    "- Before we can perform any kind of analysis, we first need to shape the gathered data into a regular and processable format. We need to ensure that all of the data fits into proper variables.\n",
    "- We also need to take care of missing values and put placeholders in their place that our analysis tools can understand.\n",
    "- This is the first step in any analysis project. We call this process as data reshaping.\n",
    "- Now let’s learn popular functions used for data reshaping in R.\n",
    "- The cbind(), rbind(), and t() Functions\n",
    "- There are many functions in R that allow us to manipulate data objects in many ways."
   ]
  },
  {
   "cell_type": "code",
   "execution_count": null,
   "id": "63b5d75b-a1f5-4eff-9259-377c3aed8c1e",
   "metadata": {},
   "outputs": [],
   "source": [
    "cbind(), rbind(), and t() are the most commonly used functions for data reshaping. \n",
    "We will be going through them one-by-one:"
   ]
  },
  {
   "cell_type": "code",
   "execution_count": 2,
   "id": "fda9dc06-af8d-4109-8e5d-e50e698066a9",
   "metadata": {},
   "outputs": [],
   "source": [
    "vec1 <- c(1,2,3,4,5)\n",
    "vec2 <- c(6,7,8,9,10)\n",
    "mat1 <- matrix(c(1:15),c(5,3))\n",
    "mat2 <- matrix(c(16:30),c(5,3))\n",
    "df1 <- data.frame(matrix(c(1:30),nrow=5))\n",
    "df2 <- data.frame(matrix(c(31:60),nrow=5))\n"
   ]
  },
  {
   "cell_type": "code",
   "execution_count": 125,
   "id": "b1bcd5d3-76a3-4766-9bd9-72f38356e27a",
   "metadata": {},
   "outputs": [
    {
     "data": {
      "text/html": [
       "<table class=\"dataframe\">\n",
       "<caption>A matrix: 5 × 4 of type dbl</caption>\n",
       "<thead>\n",
       "\t<tr><th scope=col>vec1</th><th scope=col>vec2</th><th scope=col>vec1</th><th scope=col>nv1</th></tr>\n",
       "</thead>\n",
       "<tbody>\n",
       "\t<tr><td>1</td><td> 6</td><td>1</td><td>1</td></tr>\n",
       "\t<tr><td>2</td><td> 7</td><td>2</td><td>2</td></tr>\n",
       "\t<tr><td>3</td><td> 8</td><td>3</td><td>3</td></tr>\n",
       "\t<tr><td>4</td><td> 9</td><td>4</td><td>4</td></tr>\n",
       "\t<tr><td>5</td><td>10</td><td>5</td><td>5</td></tr>\n",
       "</tbody>\n",
       "</table>\n"
      ],
      "text/latex": [
       "A matrix: 5 × 4 of type dbl\n",
       "\\begin{tabular}{llll}\n",
       " vec1 & vec2 & vec1 & nv1\\\\\n",
       "\\hline\n",
       "\t 1 &  6 & 1 & 1\\\\\n",
       "\t 2 &  7 & 2 & 2\\\\\n",
       "\t 3 &  8 & 3 & 3\\\\\n",
       "\t 4 &  9 & 4 & 4\\\\\n",
       "\t 5 & 10 & 5 & 5\\\\\n",
       "\\end{tabular}\n"
      ],
      "text/markdown": [
       "\n",
       "A matrix: 5 × 4 of type dbl\n",
       "\n",
       "| vec1 | vec2 | vec1 | nv1 |\n",
       "|---|---|---|---|\n",
       "| 1 |  6 | 1 | 1 |\n",
       "| 2 |  7 | 2 | 2 |\n",
       "| 3 |  8 | 3 | 3 |\n",
       "| 4 |  9 | 4 | 4 |\n",
       "| 5 | 10 | 5 | 5 |\n",
       "\n"
      ],
      "text/plain": [
       "     vec1 vec2 vec1 nv1\n",
       "[1,] 1     6   1    1  \n",
       "[2,] 2     7   2    2  \n",
       "[3,] 3     8   3    3  \n",
       "[4,] 4     9   4    4  \n",
       "[5,] 5    10   5    5  "
      ]
     },
     "metadata": {},
     "output_type": "display_data"
    }
   ],
   "source": [
    "cbind(vec1,vec2,vec1,nv1=c(1:5))"
   ]
  },
  {
   "cell_type": "code",
   "execution_count": 4,
   "id": "a6e3762d-3bda-47f2-a01c-7ebdd9e075e9",
   "metadata": {},
   "outputs": [
    {
     "data": {
      "text/html": [
       "<table class=\"dataframe\">\n",
       "<caption>A matrix: 5 × 3 of type int</caption>\n",
       "<tbody>\n",
       "\t<tr><td>16</td><td>21</td><td>26</td></tr>\n",
       "\t<tr><td>17</td><td>22</td><td>27</td></tr>\n",
       "\t<tr><td>18</td><td>23</td><td>28</td></tr>\n",
       "\t<tr><td>19</td><td>24</td><td>29</td></tr>\n",
       "\t<tr><td>20</td><td>25</td><td>30</td></tr>\n",
       "</tbody>\n",
       "</table>\n"
      ],
      "text/latex": [
       "A matrix: 5 × 3 of type int\n",
       "\\begin{tabular}{lll}\n",
       "\t 16 & 21 & 26\\\\\n",
       "\t 17 & 22 & 27\\\\\n",
       "\t 18 & 23 & 28\\\\\n",
       "\t 19 & 24 & 29\\\\\n",
       "\t 20 & 25 & 30\\\\\n",
       "\\end{tabular}\n"
      ],
      "text/markdown": [
       "\n",
       "A matrix: 5 × 3 of type int\n",
       "\n",
       "| 16 | 21 | 26 |\n",
       "| 17 | 22 | 27 |\n",
       "| 18 | 23 | 28 |\n",
       "| 19 | 24 | 29 |\n",
       "| 20 | 25 | 30 |\n",
       "\n"
      ],
      "text/plain": [
       "     [,1] [,2] [,3]\n",
       "[1,] 16   21   26  \n",
       "[2,] 17   22   27  \n",
       "[3,] 18   23   28  \n",
       "[4,] 19   24   29  \n",
       "[5,] 20   25   30  "
      ]
     },
     "metadata": {},
     "output_type": "display_data"
    }
   ],
   "source": [
    "mat2"
   ]
  },
  {
   "cell_type": "code",
   "execution_count": 7,
   "id": "6f9af5e9-661e-4738-8544-2a87ee7a8b45",
   "metadata": {},
   "outputs": [
    {
     "data": {
      "text/html": [
       "<table class=\"dataframe\">\n",
       "<caption>A matrix: 5 × 6 of type int</caption>\n",
       "<tbody>\n",
       "\t<tr><td>1</td><td> 6</td><td>11</td><td>16</td><td>21</td><td>26</td></tr>\n",
       "\t<tr><td>2</td><td> 7</td><td>12</td><td>17</td><td>22</td><td>27</td></tr>\n",
       "\t<tr><td>3</td><td> 8</td><td>13</td><td>18</td><td>23</td><td>28</td></tr>\n",
       "\t<tr><td>4</td><td> 9</td><td>14</td><td>19</td><td>24</td><td>29</td></tr>\n",
       "\t<tr><td>5</td><td>10</td><td>15</td><td>20</td><td>25</td><td>30</td></tr>\n",
       "</tbody>\n",
       "</table>\n"
      ],
      "text/latex": [
       "A matrix: 5 × 6 of type int\n",
       "\\begin{tabular}{llllll}\n",
       "\t 1 &  6 & 11 & 16 & 21 & 26\\\\\n",
       "\t 2 &  7 & 12 & 17 & 22 & 27\\\\\n",
       "\t 3 &  8 & 13 & 18 & 23 & 28\\\\\n",
       "\t 4 &  9 & 14 & 19 & 24 & 29\\\\\n",
       "\t 5 & 10 & 15 & 20 & 25 & 30\\\\\n",
       "\\end{tabular}\n"
      ],
      "text/markdown": [
       "\n",
       "A matrix: 5 × 6 of type int\n",
       "\n",
       "| 1 |  6 | 11 | 16 | 21 | 26 |\n",
       "| 2 |  7 | 12 | 17 | 22 | 27 |\n",
       "| 3 |  8 | 13 | 18 | 23 | 28 |\n",
       "| 4 |  9 | 14 | 19 | 24 | 29 |\n",
       "| 5 | 10 | 15 | 20 | 25 | 30 |\n",
       "\n"
      ],
      "text/plain": [
       "     [,1] [,2] [,3] [,4] [,5] [,6]\n",
       "[1,] 1     6   11   16   21   26  \n",
       "[2,] 2     7   12   17   22   27  \n",
       "[3,] 3     8   13   18   23   28  \n",
       "[4,] 4     9   14   19   24   29  \n",
       "[5,] 5    10   15   20   25   30  "
      ]
     },
     "metadata": {},
     "output_type": "display_data"
    }
   ],
   "source": [
    "cbind(mat1,mat2)"
   ]
  },
  {
   "cell_type": "code",
   "execution_count": 11,
   "id": "0a5fe622-0992-480b-8ea2-2dca05cad9ce",
   "metadata": {},
   "outputs": [
    {
     "data": {
      "text/html": [
       "<table class=\"dataframe\">\n",
       "<caption>A data.frame: 5 × 6</caption>\n",
       "<thead>\n",
       "\t<tr><th scope=col>X1</th><th scope=col>X2</th><th scope=col>X3</th><th scope=col>X4</th><th scope=col>X5</th><th scope=col>X6</th></tr>\n",
       "\t<tr><th scope=col>&lt;int&gt;</th><th scope=col>&lt;int&gt;</th><th scope=col>&lt;int&gt;</th><th scope=col>&lt;int&gt;</th><th scope=col>&lt;int&gt;</th><th scope=col>&lt;int&gt;</th></tr>\n",
       "</thead>\n",
       "<tbody>\n",
       "\t<tr><td>31</td><td>36</td><td>41</td><td>46</td><td>51</td><td>56</td></tr>\n",
       "\t<tr><td>32</td><td>37</td><td>42</td><td>47</td><td>52</td><td>57</td></tr>\n",
       "\t<tr><td>33</td><td>38</td><td>43</td><td>48</td><td>53</td><td>58</td></tr>\n",
       "\t<tr><td>34</td><td>39</td><td>44</td><td>49</td><td>54</td><td>59</td></tr>\n",
       "\t<tr><td>35</td><td>40</td><td>45</td><td>50</td><td>55</td><td>60</td></tr>\n",
       "</tbody>\n",
       "</table>\n"
      ],
      "text/latex": [
       "A data.frame: 5 × 6\n",
       "\\begin{tabular}{llllll}\n",
       " X1 & X2 & X3 & X4 & X5 & X6\\\\\n",
       " <int> & <int> & <int> & <int> & <int> & <int>\\\\\n",
       "\\hline\n",
       "\t 31 & 36 & 41 & 46 & 51 & 56\\\\\n",
       "\t 32 & 37 & 42 & 47 & 52 & 57\\\\\n",
       "\t 33 & 38 & 43 & 48 & 53 & 58\\\\\n",
       "\t 34 & 39 & 44 & 49 & 54 & 59\\\\\n",
       "\t 35 & 40 & 45 & 50 & 55 & 60\\\\\n",
       "\\end{tabular}\n"
      ],
      "text/markdown": [
       "\n",
       "A data.frame: 5 × 6\n",
       "\n",
       "| X1 &lt;int&gt; | X2 &lt;int&gt; | X3 &lt;int&gt; | X4 &lt;int&gt; | X5 &lt;int&gt; | X6 &lt;int&gt; |\n",
       "|---|---|---|---|---|---|\n",
       "| 31 | 36 | 41 | 46 | 51 | 56 |\n",
       "| 32 | 37 | 42 | 47 | 52 | 57 |\n",
       "| 33 | 38 | 43 | 48 | 53 | 58 |\n",
       "| 34 | 39 | 44 | 49 | 54 | 59 |\n",
       "| 35 | 40 | 45 | 50 | 55 | 60 |\n",
       "\n"
      ],
      "text/plain": [
       "  X1 X2 X3 X4 X5 X6\n",
       "1 31 36 41 46 51 56\n",
       "2 32 37 42 47 52 57\n",
       "3 33 38 43 48 53 58\n",
       "4 34 39 44 49 54 59\n",
       "5 35 40 45 50 55 60"
      ]
     },
     "metadata": {},
     "output_type": "display_data"
    }
   ],
   "source": [
    "df2"
   ]
  },
  {
   "cell_type": "code",
   "execution_count": 14,
   "id": "929be9bf-86ec-4670-a6c3-1bf1a3f8b92d",
   "metadata": {},
   "outputs": [
    {
     "data": {
      "text/html": [
       "<table class=\"dataframe\">\n",
       "<caption>A data.frame: 5 × 12</caption>\n",
       "<thead>\n",
       "\t<tr><th scope=col>X1</th><th scope=col>X2</th><th scope=col>X3</th><th scope=col>X4</th><th scope=col>X5</th><th scope=col>X6</th><th scope=col>X1</th><th scope=col>X2</th><th scope=col>X3</th><th scope=col>X4</th><th scope=col>X5</th><th scope=col>X6</th></tr>\n",
       "\t<tr><th scope=col>&lt;int&gt;</th><th scope=col>&lt;int&gt;</th><th scope=col>&lt;int&gt;</th><th scope=col>&lt;int&gt;</th><th scope=col>&lt;int&gt;</th><th scope=col>&lt;int&gt;</th><th scope=col>&lt;int&gt;</th><th scope=col>&lt;int&gt;</th><th scope=col>&lt;int&gt;</th><th scope=col>&lt;int&gt;</th><th scope=col>&lt;int&gt;</th><th scope=col>&lt;int&gt;</th></tr>\n",
       "</thead>\n",
       "<tbody>\n",
       "\t<tr><td>1</td><td> 6</td><td>11</td><td>16</td><td>21</td><td>26</td><td>31</td><td>36</td><td>41</td><td>46</td><td>51</td><td>56</td></tr>\n",
       "\t<tr><td>2</td><td> 7</td><td>12</td><td>17</td><td>22</td><td>27</td><td>32</td><td>37</td><td>42</td><td>47</td><td>52</td><td>57</td></tr>\n",
       "\t<tr><td>3</td><td> 8</td><td>13</td><td>18</td><td>23</td><td>28</td><td>33</td><td>38</td><td>43</td><td>48</td><td>53</td><td>58</td></tr>\n",
       "\t<tr><td>4</td><td> 9</td><td>14</td><td>19</td><td>24</td><td>29</td><td>34</td><td>39</td><td>44</td><td>49</td><td>54</td><td>59</td></tr>\n",
       "\t<tr><td>5</td><td>10</td><td>15</td><td>20</td><td>25</td><td>30</td><td>35</td><td>40</td><td>45</td><td>50</td><td>55</td><td>60</td></tr>\n",
       "</tbody>\n",
       "</table>\n"
      ],
      "text/latex": [
       "A data.frame: 5 × 12\n",
       "\\begin{tabular}{llllllllllll}\n",
       " X1 & X2 & X3 & X4 & X5 & X6 & X1 & X2 & X3 & X4 & X5 & X6\\\\\n",
       " <int> & <int> & <int> & <int> & <int> & <int> & <int> & <int> & <int> & <int> & <int> & <int>\\\\\n",
       "\\hline\n",
       "\t 1 &  6 & 11 & 16 & 21 & 26 & 31 & 36 & 41 & 46 & 51 & 56\\\\\n",
       "\t 2 &  7 & 12 & 17 & 22 & 27 & 32 & 37 & 42 & 47 & 52 & 57\\\\\n",
       "\t 3 &  8 & 13 & 18 & 23 & 28 & 33 & 38 & 43 & 48 & 53 & 58\\\\\n",
       "\t 4 &  9 & 14 & 19 & 24 & 29 & 34 & 39 & 44 & 49 & 54 & 59\\\\\n",
       "\t 5 & 10 & 15 & 20 & 25 & 30 & 35 & 40 & 45 & 50 & 55 & 60\\\\\n",
       "\\end{tabular}\n"
      ],
      "text/markdown": [
       "\n",
       "A data.frame: 5 × 12\n",
       "\n",
       "| X1 &lt;int&gt; | X2 &lt;int&gt; | X3 &lt;int&gt; | X4 &lt;int&gt; | X5 &lt;int&gt; | X6 &lt;int&gt; | X1 &lt;int&gt; | X2 &lt;int&gt; | X3 &lt;int&gt; | X4 &lt;int&gt; | X5 &lt;int&gt; | X6 &lt;int&gt; |\n",
       "|---|---|---|---|---|---|---|---|---|---|---|---|\n",
       "| 1 |  6 | 11 | 16 | 21 | 26 | 31 | 36 | 41 | 46 | 51 | 56 |\n",
       "| 2 |  7 | 12 | 17 | 22 | 27 | 32 | 37 | 42 | 47 | 52 | 57 |\n",
       "| 3 |  8 | 13 | 18 | 23 | 28 | 33 | 38 | 43 | 48 | 53 | 58 |\n",
       "| 4 |  9 | 14 | 19 | 24 | 29 | 34 | 39 | 44 | 49 | 54 | 59 |\n",
       "| 5 | 10 | 15 | 20 | 25 | 30 | 35 | 40 | 45 | 50 | 55 | 60 |\n",
       "\n"
      ],
      "text/plain": [
       "  X1 X2 X3 X4 X5 X6 X1 X2 X3 X4 X5 X6\n",
       "1 1   6 11 16 21 26 31 36 41 46 51 56\n",
       "2 2   7 12 17 22 27 32 37 42 47 52 57\n",
       "3 3   8 13 18 23 28 33 38 43 48 53 58\n",
       "4 4   9 14 19 24 29 34 39 44 49 54 59\n",
       "5 5  10 15 20 25 30 35 40 45 50 55 60"
      ]
     },
     "metadata": {},
     "output_type": "display_data"
    }
   ],
   "source": [
    "cbind(df1,df2)"
   ]
  },
  {
   "cell_type": "code",
   "execution_count": 9,
   "id": "fc81e75e-a99e-4d53-8b10-1c7ab7337f84",
   "metadata": {},
   "outputs": [
    {
     "data": {
      "text/html": [
       "<table class=\"dataframe\">\n",
       "<caption>A data.frame: 5 × 6</caption>\n",
       "<thead>\n",
       "\t<tr><th scope=col>X1</th><th scope=col>X2</th><th scope=col>X3</th><th scope=col>X4</th><th scope=col>X5</th><th scope=col>X6</th></tr>\n",
       "\t<tr><th scope=col>&lt;int&gt;</th><th scope=col>&lt;int&gt;</th><th scope=col>&lt;int&gt;</th><th scope=col>&lt;int&gt;</th><th scope=col>&lt;int&gt;</th><th scope=col>&lt;int&gt;</th></tr>\n",
       "</thead>\n",
       "<tbody>\n",
       "\t<tr><td>31</td><td>36</td><td>41</td><td>46</td><td>51</td><td>56</td></tr>\n",
       "\t<tr><td>32</td><td>37</td><td>42</td><td>47</td><td>52</td><td>57</td></tr>\n",
       "\t<tr><td>33</td><td>38</td><td>43</td><td>48</td><td>53</td><td>58</td></tr>\n",
       "\t<tr><td>34</td><td>39</td><td>44</td><td>49</td><td>54</td><td>59</td></tr>\n",
       "\t<tr><td>35</td><td>40</td><td>45</td><td>50</td><td>55</td><td>60</td></tr>\n",
       "</tbody>\n",
       "</table>\n"
      ],
      "text/latex": [
       "A data.frame: 5 × 6\n",
       "\\begin{tabular}{llllll}\n",
       " X1 & X2 & X3 & X4 & X5 & X6\\\\\n",
       " <int> & <int> & <int> & <int> & <int> & <int>\\\\\n",
       "\\hline\n",
       "\t 31 & 36 & 41 & 46 & 51 & 56\\\\\n",
       "\t 32 & 37 & 42 & 47 & 52 & 57\\\\\n",
       "\t 33 & 38 & 43 & 48 & 53 & 58\\\\\n",
       "\t 34 & 39 & 44 & 49 & 54 & 59\\\\\n",
       "\t 35 & 40 & 45 & 50 & 55 & 60\\\\\n",
       "\\end{tabular}\n"
      ],
      "text/markdown": [
       "\n",
       "A data.frame: 5 × 6\n",
       "\n",
       "| X1 &lt;int&gt; | X2 &lt;int&gt; | X3 &lt;int&gt; | X4 &lt;int&gt; | X5 &lt;int&gt; | X6 &lt;int&gt; |\n",
       "|---|---|---|---|---|---|\n",
       "| 31 | 36 | 41 | 46 | 51 | 56 |\n",
       "| 32 | 37 | 42 | 47 | 52 | 57 |\n",
       "| 33 | 38 | 43 | 48 | 53 | 58 |\n",
       "| 34 | 39 | 44 | 49 | 54 | 59 |\n",
       "| 35 | 40 | 45 | 50 | 55 | 60 |\n",
       "\n"
      ],
      "text/plain": [
       "  X1 X2 X3 X4 X5 X6\n",
       "1 31 36 41 46 51 56\n",
       "2 32 37 42 47 52 57\n",
       "3 33 38 43 48 53 58\n",
       "4 34 39 44 49 54 59\n",
       "5 35 40 45 50 55 60"
      ]
     },
     "metadata": {},
     "output_type": "display_data"
    }
   ],
   "source": [
    "df2"
   ]
  },
  {
   "cell_type": "code",
   "execution_count": 15,
   "id": "60d8ac70-836d-4463-abb7-e4187d5b27f8",
   "metadata": {},
   "outputs": [
    {
     "data": {
      "text/html": [
       "<table class=\"dataframe\">\n",
       "<caption>A data.frame: 10 × 6</caption>\n",
       "<thead>\n",
       "\t<tr><th scope=col>X1</th><th scope=col>X2</th><th scope=col>X3</th><th scope=col>X4</th><th scope=col>X5</th><th scope=col>X6</th></tr>\n",
       "\t<tr><th scope=col>&lt;int&gt;</th><th scope=col>&lt;int&gt;</th><th scope=col>&lt;int&gt;</th><th scope=col>&lt;int&gt;</th><th scope=col>&lt;int&gt;</th><th scope=col>&lt;int&gt;</th></tr>\n",
       "</thead>\n",
       "<tbody>\n",
       "\t<tr><td> 1</td><td> 6</td><td>11</td><td>16</td><td>21</td><td>26</td></tr>\n",
       "\t<tr><td> 2</td><td> 7</td><td>12</td><td>17</td><td>22</td><td>27</td></tr>\n",
       "\t<tr><td> 3</td><td> 8</td><td>13</td><td>18</td><td>23</td><td>28</td></tr>\n",
       "\t<tr><td> 4</td><td> 9</td><td>14</td><td>19</td><td>24</td><td>29</td></tr>\n",
       "\t<tr><td> 5</td><td>10</td><td>15</td><td>20</td><td>25</td><td>30</td></tr>\n",
       "\t<tr><td>31</td><td>36</td><td>41</td><td>46</td><td>51</td><td>56</td></tr>\n",
       "\t<tr><td>32</td><td>37</td><td>42</td><td>47</td><td>52</td><td>57</td></tr>\n",
       "\t<tr><td>33</td><td>38</td><td>43</td><td>48</td><td>53</td><td>58</td></tr>\n",
       "\t<tr><td>34</td><td>39</td><td>44</td><td>49</td><td>54</td><td>59</td></tr>\n",
       "\t<tr><td>35</td><td>40</td><td>45</td><td>50</td><td>55</td><td>60</td></tr>\n",
       "</tbody>\n",
       "</table>\n"
      ],
      "text/latex": [
       "A data.frame: 10 × 6\n",
       "\\begin{tabular}{llllll}\n",
       " X1 & X2 & X3 & X4 & X5 & X6\\\\\n",
       " <int> & <int> & <int> & <int> & <int> & <int>\\\\\n",
       "\\hline\n",
       "\t  1 &  6 & 11 & 16 & 21 & 26\\\\\n",
       "\t  2 &  7 & 12 & 17 & 22 & 27\\\\\n",
       "\t  3 &  8 & 13 & 18 & 23 & 28\\\\\n",
       "\t  4 &  9 & 14 & 19 & 24 & 29\\\\\n",
       "\t  5 & 10 & 15 & 20 & 25 & 30\\\\\n",
       "\t 31 & 36 & 41 & 46 & 51 & 56\\\\\n",
       "\t 32 & 37 & 42 & 47 & 52 & 57\\\\\n",
       "\t 33 & 38 & 43 & 48 & 53 & 58\\\\\n",
       "\t 34 & 39 & 44 & 49 & 54 & 59\\\\\n",
       "\t 35 & 40 & 45 & 50 & 55 & 60\\\\\n",
       "\\end{tabular}\n"
      ],
      "text/markdown": [
       "\n",
       "A data.frame: 10 × 6\n",
       "\n",
       "| X1 &lt;int&gt; | X2 &lt;int&gt; | X3 &lt;int&gt; | X4 &lt;int&gt; | X5 &lt;int&gt; | X6 &lt;int&gt; |\n",
       "|---|---|---|---|---|---|\n",
       "|  1 |  6 | 11 | 16 | 21 | 26 |\n",
       "|  2 |  7 | 12 | 17 | 22 | 27 |\n",
       "|  3 |  8 | 13 | 18 | 23 | 28 |\n",
       "|  4 |  9 | 14 | 19 | 24 | 29 |\n",
       "|  5 | 10 | 15 | 20 | 25 | 30 |\n",
       "| 31 | 36 | 41 | 46 | 51 | 56 |\n",
       "| 32 | 37 | 42 | 47 | 52 | 57 |\n",
       "| 33 | 38 | 43 | 48 | 53 | 58 |\n",
       "| 34 | 39 | 44 | 49 | 54 | 59 |\n",
       "| 35 | 40 | 45 | 50 | 55 | 60 |\n",
       "\n"
      ],
      "text/plain": [
       "   X1 X2 X3 X4 X5 X6\n",
       "1   1  6 11 16 21 26\n",
       "2   2  7 12 17 22 27\n",
       "3   3  8 13 18 23 28\n",
       "4   4  9 14 19 24 29\n",
       "5   5 10 15 20 25 30\n",
       "6  31 36 41 46 51 56\n",
       "7  32 37 42 47 52 57\n",
       "8  33 38 43 48 53 58\n",
       "9  34 39 44 49 54 59\n",
       "10 35 40 45 50 55 60"
      ]
     },
     "metadata": {},
     "output_type": "display_data"
    }
   ],
   "source": [
    "rbind(df1,df2)"
   ]
  },
  {
   "cell_type": "code",
   "execution_count": 20,
   "id": "855822f1-e979-4c8b-9a4f-44de64d6d013",
   "metadata": {},
   "outputs": [
    {
     "data": {
      "text/html": [
       "<table class=\"dataframe\">\n",
       "<caption>A matrix: 5 × 4 of type dbl</caption>\n",
       "<thead>\n",
       "\t<tr><th scope=col>vec1</th><th scope=col></th><th scope=col></th><th scope=col></th></tr>\n",
       "</thead>\n",
       "<tbody>\n",
       "\t<tr><td>1</td><td>16</td><td>21</td><td>26</td></tr>\n",
       "\t<tr><td>2</td><td>17</td><td>22</td><td>27</td></tr>\n",
       "\t<tr><td>3</td><td>18</td><td>23</td><td>28</td></tr>\n",
       "\t<tr><td>4</td><td>19</td><td>24</td><td>29</td></tr>\n",
       "\t<tr><td>5</td><td>20</td><td>25</td><td>30</td></tr>\n",
       "</tbody>\n",
       "</table>\n"
      ],
      "text/latex": [
       "A matrix: 5 × 4 of type dbl\n",
       "\\begin{tabular}{llll}\n",
       " vec1 &  &  & \\\\\n",
       "\\hline\n",
       "\t 1 & 16 & 21 & 26\\\\\n",
       "\t 2 & 17 & 22 & 27\\\\\n",
       "\t 3 & 18 & 23 & 28\\\\\n",
       "\t 4 & 19 & 24 & 29\\\\\n",
       "\t 5 & 20 & 25 & 30\\\\\n",
       "\\end{tabular}\n"
      ],
      "text/markdown": [
       "\n",
       "A matrix: 5 × 4 of type dbl\n",
       "\n",
       "| vec1 | <!----> | <!----> | <!----> |\n",
       "|---|---|---|---|\n",
       "| 1 | 16 | 21 | 26 |\n",
       "| 2 | 17 | 22 | 27 |\n",
       "| 3 | 18 | 23 | 28 |\n",
       "| 4 | 19 | 24 | 29 |\n",
       "| 5 | 20 | 25 | 30 |\n",
       "\n"
      ],
      "text/plain": [
       "     vec1         \n",
       "[1,] 1    16 21 26\n",
       "[2,] 2    17 22 27\n",
       "[3,] 3    18 23 28\n",
       "[4,] 4    19 24 29\n",
       "[5,] 5    20 25 30"
      ]
     },
     "metadata": {},
     "output_type": "display_data"
    }
   ],
   "source": [
    "cbind(vec1,mat2)"
   ]
  },
  {
   "cell_type": "code",
   "execution_count": 19,
   "id": "38ddf9db-22bc-456d-8843-0f05cb8dc0f1",
   "metadata": {},
   "outputs": [
    {
     "data": {
      "text/html": [
       "<table class=\"dataframe\">\n",
       "<caption>A matrix: 5 × 3 of type int</caption>\n",
       "<tbody>\n",
       "\t<tr><td>16</td><td>21</td><td>26</td></tr>\n",
       "\t<tr><td>17</td><td>22</td><td>27</td></tr>\n",
       "\t<tr><td>18</td><td>23</td><td>28</td></tr>\n",
       "\t<tr><td>19</td><td>24</td><td>29</td></tr>\n",
       "\t<tr><td>20</td><td>25</td><td>30</td></tr>\n",
       "</tbody>\n",
       "</table>\n"
      ],
      "text/latex": [
       "A matrix: 5 × 3 of type int\n",
       "\\begin{tabular}{lll}\n",
       "\t 16 & 21 & 26\\\\\n",
       "\t 17 & 22 & 27\\\\\n",
       "\t 18 & 23 & 28\\\\\n",
       "\t 19 & 24 & 29\\\\\n",
       "\t 20 & 25 & 30\\\\\n",
       "\\end{tabular}\n"
      ],
      "text/markdown": [
       "\n",
       "A matrix: 5 × 3 of type int\n",
       "\n",
       "| 16 | 21 | 26 |\n",
       "| 17 | 22 | 27 |\n",
       "| 18 | 23 | 28 |\n",
       "| 19 | 24 | 29 |\n",
       "| 20 | 25 | 30 |\n",
       "\n"
      ],
      "text/plain": [
       "     [,1] [,2] [,3]\n",
       "[1,] 16   21   26  \n",
       "[2,] 17   22   27  \n",
       "[3,] 18   23   28  \n",
       "[4,] 19   24   29  \n",
       "[5,] 20   25   30  "
      ]
     },
     "metadata": {},
     "output_type": "display_data"
    }
   ],
   "source": [
    "mat2"
   ]
  },
  {
   "cell_type": "code",
   "execution_count": 24,
   "id": "5583f0d0-b5b4-4eaa-ada7-8b1269cdb2fc",
   "metadata": {},
   "outputs": [
    {
     "data": {
      "text/html": [
       "<table class=\"dataframe\">\n",
       "<caption>A data.frame: 5 × 7</caption>\n",
       "<thead>\n",
       "\t<tr><th scope=col>vec2</th><th scope=col>X1</th><th scope=col>X2</th><th scope=col>X3</th><th scope=col>X4</th><th scope=col>X5</th><th scope=col>X6</th></tr>\n",
       "\t<tr><th scope=col>&lt;dbl&gt;</th><th scope=col>&lt;int&gt;</th><th scope=col>&lt;int&gt;</th><th scope=col>&lt;int&gt;</th><th scope=col>&lt;int&gt;</th><th scope=col>&lt;int&gt;</th><th scope=col>&lt;int&gt;</th></tr>\n",
       "</thead>\n",
       "<tbody>\n",
       "\t<tr><td> 6</td><td>1</td><td> 6</td><td>11</td><td>16</td><td>21</td><td>26</td></tr>\n",
       "\t<tr><td> 7</td><td>2</td><td> 7</td><td>12</td><td>17</td><td>22</td><td>27</td></tr>\n",
       "\t<tr><td> 8</td><td>3</td><td> 8</td><td>13</td><td>18</td><td>23</td><td>28</td></tr>\n",
       "\t<tr><td> 9</td><td>4</td><td> 9</td><td>14</td><td>19</td><td>24</td><td>29</td></tr>\n",
       "\t<tr><td>10</td><td>5</td><td>10</td><td>15</td><td>20</td><td>25</td><td>30</td></tr>\n",
       "</tbody>\n",
       "</table>\n"
      ],
      "text/latex": [
       "A data.frame: 5 × 7\n",
       "\\begin{tabular}{lllllll}\n",
       " vec2 & X1 & X2 & X3 & X4 & X5 & X6\\\\\n",
       " <dbl> & <int> & <int> & <int> & <int> & <int> & <int>\\\\\n",
       "\\hline\n",
       "\t  6 & 1 &  6 & 11 & 16 & 21 & 26\\\\\n",
       "\t  7 & 2 &  7 & 12 & 17 & 22 & 27\\\\\n",
       "\t  8 & 3 &  8 & 13 & 18 & 23 & 28\\\\\n",
       "\t  9 & 4 &  9 & 14 & 19 & 24 & 29\\\\\n",
       "\t 10 & 5 & 10 & 15 & 20 & 25 & 30\\\\\n",
       "\\end{tabular}\n"
      ],
      "text/markdown": [
       "\n",
       "A data.frame: 5 × 7\n",
       "\n",
       "| vec2 &lt;dbl&gt; | X1 &lt;int&gt; | X2 &lt;int&gt; | X3 &lt;int&gt; | X4 &lt;int&gt; | X5 &lt;int&gt; | X6 &lt;int&gt; |\n",
       "|---|---|---|---|---|---|---|\n",
       "|  6 | 1 |  6 | 11 | 16 | 21 | 26 |\n",
       "|  7 | 2 |  7 | 12 | 17 | 22 | 27 |\n",
       "|  8 | 3 |  8 | 13 | 18 | 23 | 28 |\n",
       "|  9 | 4 |  9 | 14 | 19 | 24 | 29 |\n",
       "| 10 | 5 | 10 | 15 | 20 | 25 | 30 |\n",
       "\n"
      ],
      "text/plain": [
       "  vec2 X1 X2 X3 X4 X5 X6\n",
       "1  6   1   6 11 16 21 26\n",
       "2  7   2   7 12 17 22 27\n",
       "3  8   3   8 13 18 23 28\n",
       "4  9   4   9 14 19 24 29\n",
       "5 10   5  10 15 20 25 30"
      ]
     },
     "metadata": {},
     "output_type": "display_data"
    }
   ],
   "source": [
    "cbind(vec2,df1)"
   ]
  },
  {
   "cell_type": "markdown",
   "id": "f146b72e-d7f0-4bf1-9d5d-ee98eb09d607",
   "metadata": {},
   "source": [
    "Note: The number of rows should be the same for the cbind() function to work."
   ]
  },
  {
   "cell_type": "code",
   "execution_count": null,
   "id": "69eee7e0-2f49-4247-a29b-f790cb02e74e",
   "metadata": {},
   "outputs": [],
   "source": [
    "2. rbind(): The rbind() function allows us to join objects as rows."
   ]
  },
  {
   "cell_type": "code",
   "execution_count": 25,
   "id": "77e1c149-4c9c-455d-a80e-d5b5301f2f92",
   "metadata": {},
   "outputs": [
    {
     "data": {
      "text/html": [
       "<table class=\"dataframe\">\n",
       "<caption>A matrix: 2 × 5 of type dbl</caption>\n",
       "<tbody>\n",
       "\t<tr><th scope=row>vec1</th><td>1</td><td>2</td><td>3</td><td>4</td><td> 5</td></tr>\n",
       "\t<tr><th scope=row>vec2</th><td>6</td><td>7</td><td>8</td><td>9</td><td>10</td></tr>\n",
       "</tbody>\n",
       "</table>\n"
      ],
      "text/latex": [
       "A matrix: 2 × 5 of type dbl\n",
       "\\begin{tabular}{r|lllll}\n",
       "\tvec1 & 1 & 2 & 3 & 4 &  5\\\\\n",
       "\tvec2 & 6 & 7 & 8 & 9 & 10\\\\\n",
       "\\end{tabular}\n"
      ],
      "text/markdown": [
       "\n",
       "A matrix: 2 × 5 of type dbl\n",
       "\n",
       "| vec1 | 1 | 2 | 3 | 4 |  5 |\n",
       "| vec2 | 6 | 7 | 8 | 9 | 10 |\n",
       "\n"
      ],
      "text/plain": [
       "     [,1] [,2] [,3] [,4] [,5]\n",
       "vec1 1    2    3    4     5  \n",
       "vec2 6    7    8    9    10  "
      ]
     },
     "metadata": {},
     "output_type": "display_data"
    }
   ],
   "source": [
    "rbind(vec1,vec2)"
   ]
  },
  {
   "cell_type": "code",
   "execution_count": 19,
   "id": "37f8de64-6e81-4def-8652-fc626889e52f",
   "metadata": {},
   "outputs": [
    {
     "data": {
      "text/html": [
       "<table class=\"dataframe\">\n",
       "<caption>A data.frame: 6 × 6</caption>\n",
       "<thead>\n",
       "\t<tr><th scope=col>X1</th><th scope=col>X2</th><th scope=col>X3</th><th scope=col>X4</th><th scope=col>X5</th><th scope=col>X6</th></tr>\n",
       "\t<tr><th scope=col>&lt;dbl&gt;</th><th scope=col>&lt;dbl&gt;</th><th scope=col>&lt;dbl&gt;</th><th scope=col>&lt;dbl&gt;</th><th scope=col>&lt;dbl&gt;</th><th scope=col>&lt;dbl&gt;</th></tr>\n",
       "</thead>\n",
       "<tbody>\n",
       "\t<tr><td> 1</td><td> 2</td><td> 3</td><td> 4</td><td> 5</td><td> 1</td></tr>\n",
       "\t<tr><td>31</td><td>36</td><td>41</td><td>46</td><td>51</td><td>56</td></tr>\n",
       "\t<tr><td>32</td><td>37</td><td>42</td><td>47</td><td>52</td><td>57</td></tr>\n",
       "\t<tr><td>33</td><td>38</td><td>43</td><td>48</td><td>53</td><td>58</td></tr>\n",
       "\t<tr><td>34</td><td>39</td><td>44</td><td>49</td><td>54</td><td>59</td></tr>\n",
       "\t<tr><td>35</td><td>40</td><td>45</td><td>50</td><td>55</td><td>60</td></tr>\n",
       "</tbody>\n",
       "</table>\n"
      ],
      "text/latex": [
       "A data.frame: 6 × 6\n",
       "\\begin{tabular}{llllll}\n",
       " X1 & X2 & X3 & X4 & X5 & X6\\\\\n",
       " <dbl> & <dbl> & <dbl> & <dbl> & <dbl> & <dbl>\\\\\n",
       "\\hline\n",
       "\t  1 &  2 &  3 &  4 &  5 &  1\\\\\n",
       "\t 31 & 36 & 41 & 46 & 51 & 56\\\\\n",
       "\t 32 & 37 & 42 & 47 & 52 & 57\\\\\n",
       "\t 33 & 38 & 43 & 48 & 53 & 58\\\\\n",
       "\t 34 & 39 & 44 & 49 & 54 & 59\\\\\n",
       "\t 35 & 40 & 45 & 50 & 55 & 60\\\\\n",
       "\\end{tabular}\n"
      ],
      "text/markdown": [
       "\n",
       "A data.frame: 6 × 6\n",
       "\n",
       "| X1 &lt;dbl&gt; | X2 &lt;dbl&gt; | X3 &lt;dbl&gt; | X4 &lt;dbl&gt; | X5 &lt;dbl&gt; | X6 &lt;dbl&gt; |\n",
       "|---|---|---|---|---|---|\n",
       "|  1 |  2 |  3 |  4 |  5 |  1 |\n",
       "| 31 | 36 | 41 | 46 | 51 | 56 |\n",
       "| 32 | 37 | 42 | 47 | 52 | 57 |\n",
       "| 33 | 38 | 43 | 48 | 53 | 58 |\n",
       "| 34 | 39 | 44 | 49 | 54 | 59 |\n",
       "| 35 | 40 | 45 | 50 | 55 | 60 |\n",
       "\n"
      ],
      "text/plain": [
       "  X1 X2 X3 X4 X5 X6\n",
       "1  1  2  3  4  5  1\n",
       "2 31 36 41 46 51 56\n",
       "3 32 37 42 47 52 57\n",
       "4 33 38 43 48 53 58\n",
       "5 34 39 44 49 54 59\n",
       "6 35 40 45 50 55 60"
      ]
     },
     "metadata": {},
     "output_type": "display_data"
    }
   ],
   "source": [
    "rbind(vec1,df2)"
   ]
  },
  {
   "cell_type": "code",
   "execution_count": null,
   "id": "f4585986-c82f-4c16-a26d-324a3d39f553",
   "metadata": {},
   "outputs": [],
   "source": [
    "Note: The number of columns should be the same for the rbind() function to work."
   ]
  },
  {
   "cell_type": "code",
   "execution_count": null,
   "id": "f5468e1e-fb4a-4468-b3bb-dfd4c9220867",
   "metadata": {},
   "outputs": [],
   "source": [
    "3. t(): The t() function transposes a matrix that is it turns the rows into columns and columns into rows."
   ]
  },
  {
   "cell_type": "code",
   "execution_count": 26,
   "id": "5b062157-effd-4f3f-b0ed-635049634167",
   "metadata": {},
   "outputs": [
    {
     "data": {
      "text/html": [
       "<table class=\"dataframe\">\n",
       "<caption>A matrix: 6 × 5 of type int</caption>\n",
       "<tbody>\n",
       "\t<tr><th scope=row>X1</th><td> 1</td><td> 2</td><td> 3</td><td> 4</td><td> 5</td></tr>\n",
       "\t<tr><th scope=row>X2</th><td> 6</td><td> 7</td><td> 8</td><td> 9</td><td>10</td></tr>\n",
       "\t<tr><th scope=row>X3</th><td>11</td><td>12</td><td>13</td><td>14</td><td>15</td></tr>\n",
       "\t<tr><th scope=row>X4</th><td>16</td><td>17</td><td>18</td><td>19</td><td>20</td></tr>\n",
       "\t<tr><th scope=row>X5</th><td>21</td><td>22</td><td>23</td><td>24</td><td>25</td></tr>\n",
       "\t<tr><th scope=row>X6</th><td>26</td><td>27</td><td>28</td><td>29</td><td>30</td></tr>\n",
       "</tbody>\n",
       "</table>\n"
      ],
      "text/latex": [
       "A matrix: 6 × 5 of type int\n",
       "\\begin{tabular}{r|lllll}\n",
       "\tX1 &  1 &  2 &  3 &  4 &  5\\\\\n",
       "\tX2 &  6 &  7 &  8 &  9 & 10\\\\\n",
       "\tX3 & 11 & 12 & 13 & 14 & 15\\\\\n",
       "\tX4 & 16 & 17 & 18 & 19 & 20\\\\\n",
       "\tX5 & 21 & 22 & 23 & 24 & 25\\\\\n",
       "\tX6 & 26 & 27 & 28 & 29 & 30\\\\\n",
       "\\end{tabular}\n"
      ],
      "text/markdown": [
       "\n",
       "A matrix: 6 × 5 of type int\n",
       "\n",
       "| X1 |  1 |  2 |  3 |  4 |  5 |\n",
       "| X2 |  6 |  7 |  8 |  9 | 10 |\n",
       "| X3 | 11 | 12 | 13 | 14 | 15 |\n",
       "| X4 | 16 | 17 | 18 | 19 | 20 |\n",
       "| X5 | 21 | 22 | 23 | 24 | 25 |\n",
       "| X6 | 26 | 27 | 28 | 29 | 30 |\n",
       "\n"
      ],
      "text/plain": [
       "   [,1] [,2] [,3] [,4] [,5]\n",
       "X1  1    2    3    4    5  \n",
       "X2  6    7    8    9   10  \n",
       "X3 11   12   13   14   15  \n",
       "X4 16   17   18   19   20  \n",
       "X5 21   22   23   24   25  \n",
       "X6 26   27   28   29   30  "
      ]
     },
     "metadata": {},
     "output_type": "display_data"
    }
   ],
   "source": [
    "t(df1)"
   ]
  },
  {
   "cell_type": "code",
   "execution_count": 29,
   "id": "17d97f81-457b-4192-b5cc-00ca769c1ef8",
   "metadata": {},
   "outputs": [
    {
     "data": {
      "text/html": [
       "<table class=\"dataframe\">\n",
       "<caption>A matrix: 1 × 5 of type dbl</caption>\n",
       "<tbody>\n",
       "\t<tr><td>1</td><td>2</td><td>3</td><td>4</td><td>5</td></tr>\n",
       "</tbody>\n",
       "</table>\n"
      ],
      "text/latex": [
       "A matrix: 1 × 5 of type dbl\n",
       "\\begin{tabular}{lllll}\n",
       "\t 1 & 2 & 3 & 4 & 5\\\\\n",
       "\\end{tabular}\n"
      ],
      "text/markdown": [
       "\n",
       "A matrix: 1 × 5 of type dbl\n",
       "\n",
       "| 1 | 2 | 3 | 4 | 5 |\n",
       "\n"
      ],
      "text/plain": [
       "     [,1] [,2] [,3] [,4] [,5]\n",
       "[1,] 1    2    3    4    5   "
      ]
     },
     "metadata": {},
     "output_type": "display_data"
    }
   ],
   "source": [
    "t(vec1)"
   ]
  },
  {
   "cell_type": "markdown",
   "id": "c04d2cb4-4e6d-4363-a6a9-a663562ee634",
   "metadata": {},
   "source": [
    "### The Tidyr package"
   ]
  },
  {
   "cell_type": "markdown",
   "id": "66a93da8-4d0f-475f-a176-3d3734e7a0ff",
   "metadata": {},
   "source": [
    "- The tidyr package is the most commonly used R package for data reshaping in R. \n",
    "- tidyr helps you tidy your data.\n",
    "- It allows you to convert it into the desired format and make it easier to process and analyze. Tidyr simplifies the process of data reshaping.\n",
    "- To install tidyr, use the following command:"
   ]
  },
  {
   "cell_type": "code",
   "execution_count": 30,
   "id": "4eb5d4e2-6184-4e0d-9097-7197b5306b61",
   "metadata": {},
   "outputs": [
    {
     "name": "stderr",
     "output_type": "stream",
     "text": [
      "Installing package into 'C:/Users/karthik/Documents/R/win-library/4.1'\n",
      "(as 'lib' is unspecified)\n",
      "\n"
     ]
    },
    {
     "name": "stdout",
     "output_type": "stream",
     "text": [
      "package 'tidyr' successfully unpacked and MD5 sums checked\n"
     ]
    },
    {
     "name": "stderr",
     "output_type": "stream",
     "text": [
      "Warning message:\n",
      "\"cannot remove prior installation of package 'tidyr'\"\n",
      "Warning message in file.copy(savedcopy, lib, recursive = TRUE):\n",
      "\"problem copying C:\\Users\\karthik\\Documents\\R\\win-library\\4.1\\00LOCK\\tidyr\\libs\\x64\\tidyr.dll to C:\\Users\\karthik\\Documents\\R\\win-library\\4.1\\tidyr\\libs\\x64\\tidyr.dll: Permission denied\"\n",
      "Warning message:\n",
      "\"restored 'tidyr'\"\n"
     ]
    },
    {
     "name": "stdout",
     "output_type": "stream",
     "text": [
      "\n",
      "The downloaded binary packages are in\n",
      "\tC:\\Users\\karthik\\AppData\\Local\\Temp\\RtmpyyjFlG\\downloaded_packages\n"
     ]
    }
   ],
   "source": [
    "install.packages(\"tidyr\")"
   ]
  },
  {
   "cell_type": "code",
   "execution_count": 31,
   "id": "f26cbd56-6d96-4185-9db4-ef2b7e363e08",
   "metadata": {},
   "outputs": [],
   "source": [
    "library(tidyr)"
   ]
  },
  {
   "cell_type": "code",
   "execution_count": null,
   "id": "f7829840-1c43-4749-8b5a-eacdb17690ae",
   "metadata": {},
   "outputs": [],
   "source": [
    "These functions of tidyr are very useful in data reshaping and keeping your data tidy.\n",
    "    gather() /pivot_longer()\n",
    "    spread() /pivot_wider()\n",
    "    unite()\n",
    "    separate()"
   ]
  },
  {
   "attachments": {
    "0fddc469-aea6-45ff-be2d-be8ebe0d5540.png": {
     "image/png": "[encoded data removed]"
    }
   },
   "cell_type": "markdown",
   "id": "22f533a7-f511-49f4-9bb8-812f82acba66",
   "metadata": {},
   "source": [
    "![image.png](attachment:0fddc469-aea6-45ff-be2d-be8ebe0d5540.png)"
   ]
  },
  {
   "cell_type": "code",
   "execution_count": null,
   "id": "a4c47d1c-9a04-417c-8af0-44e3dbe9c7de",
   "metadata": {},
   "outputs": [],
   "source": [
    "1. gather() Function / pivot_longer()\n",
    "\n",
    "The gather() function helps us in reshaping wide-format data-frames to long-format.\n",
    "\n",
    "Sometimes, datasets have attributes of common concern spread across different columns. This creates unnecessary variables. \n",
    "Such a dataset is said to be in the wide-format.\n",
    "\n",
    "It would be more efficient to stack similar attributes together and turning the dataset into long-format. \n",
    "The gather() function allows us to do that."
   ]
  },
  {
   "cell_type": "code",
   "execution_count": 35,
   "id": "1305afe0-60ee-4830-9a20-6755ced2b192",
   "metadata": {},
   "outputs": [
    {
     "data": {
      "text/html": [
       "<style>\n",
       ".list-inline {list-style: none; margin:0; padding: 0}\n",
       ".list-inline>li {display: inline-block}\n",
       ".list-inline>li:not(:last-child)::after {content: \"\\00b7\"; padding: 0 .5ex}\n",
       "</style>\n",
       "<ol class=list-inline><li>21.94</li><li>39.33</li><li>14.2</li></ol>\n"
      ],
      "text/latex": [
       "\\begin{enumerate*}\n",
       "\\item 21.94\n",
       "\\item 39.33\n",
       "\\item 14.2\n",
       "\\end{enumerate*}\n"
      ],
      "text/markdown": [
       "1. 21.94\n",
       "2. 39.33\n",
       "3. 14.2\n",
       "\n",
       "\n"
      ],
      "text/plain": [
       "[1] 21.94 39.33 14.20"
      ]
     },
     "metadata": {},
     "output_type": "display_data"
    }
   ],
   "source": [
    "sample(seq(-5,47,by=0.01),3,rep=TRUE)"
   ]
  },
  {
   "cell_type": "code",
   "execution_count": 36,
   "id": "d3e7cd61-d913-47da-9f70-200e497777af",
   "metadata": {},
   "outputs": [
    {
     "data": {
      "text/html": [
       "<table class=\"dataframe\">\n",
       "<caption>A data.frame: 3 × 6</caption>\n",
       "<thead>\n",
       "\t<tr><th scope=col>month</th><th scope=col>delhi</th><th scope=col>mumbai</th><th scope=col>bangalore</th><th scope=col>chennai</th><th scope=col>kolkata</th></tr>\n",
       "\t<tr><th scope=col>&lt;chr&gt;</th><th scope=col>&lt;dbl&gt;</th><th scope=col>&lt;dbl&gt;</th><th scope=col>&lt;dbl&gt;</th><th scope=col>&lt;dbl&gt;</th><th scope=col>&lt;dbl&gt;</th></tr>\n",
       "</thead>\n",
       "<tbody>\n",
       "\t<tr><td>Jan</td><td>39.53</td><td>-4.82</td><td>27.77</td><td>-4.26</td><td>31.24</td></tr>\n",
       "\t<tr><td>Feb</td><td>40.22</td><td>40.23</td><td>20.54</td><td> 9.24</td><td>-0.61</td></tr>\n",
       "\t<tr><td>Mar</td><td>31.66</td><td>13.19</td><td>44.69</td><td> 6.56</td><td>16.44</td></tr>\n",
       "</tbody>\n",
       "</table>\n"
      ],
      "text/latex": [
       "A data.frame: 3 × 6\n",
       "\\begin{tabular}{llllll}\n",
       " month & delhi & mumbai & bangalore & chennai & kolkata\\\\\n",
       " <chr> & <dbl> & <dbl> & <dbl> & <dbl> & <dbl>\\\\\n",
       "\\hline\n",
       "\t Jan & 39.53 & -4.82 & 27.77 & -4.26 & 31.24\\\\\n",
       "\t Feb & 40.22 & 40.23 & 20.54 &  9.24 & -0.61\\\\\n",
       "\t Mar & 31.66 & 13.19 & 44.69 &  6.56 & 16.44\\\\\n",
       "\\end{tabular}\n"
      ],
      "text/markdown": [
       "\n",
       "A data.frame: 3 × 6\n",
       "\n",
       "| month &lt;chr&gt; | delhi &lt;dbl&gt; | mumbai &lt;dbl&gt; | bangalore &lt;dbl&gt; | chennai &lt;dbl&gt; | kolkata &lt;dbl&gt; |\n",
       "|---|---|---|---|---|---|\n",
       "| Jan | 39.53 | -4.82 | 27.77 | -4.26 | 31.24 |\n",
       "| Feb | 40.22 | 40.23 | 20.54 |  9.24 | -0.61 |\n",
       "| Mar | 31.66 | 13.19 | 44.69 |  6.56 | 16.44 |\n",
       "\n"
      ],
      "text/plain": [
       "  month delhi mumbai bangalore chennai kolkata\n",
       "1 Jan   39.53 -4.82  27.77     -4.26   31.24  \n",
       "2 Feb   40.22 40.23  20.54      9.24   -0.61  \n",
       "3 Mar   31.66 13.19  44.69      6.56   16.44  "
      ]
     },
     "metadata": {},
     "output_type": "display_data"
    }
   ],
   "source": [
    "month <- month.abb[1:3]\n",
    "delhi <- sample(seq(-5,47,by=0.01),3,rep=TRUE)\n",
    "mumbai <-sample(seq(-5,47,by=0.01),3,rep=TRUE)\n",
    "chennai <-sample(seq(-5,47,by=0.01),3,rep=TRUE)\n",
    "bangalore <- sample(seq(-5,47,by=0.01),3,rep=TRUE)\n",
    "kolkata <- sample(seq(-5,47,by=0.01),3,rep=TRUE)\n",
    "data <- data.frame(month,delhi,mumbai,bangalore,chennai,kolkata)\n",
    "data"
   ]
  },
  {
   "cell_type": "code",
   "execution_count": 37,
   "id": "396cf676-f70a-4c03-8c5e-bcce4bf008f7",
   "metadata": {},
   "outputs": [
    {
     "data": {
      "text/html": [
       "<table class=\"dataframe\">\n",
       "<caption>A tibble: 3 × 6</caption>\n",
       "<thead>\n",
       "\t<tr><th scope=col>month</th><th scope=col>delhi</th><th scope=col>mumbai</th><th scope=col>bangalore</th><th scope=col>chennai</th><th scope=col>kolkata</th></tr>\n",
       "\t<tr><th scope=col>&lt;chr&gt;</th><th scope=col>&lt;dbl&gt;</th><th scope=col>&lt;dbl&gt;</th><th scope=col>&lt;dbl&gt;</th><th scope=col>&lt;dbl&gt;</th><th scope=col>&lt;dbl&gt;</th></tr>\n",
       "</thead>\n",
       "<tbody>\n",
       "\t<tr><td>Jan</td><td>39.53</td><td>-4.82</td><td>27.77</td><td>-4.26</td><td>31.24</td></tr>\n",
       "\t<tr><td>Feb</td><td>40.22</td><td>40.23</td><td>20.54</td><td> 9.24</td><td>-0.61</td></tr>\n",
       "\t<tr><td>Mar</td><td>31.66</td><td>13.19</td><td>44.69</td><td> 6.56</td><td>16.44</td></tr>\n",
       "</tbody>\n",
       "</table>\n"
      ],
      "text/latex": [
       "A tibble: 3 × 6\n",
       "\\begin{tabular}{llllll}\n",
       " month & delhi & mumbai & bangalore & chennai & kolkata\\\\\n",
       " <chr> & <dbl> & <dbl> & <dbl> & <dbl> & <dbl>\\\\\n",
       "\\hline\n",
       "\t Jan & 39.53 & -4.82 & 27.77 & -4.26 & 31.24\\\\\n",
       "\t Feb & 40.22 & 40.23 & 20.54 &  9.24 & -0.61\\\\\n",
       "\t Mar & 31.66 & 13.19 & 44.69 &  6.56 & 16.44\\\\\n",
       "\\end{tabular}\n"
      ],
      "text/markdown": [
       "\n",
       "A tibble: 3 × 6\n",
       "\n",
       "| month &lt;chr&gt; | delhi &lt;dbl&gt; | mumbai &lt;dbl&gt; | bangalore &lt;dbl&gt; | chennai &lt;dbl&gt; | kolkata &lt;dbl&gt; |\n",
       "|---|---|---|---|---|---|\n",
       "| Jan | 39.53 | -4.82 | 27.77 | -4.26 | 31.24 |\n",
       "| Feb | 40.22 | 40.23 | 20.54 |  9.24 | -0.61 |\n",
       "| Mar | 31.66 | 13.19 | 44.69 |  6.56 | 16.44 |\n",
       "\n"
      ],
      "text/plain": [
       "  month delhi mumbai bangalore chennai kolkata\n",
       "1 Jan   39.53 -4.82  27.77     -4.26   31.24  \n",
       "2 Feb   40.22 40.23  20.54      9.24   -0.61  \n",
       "3 Mar   31.66 13.19  44.69      6.56   16.44  "
      ]
     },
     "metadata": {},
     "output_type": "display_data"
    }
   ],
   "source": [
    "tibble::tibble(month,delhi,mumbai,bangalore,chennai,kolkata)"
   ]
  },
  {
   "cell_type": "code",
   "execution_count": 38,
   "id": "cc517eeb-bf0e-4fdb-bdfa-25bf5498184e",
   "metadata": {},
   "outputs": [
    {
     "data": {
      "text/html": [
       "<table class=\"dataframe\">\n",
       "<caption>A data.frame: 15 × 3</caption>\n",
       "<thead>\n",
       "\t<tr><th scope=col>month</th><th scope=col>city</th><th scope=col>avg.temp</th></tr>\n",
       "\t<tr><th scope=col>&lt;chr&gt;</th><th scope=col>&lt;chr&gt;</th><th scope=col>&lt;dbl&gt;</th></tr>\n",
       "</thead>\n",
       "<tbody>\n",
       "\t<tr><td>Jan</td><td>delhi    </td><td>39.53</td></tr>\n",
       "\t<tr><td>Feb</td><td>delhi    </td><td>40.22</td></tr>\n",
       "\t<tr><td>Mar</td><td>delhi    </td><td>31.66</td></tr>\n",
       "\t<tr><td>Jan</td><td>mumbai   </td><td>-4.82</td></tr>\n",
       "\t<tr><td>Feb</td><td>mumbai   </td><td>40.23</td></tr>\n",
       "\t<tr><td>Mar</td><td>mumbai   </td><td>13.19</td></tr>\n",
       "\t<tr><td>Jan</td><td>bangalore</td><td>27.77</td></tr>\n",
       "\t<tr><td>Feb</td><td>bangalore</td><td>20.54</td></tr>\n",
       "\t<tr><td>Mar</td><td>bangalore</td><td>44.69</td></tr>\n",
       "\t<tr><td>Jan</td><td>chennai  </td><td>-4.26</td></tr>\n",
       "\t<tr><td>Feb</td><td>chennai  </td><td> 9.24</td></tr>\n",
       "\t<tr><td>Mar</td><td>chennai  </td><td> 6.56</td></tr>\n",
       "\t<tr><td>Jan</td><td>kolkata  </td><td>31.24</td></tr>\n",
       "\t<tr><td>Feb</td><td>kolkata  </td><td>-0.61</td></tr>\n",
       "\t<tr><td>Mar</td><td>kolkata  </td><td>16.44</td></tr>\n",
       "</tbody>\n",
       "</table>\n"
      ],
      "text/latex": [
       "A data.frame: 15 × 3\n",
       "\\begin{tabular}{lll}\n",
       " month & city & avg.temp\\\\\n",
       " <chr> & <chr> & <dbl>\\\\\n",
       "\\hline\n",
       "\t Jan & delhi     & 39.53\\\\\n",
       "\t Feb & delhi     & 40.22\\\\\n",
       "\t Mar & delhi     & 31.66\\\\\n",
       "\t Jan & mumbai    & -4.82\\\\\n",
       "\t Feb & mumbai    & 40.23\\\\\n",
       "\t Mar & mumbai    & 13.19\\\\\n",
       "\t Jan & bangalore & 27.77\\\\\n",
       "\t Feb & bangalore & 20.54\\\\\n",
       "\t Mar & bangalore & 44.69\\\\\n",
       "\t Jan & chennai   & -4.26\\\\\n",
       "\t Feb & chennai   &  9.24\\\\\n",
       "\t Mar & chennai   &  6.56\\\\\n",
       "\t Jan & kolkata   & 31.24\\\\\n",
       "\t Feb & kolkata   & -0.61\\\\\n",
       "\t Mar & kolkata   & 16.44\\\\\n",
       "\\end{tabular}\n"
      ],
      "text/markdown": [
       "\n",
       "A data.frame: 15 × 3\n",
       "\n",
       "| month &lt;chr&gt; | city &lt;chr&gt; | avg.temp &lt;dbl&gt; |\n",
       "|---|---|---|\n",
       "| Jan | delhi     | 39.53 |\n",
       "| Feb | delhi     | 40.22 |\n",
       "| Mar | delhi     | 31.66 |\n",
       "| Jan | mumbai    | -4.82 |\n",
       "| Feb | mumbai    | 40.23 |\n",
       "| Mar | mumbai    | 13.19 |\n",
       "| Jan | bangalore | 27.77 |\n",
       "| Feb | bangalore | 20.54 |\n",
       "| Mar | bangalore | 44.69 |\n",
       "| Jan | chennai   | -4.26 |\n",
       "| Feb | chennai   |  9.24 |\n",
       "| Mar | chennai   |  6.56 |\n",
       "| Jan | kolkata   | 31.24 |\n",
       "| Feb | kolkata   | -0.61 |\n",
       "| Mar | kolkata   | 16.44 |\n",
       "\n"
      ],
      "text/plain": [
       "   month city      avg.temp\n",
       "1  Jan   delhi     39.53   \n",
       "2  Feb   delhi     40.22   \n",
       "3  Mar   delhi     31.66   \n",
       "4  Jan   mumbai    -4.82   \n",
       "5  Feb   mumbai    40.23   \n",
       "6  Mar   mumbai    13.19   \n",
       "7  Jan   bangalore 27.77   \n",
       "8  Feb   bangalore 20.54   \n",
       "9  Mar   bangalore 44.69   \n",
       "10 Jan   chennai   -4.26   \n",
       "11 Feb   chennai    9.24   \n",
       "12 Mar   chennai    6.56   \n",
       "13 Jan   kolkata   31.24   \n",
       "14 Feb   kolkata   -0.61   \n",
       "15 Mar   kolkata   16.44   "
      ]
     },
     "metadata": {},
     "output_type": "display_data"
    }
   ],
   "source": [
    "gathered_data <- gather(data,key=\"city\",value=\"avg.temp\",-month)\n",
    "gathered_data"
   ]
  },
  {
   "cell_type": "code",
   "execution_count": 95,
   "id": "554bd383-e053-419b-90e8-c1b7f67059aa",
   "metadata": {},
   "outputs": [
    {
     "data": {
      "text/html": [
       "<table class=\"dataframe\">\n",
       "<caption>A data.frame: 3 × 6</caption>\n",
       "<thead>\n",
       "\t<tr><th scope=col>month</th><th scope=col>delhi</th><th scope=col>mumbai</th><th scope=col>bangalore</th><th scope=col>chennai</th><th scope=col>kolkata</th></tr>\n",
       "\t<tr><th scope=col>&lt;chr&gt;</th><th scope=col>&lt;dbl&gt;</th><th scope=col>&lt;dbl&gt;</th><th scope=col>&lt;dbl&gt;</th><th scope=col>&lt;dbl&gt;</th><th scope=col>&lt;dbl&gt;</th></tr>\n",
       "</thead>\n",
       "<tbody>\n",
       "\t<tr><td>Jan</td><td>12.78</td><td> 1.82</td><td>23.41</td><td>16.88</td><td>39.42</td></tr>\n",
       "\t<tr><td>Feb</td><td> 4.95</td><td>32.38</td><td>31.41</td><td>-4.46</td><td> 7.76</td></tr>\n",
       "\t<tr><td>Mar</td><td>25.29</td><td>13.04</td><td> 1.94</td><td> 0.85</td><td>28.77</td></tr>\n",
       "</tbody>\n",
       "</table>\n"
      ],
      "text/latex": [
       "A data.frame: 3 × 6\n",
       "\\begin{tabular}{llllll}\n",
       " month & delhi & mumbai & bangalore & chennai & kolkata\\\\\n",
       " <chr> & <dbl> & <dbl> & <dbl> & <dbl> & <dbl>\\\\\n",
       "\\hline\n",
       "\t Jan & 12.78 &  1.82 & 23.41 & 16.88 & 39.42\\\\\n",
       "\t Feb &  4.95 & 32.38 & 31.41 & -4.46 &  7.76\\\\\n",
       "\t Mar & 25.29 & 13.04 &  1.94 &  0.85 & 28.77\\\\\n",
       "\\end{tabular}\n"
      ],
      "text/markdown": [
       "\n",
       "A data.frame: 3 × 6\n",
       "\n",
       "| month &lt;chr&gt; | delhi &lt;dbl&gt; | mumbai &lt;dbl&gt; | bangalore &lt;dbl&gt; | chennai &lt;dbl&gt; | kolkata &lt;dbl&gt; |\n",
       "|---|---|---|---|---|---|\n",
       "| Jan | 12.78 |  1.82 | 23.41 | 16.88 | 39.42 |\n",
       "| Feb |  4.95 | 32.38 | 31.41 | -4.46 |  7.76 |\n",
       "| Mar | 25.29 | 13.04 |  1.94 |  0.85 | 28.77 |\n",
       "\n"
      ],
      "text/plain": [
       "  month delhi mumbai bangalore chennai kolkata\n",
       "1 Jan   12.78  1.82  23.41     16.88   39.42  \n",
       "2 Feb    4.95 32.38  31.41     -4.46    7.76  \n",
       "3 Mar   25.29 13.04   1.94      0.85   28.77  "
      ]
     },
     "metadata": {},
     "output_type": "display_data"
    }
   ],
   "source": [
    "data"
   ]
  },
  {
   "cell_type": "code",
   "execution_count": 41,
   "id": "7e719b17-d5e4-4798-9178-d64e71c57dd0",
   "metadata": {},
   "outputs": [
    {
     "name": "stderr",
     "output_type": "stream",
     "text": [
      "-- \u001b[1mAttaching packages\u001b[22m ------------------------------------------------------------------------------- tidyverse 1.3.1 --\n",
      "\n",
      "\u001b[32mv\u001b[39m \u001b[34mggplot2\u001b[39m 3.3.5     \u001b[32mv\u001b[39m \u001b[34mdplyr  \u001b[39m 1.0.8\n",
      "\u001b[32mv\u001b[39m \u001b[34mtibble \u001b[39m 3.1.6     \u001b[32mv\u001b[39m \u001b[34mstringr\u001b[39m 1.4.0\n",
      "\u001b[32mv\u001b[39m \u001b[34mreadr  \u001b[39m 2.1.2     \u001b[32mv\u001b[39m \u001b[34mforcats\u001b[39m 0.5.1\n",
      "\u001b[32mv\u001b[39m \u001b[34mpurrr  \u001b[39m 0.3.4     \n",
      "\n",
      "-- \u001b[1mConflicts\u001b[22m ---------------------------------------------------------------------------------- tidyverse_conflicts() --\n",
      "\u001b[31mx\u001b[39m \u001b[34mdplyr\u001b[39m::\u001b[32mfilter()\u001b[39m masks \u001b[34mstats\u001b[39m::filter()\n",
      "\u001b[31mx\u001b[39m \u001b[34mdplyr\u001b[39m::\u001b[32mlag()\u001b[39m    masks \u001b[34mstats\u001b[39m::lag()\n",
      "\n"
     ]
    }
   ],
   "source": [
    "library('tidyverse')"
   ]
  },
  {
   "cell_type": "code",
   "execution_count": 61,
   "id": "b1d67d17-1822-40c6-afca-b6a6f9e05487",
   "metadata": {},
   "outputs": [
    {
     "data": {
      "text/html": [
       "<table class=\"dataframe\">\n",
       "<caption>A tibble: 15 × 3</caption>\n",
       "<thead>\n",
       "\t<tr><th scope=col>month</th><th scope=col>city</th><th scope=col>avg.temp</th></tr>\n",
       "\t<tr><th scope=col>&lt;chr&gt;</th><th scope=col>&lt;chr&gt;</th><th scope=col>&lt;dbl&gt;</th></tr>\n",
       "</thead>\n",
       "<tbody>\n",
       "\t<tr><td>Jan</td><td>delhi    </td><td>39.53</td></tr>\n",
       "\t<tr><td>Jan</td><td>mumbai   </td><td>-4.82</td></tr>\n",
       "\t<tr><td>Jan</td><td>bangalore</td><td>27.77</td></tr>\n",
       "\t<tr><td>Jan</td><td>chennai  </td><td>-4.26</td></tr>\n",
       "\t<tr><td>Jan</td><td>kolkata  </td><td>31.24</td></tr>\n",
       "\t<tr><td>Feb</td><td>delhi    </td><td>40.22</td></tr>\n",
       "\t<tr><td>Feb</td><td>mumbai   </td><td>40.23</td></tr>\n",
       "\t<tr><td>Feb</td><td>bangalore</td><td>20.54</td></tr>\n",
       "\t<tr><td>Feb</td><td>chennai  </td><td> 9.24</td></tr>\n",
       "\t<tr><td>Feb</td><td>kolkata  </td><td>-0.61</td></tr>\n",
       "\t<tr><td>Mar</td><td>delhi    </td><td>31.66</td></tr>\n",
       "\t<tr><td>Mar</td><td>mumbai   </td><td>13.19</td></tr>\n",
       "\t<tr><td>Mar</td><td>bangalore</td><td>44.69</td></tr>\n",
       "\t<tr><td>Mar</td><td>chennai  </td><td> 6.56</td></tr>\n",
       "\t<tr><td>Mar</td><td>kolkata  </td><td>16.44</td></tr>\n",
       "</tbody>\n",
       "</table>\n"
      ],
      "text/latex": [
       "A tibble: 15 × 3\n",
       "\\begin{tabular}{lll}\n",
       " month & city & avg.temp\\\\\n",
       " <chr> & <chr> & <dbl>\\\\\n",
       "\\hline\n",
       "\t Jan & delhi     & 39.53\\\\\n",
       "\t Jan & mumbai    & -4.82\\\\\n",
       "\t Jan & bangalore & 27.77\\\\\n",
       "\t Jan & chennai   & -4.26\\\\\n",
       "\t Jan & kolkata   & 31.24\\\\\n",
       "\t Feb & delhi     & 40.22\\\\\n",
       "\t Feb & mumbai    & 40.23\\\\\n",
       "\t Feb & bangalore & 20.54\\\\\n",
       "\t Feb & chennai   &  9.24\\\\\n",
       "\t Feb & kolkata   & -0.61\\\\\n",
       "\t Mar & delhi     & 31.66\\\\\n",
       "\t Mar & mumbai    & 13.19\\\\\n",
       "\t Mar & bangalore & 44.69\\\\\n",
       "\t Mar & chennai   &  6.56\\\\\n",
       "\t Mar & kolkata   & 16.44\\\\\n",
       "\\end{tabular}\n"
      ],
      "text/markdown": [
       "\n",
       "A tibble: 15 × 3\n",
       "\n",
       "| month &lt;chr&gt; | city &lt;chr&gt; | avg.temp &lt;dbl&gt; |\n",
       "|---|---|---|\n",
       "| Jan | delhi     | 39.53 |\n",
       "| Jan | mumbai    | -4.82 |\n",
       "| Jan | bangalore | 27.77 |\n",
       "| Jan | chennai   | -4.26 |\n",
       "| Jan | kolkata   | 31.24 |\n",
       "| Feb | delhi     | 40.22 |\n",
       "| Feb | mumbai    | 40.23 |\n",
       "| Feb | bangalore | 20.54 |\n",
       "| Feb | chennai   |  9.24 |\n",
       "| Feb | kolkata   | -0.61 |\n",
       "| Mar | delhi     | 31.66 |\n",
       "| Mar | mumbai    | 13.19 |\n",
       "| Mar | bangalore | 44.69 |\n",
       "| Mar | chennai   |  6.56 |\n",
       "| Mar | kolkata   | 16.44 |\n",
       "\n"
      ],
      "text/plain": [
       "   month city      avg.temp\n",
       "1  Jan   delhi     39.53   \n",
       "2  Jan   mumbai    -4.82   \n",
       "3  Jan   bangalore 27.77   \n",
       "4  Jan   chennai   -4.26   \n",
       "5  Jan   kolkata   31.24   \n",
       "6  Feb   delhi     40.22   \n",
       "7  Feb   mumbai    40.23   \n",
       "8  Feb   bangalore 20.54   \n",
       "9  Feb   chennai    9.24   \n",
       "10 Feb   kolkata   -0.61   \n",
       "11 Mar   delhi     31.66   \n",
       "12 Mar   mumbai    13.19   \n",
       "13 Mar   bangalore 44.69   \n",
       "14 Mar   chennai    6.56   \n",
       "15 Mar   kolkata   16.44   "
      ]
     },
     "metadata": {},
     "output_type": "display_data"
    }
   ],
   "source": [
    "data%>%pivot_longer(.,cols=2:6,names_to = 'city',values_to=\"avg.temp\")"
   ]
  },
  {
   "cell_type": "code",
   "execution_count": null,
   "id": "87f40956-77b4-4e45-b3a8-eff5d0aabda8",
   "metadata": {},
   "outputs": [],
   "source": [
    "2.spread() Function /pivot_wider()"
   ]
  },
  {
   "cell_type": "code",
   "execution_count": null,
   "id": "6c6a1d61-60e0-48d0-bb00-240df7ff0de7",
   "metadata": {},
   "outputs": [],
   "source": [
    "The spread() function is the complement to the gather() function. It spreads long-format data-frames to wide-format."
   ]
  },
  {
   "cell_type": "code",
   "execution_count": 48,
   "id": "1ec69988-f08c-4af5-808f-818e70e17653",
   "metadata": {},
   "outputs": [
    {
     "data": {
      "text/html": [
       "<table class=\"dataframe\">\n",
       "<caption>A data.frame: 3 × 6</caption>\n",
       "<thead>\n",
       "\t<tr><th scope=col>month</th><th scope=col>bangalore</th><th scope=col>chennai</th><th scope=col>delhi</th><th scope=col>kolkata</th><th scope=col>mumbai</th></tr>\n",
       "\t<tr><th scope=col>&lt;chr&gt;</th><th scope=col>&lt;dbl&gt;</th><th scope=col>&lt;dbl&gt;</th><th scope=col>&lt;dbl&gt;</th><th scope=col>&lt;dbl&gt;</th><th scope=col>&lt;dbl&gt;</th></tr>\n",
       "</thead>\n",
       "<tbody>\n",
       "\t<tr><td>Feb</td><td>20.54</td><td> 9.24</td><td>40.22</td><td>-0.61</td><td>40.23</td></tr>\n",
       "\t<tr><td>Jan</td><td>27.77</td><td>-4.26</td><td>39.53</td><td>31.24</td><td>-4.82</td></tr>\n",
       "\t<tr><td>Mar</td><td>44.69</td><td> 6.56</td><td>31.66</td><td>16.44</td><td>13.19</td></tr>\n",
       "</tbody>\n",
       "</table>\n"
      ],
      "text/latex": [
       "A data.frame: 3 × 6\n",
       "\\begin{tabular}{llllll}\n",
       " month & bangalore & chennai & delhi & kolkata & mumbai\\\\\n",
       " <chr> & <dbl> & <dbl> & <dbl> & <dbl> & <dbl>\\\\\n",
       "\\hline\n",
       "\t Feb & 20.54 &  9.24 & 40.22 & -0.61 & 40.23\\\\\n",
       "\t Jan & 27.77 & -4.26 & 39.53 & 31.24 & -4.82\\\\\n",
       "\t Mar & 44.69 &  6.56 & 31.66 & 16.44 & 13.19\\\\\n",
       "\\end{tabular}\n"
      ],
      "text/markdown": [
       "\n",
       "A data.frame: 3 × 6\n",
       "\n",
       "| month &lt;chr&gt; | bangalore &lt;dbl&gt; | chennai &lt;dbl&gt; | delhi &lt;dbl&gt; | kolkata &lt;dbl&gt; | mumbai &lt;dbl&gt; |\n",
       "|---|---|---|---|---|---|\n",
       "| Feb | 20.54 |  9.24 | 40.22 | -0.61 | 40.23 |\n",
       "| Jan | 27.77 | -4.26 | 39.53 | 31.24 | -4.82 |\n",
       "| Mar | 44.69 |  6.56 | 31.66 | 16.44 | 13.19 |\n",
       "\n"
      ],
      "text/plain": [
       "  month bangalore chennai delhi kolkata mumbai\n",
       "1 Feb   20.54      9.24   40.22 -0.61   40.23 \n",
       "2 Jan   27.77     -4.26   39.53 31.24   -4.82 \n",
       "3 Mar   44.69      6.56   31.66 16.44   13.19 "
      ]
     },
     "metadata": {},
     "output_type": "display_data"
    }
   ],
   "source": [
    "(spread_data <- spread(gathered_data,key=\"city\",value=\"avg.temp\"))"
   ]
  },
  {
   "cell_type": "code",
   "execution_count": 49,
   "id": "c55f68cb-2c80-4beb-a50c-c0935c022bb6",
   "metadata": {},
   "outputs": [
    {
     "data": {
      "text/html": [
       "<table class=\"dataframe\">\n",
       "<caption>A tibble: 3 × 6</caption>\n",
       "<thead>\n",
       "\t<tr><th scope=col>month</th><th scope=col>delhi</th><th scope=col>mumbai</th><th scope=col>bangalore</th><th scope=col>chennai</th><th scope=col>kolkata</th></tr>\n",
       "\t<tr><th scope=col>&lt;chr&gt;</th><th scope=col>&lt;dbl&gt;</th><th scope=col>&lt;dbl&gt;</th><th scope=col>&lt;dbl&gt;</th><th scope=col>&lt;dbl&gt;</th><th scope=col>&lt;dbl&gt;</th></tr>\n",
       "</thead>\n",
       "<tbody>\n",
       "\t<tr><td>Jan</td><td>39.53</td><td>-4.82</td><td>27.77</td><td>-4.26</td><td>31.24</td></tr>\n",
       "\t<tr><td>Feb</td><td>40.22</td><td>40.23</td><td>20.54</td><td> 9.24</td><td>-0.61</td></tr>\n",
       "\t<tr><td>Mar</td><td>31.66</td><td>13.19</td><td>44.69</td><td> 6.56</td><td>16.44</td></tr>\n",
       "</tbody>\n",
       "</table>\n"
      ],
      "text/latex": [
       "A tibble: 3 × 6\n",
       "\\begin{tabular}{llllll}\n",
       " month & delhi & mumbai & bangalore & chennai & kolkata\\\\\n",
       " <chr> & <dbl> & <dbl> & <dbl> & <dbl> & <dbl>\\\\\n",
       "\\hline\n",
       "\t Jan & 39.53 & -4.82 & 27.77 & -4.26 & 31.24\\\\\n",
       "\t Feb & 40.22 & 40.23 & 20.54 &  9.24 & -0.61\\\\\n",
       "\t Mar & 31.66 & 13.19 & 44.69 &  6.56 & 16.44\\\\\n",
       "\\end{tabular}\n"
      ],
      "text/markdown": [
       "\n",
       "A tibble: 3 × 6\n",
       "\n",
       "| month &lt;chr&gt; | delhi &lt;dbl&gt; | mumbai &lt;dbl&gt; | bangalore &lt;dbl&gt; | chennai &lt;dbl&gt; | kolkata &lt;dbl&gt; |\n",
       "|---|---|---|---|---|---|\n",
       "| Jan | 39.53 | -4.82 | 27.77 | -4.26 | 31.24 |\n",
       "| Feb | 40.22 | 40.23 | 20.54 |  9.24 | -0.61 |\n",
       "| Mar | 31.66 | 13.19 | 44.69 |  6.56 | 16.44 |\n",
       "\n"
      ],
      "text/plain": [
       "  month delhi mumbai bangalore chennai kolkata\n",
       "1 Jan   39.53 -4.82  27.77     -4.26   31.24  \n",
       "2 Feb   40.22 40.23  20.54      9.24   -0.61  \n",
       "3 Mar   31.66 13.19  44.69      6.56   16.44  "
      ]
     },
     "metadata": {},
     "output_type": "display_data"
    }
   ],
   "source": [
    "(pwidedata<-pivot_wider(gathered_data,names_from = 'city',values_from=\"avg.temp\"))"
   ]
  },
  {
   "cell_type": "code",
   "execution_count": 54,
   "id": "55b2db6d-b1ef-44e2-907d-e356be7a15e2",
   "metadata": {},
   "outputs": [
    {
     "name": "stderr",
     "output_type": "stream",
     "text": [
      "New names:\n",
      "* `` -> ...1\n",
      "\n",
      "\u001b[1mRows: \u001b[22m\u001b[34m5\u001b[39m \u001b[1mColumns: \u001b[22m\u001b[34m4\u001b[39m\n",
      "\u001b[36m--\u001b[39m \u001b[1mColumn specification\u001b[22m \u001b[36m------------------------------------------------------------------------------------------------\u001b[39m\n",
      "\u001b[1mDelimiter:\u001b[22m \",\"\n",
      "\u001b[31mchr\u001b[39m (1): MovieTitle\n",
      "\u001b[32mdbl\u001b[39m (3): ...1, Tomatometer, AudienceScore\n",
      "\n",
      "\u001b[36mi\u001b[39m Use \u001b[30m\u001b[47m\u001b[30m\u001b[47m`spec()`\u001b[47m\u001b[30m\u001b[49m\u001b[39m to retrieve the full column specification for this data.\n",
      "\u001b[36mi\u001b[39m Specify the column types or set \u001b[30m\u001b[47m\u001b[30m\u001b[47m`show_col_types = FALSE`\u001b[47m\u001b[30m\u001b[49m\u001b[39m to quiet this message.\n"
     ]
    }
   ],
   "source": [
    "MSdata<-read_csv(\"moviescore.csv\")"
   ]
  },
  {
   "cell_type": "code",
   "execution_count": 57,
   "id": "e04a4177-b70e-457c-acaa-92aed5d45c96",
   "metadata": {},
   "outputs": [
    {
     "data": {
      "text/html": [
       "<table class=\"dataframe\">\n",
       "<caption>A spec_tbl_df: 5 × 4</caption>\n",
       "<thead>\n",
       "\t<tr><th scope=col>...1</th><th scope=col>MovieTitle</th><th scope=col>Tomatometer</th><th scope=col>AudienceScore</th></tr>\n",
       "\t<tr><th scope=col>&lt;dbl&gt;</th><th scope=col>&lt;chr&gt;</th><th scope=col>&lt;dbl&gt;</th><th scope=col>&lt;dbl&gt;</th></tr>\n",
       "</thead>\n",
       "<tbody>\n",
       "\t<tr><td>0</td><td>The Shape of Water               </td><td>91</td><td>73</td></tr>\n",
       "\t<tr><td>1</td><td>Black Panther                    </td><td>97</td><td>79</td></tr>\n",
       "\t<tr><td>2</td><td>Dunkirk                          </td><td>92</td><td>81</td></tr>\n",
       "\t<tr><td>3</td><td>The Martian                      </td><td>91</td><td>91</td></tr>\n",
       "\t<tr><td>4</td><td>The Hobbit: An Unexpected Journey</td><td>64</td><td>83</td></tr>\n",
       "</tbody>\n",
       "</table>\n"
      ],
      "text/latex": [
       "A spec\\_tbl\\_df: 5 × 4\n",
       "\\begin{tabular}{llll}\n",
       " ...1 & MovieTitle & Tomatometer & AudienceScore\\\\\n",
       " <dbl> & <chr> & <dbl> & <dbl>\\\\\n",
       "\\hline\n",
       "\t 0 & The Shape of Water                & 91 & 73\\\\\n",
       "\t 1 & Black Panther                     & 97 & 79\\\\\n",
       "\t 2 & Dunkirk                           & 92 & 81\\\\\n",
       "\t 3 & The Martian                       & 91 & 91\\\\\n",
       "\t 4 & The Hobbit: An Unexpected Journey & 64 & 83\\\\\n",
       "\\end{tabular}\n"
      ],
      "text/markdown": [
       "\n",
       "A spec_tbl_df: 5 × 4\n",
       "\n",
       "| ...1 &lt;dbl&gt; | MovieTitle &lt;chr&gt; | Tomatometer &lt;dbl&gt; | AudienceScore &lt;dbl&gt; |\n",
       "|---|---|---|---|\n",
       "| 0 | The Shape of Water                | 91 | 73 |\n",
       "| 1 | Black Panther                     | 97 | 79 |\n",
       "| 2 | Dunkirk                           | 92 | 81 |\n",
       "| 3 | The Martian                       | 91 | 91 |\n",
       "| 4 | The Hobbit: An Unexpected Journey | 64 | 83 |\n",
       "\n"
      ],
      "text/plain": [
       "  ...1 MovieTitle                        Tomatometer AudienceScore\n",
       "1 0    The Shape of Water                91          73           \n",
       "2 1    Black Panther                     97          79           \n",
       "3 2    Dunkirk                           92          81           \n",
       "4 3    The Martian                       91          91           \n",
       "5 4    The Hobbit: An Unexpected Journey 64          83           "
      ]
     },
     "metadata": {},
     "output_type": "display_data"
    }
   ],
   "source": [
    "MSdata"
   ]
  },
  {
   "cell_type": "code",
   "execution_count": 72,
   "id": "b95b57f3-d291-4229-8c91-87b178e51e7c",
   "metadata": {},
   "outputs": [],
   "source": [
    "Ldata<-MSdata%>%pivot_longer(.,cols = 3:4,names_to =\"Score.Type\",values_to =\"Score\")#%>%select(-1)%>%group_by(MovieTitle)%>%summarise(avg=mean(Score))"
   ]
  },
  {
   "cell_type": "code",
   "execution_count": 73,
   "id": "2a33fe1b-11fd-4a06-921f-7d5521f03a19",
   "metadata": {},
   "outputs": [
    {
     "data": {
      "text/html": [
       "<table class=\"dataframe\">\n",
       "<caption>A tibble: 10 × 4</caption>\n",
       "<thead>\n",
       "\t<tr><th scope=col>...1</th><th scope=col>MovieTitle</th><th scope=col>Score.Type</th><th scope=col>Score</th></tr>\n",
       "\t<tr><th scope=col>&lt;dbl&gt;</th><th scope=col>&lt;chr&gt;</th><th scope=col>&lt;chr&gt;</th><th scope=col>&lt;dbl&gt;</th></tr>\n",
       "</thead>\n",
       "<tbody>\n",
       "\t<tr><td>0</td><td>The Shape of Water               </td><td>Tomatometer  </td><td>91</td></tr>\n",
       "\t<tr><td>0</td><td>The Shape of Water               </td><td>AudienceScore</td><td>73</td></tr>\n",
       "\t<tr><td>1</td><td>Black Panther                    </td><td>Tomatometer  </td><td>97</td></tr>\n",
       "\t<tr><td>1</td><td>Black Panther                    </td><td>AudienceScore</td><td>79</td></tr>\n",
       "\t<tr><td>2</td><td>Dunkirk                          </td><td>Tomatometer  </td><td>92</td></tr>\n",
       "\t<tr><td>2</td><td>Dunkirk                          </td><td>AudienceScore</td><td>81</td></tr>\n",
       "\t<tr><td>3</td><td>The Martian                      </td><td>Tomatometer  </td><td>91</td></tr>\n",
       "\t<tr><td>3</td><td>The Martian                      </td><td>AudienceScore</td><td>91</td></tr>\n",
       "\t<tr><td>4</td><td>The Hobbit: An Unexpected Journey</td><td>Tomatometer  </td><td>64</td></tr>\n",
       "\t<tr><td>4</td><td>The Hobbit: An Unexpected Journey</td><td>AudienceScore</td><td>83</td></tr>\n",
       "</tbody>\n",
       "</table>\n"
      ],
      "text/latex": [
       "A tibble: 10 × 4\n",
       "\\begin{tabular}{llll}\n",
       " ...1 & MovieTitle & Score.Type & Score\\\\\n",
       " <dbl> & <chr> & <chr> & <dbl>\\\\\n",
       "\\hline\n",
       "\t 0 & The Shape of Water                & Tomatometer   & 91\\\\\n",
       "\t 0 & The Shape of Water                & AudienceScore & 73\\\\\n",
       "\t 1 & Black Panther                     & Tomatometer   & 97\\\\\n",
       "\t 1 & Black Panther                     & AudienceScore & 79\\\\\n",
       "\t 2 & Dunkirk                           & Tomatometer   & 92\\\\\n",
       "\t 2 & Dunkirk                           & AudienceScore & 81\\\\\n",
       "\t 3 & The Martian                       & Tomatometer   & 91\\\\\n",
       "\t 3 & The Martian                       & AudienceScore & 91\\\\\n",
       "\t 4 & The Hobbit: An Unexpected Journey & Tomatometer   & 64\\\\\n",
       "\t 4 & The Hobbit: An Unexpected Journey & AudienceScore & 83\\\\\n",
       "\\end{tabular}\n"
      ],
      "text/markdown": [
       "\n",
       "A tibble: 10 × 4\n",
       "\n",
       "| ...1 &lt;dbl&gt; | MovieTitle &lt;chr&gt; | Score.Type &lt;chr&gt; | Score &lt;dbl&gt; |\n",
       "|---|---|---|---|\n",
       "| 0 | The Shape of Water                | Tomatometer   | 91 |\n",
       "| 0 | The Shape of Water                | AudienceScore | 73 |\n",
       "| 1 | Black Panther                     | Tomatometer   | 97 |\n",
       "| 1 | Black Panther                     | AudienceScore | 79 |\n",
       "| 2 | Dunkirk                           | Tomatometer   | 92 |\n",
       "| 2 | Dunkirk                           | AudienceScore | 81 |\n",
       "| 3 | The Martian                       | Tomatometer   | 91 |\n",
       "| 3 | The Martian                       | AudienceScore | 91 |\n",
       "| 4 | The Hobbit: An Unexpected Journey | Tomatometer   | 64 |\n",
       "| 4 | The Hobbit: An Unexpected Journey | AudienceScore | 83 |\n",
       "\n"
      ],
      "text/plain": [
       "   ...1 MovieTitle                        Score.Type    Score\n",
       "1  0    The Shape of Water                Tomatometer   91   \n",
       "2  0    The Shape of Water                AudienceScore 73   \n",
       "3  1    Black Panther                     Tomatometer   97   \n",
       "4  1    Black Panther                     AudienceScore 79   \n",
       "5  2    Dunkirk                           Tomatometer   92   \n",
       "6  2    Dunkirk                           AudienceScore 81   \n",
       "7  3    The Martian                       Tomatometer   91   \n",
       "8  3    The Martian                       AudienceScore 91   \n",
       "9  4    The Hobbit: An Unexpected Journey Tomatometer   64   \n",
       "10 4    The Hobbit: An Unexpected Journey AudienceScore 83   "
      ]
     },
     "metadata": {},
     "output_type": "display_data"
    }
   ],
   "source": [
    "Ldata"
   ]
  },
  {
   "cell_type": "code",
   "execution_count": 74,
   "id": "e671ba40-3f92-4dfb-aa39-325de77983c3",
   "metadata": {},
   "outputs": [
    {
     "data": {
      "text/html": [
       "<table class=\"dataframe\">\n",
       "<caption>A tibble: 5 × 4</caption>\n",
       "<thead>\n",
       "\t<tr><th scope=col>...1</th><th scope=col>MovieTitle</th><th scope=col>Tomatometer</th><th scope=col>AudienceScore</th></tr>\n",
       "\t<tr><th scope=col>&lt;dbl&gt;</th><th scope=col>&lt;chr&gt;</th><th scope=col>&lt;dbl&gt;</th><th scope=col>&lt;dbl&gt;</th></tr>\n",
       "</thead>\n",
       "<tbody>\n",
       "\t<tr><td>0</td><td>The Shape of Water               </td><td>91</td><td>73</td></tr>\n",
       "\t<tr><td>1</td><td>Black Panther                    </td><td>97</td><td>79</td></tr>\n",
       "\t<tr><td>2</td><td>Dunkirk                          </td><td>92</td><td>81</td></tr>\n",
       "\t<tr><td>3</td><td>The Martian                      </td><td>91</td><td>91</td></tr>\n",
       "\t<tr><td>4</td><td>The Hobbit: An Unexpected Journey</td><td>64</td><td>83</td></tr>\n",
       "</tbody>\n",
       "</table>\n"
      ],
      "text/latex": [
       "A tibble: 5 × 4\n",
       "\\begin{tabular}{llll}\n",
       " ...1 & MovieTitle & Tomatometer & AudienceScore\\\\\n",
       " <dbl> & <chr> & <dbl> & <dbl>\\\\\n",
       "\\hline\n",
       "\t 0 & The Shape of Water                & 91 & 73\\\\\n",
       "\t 1 & Black Panther                     & 97 & 79\\\\\n",
       "\t 2 & Dunkirk                           & 92 & 81\\\\\n",
       "\t 3 & The Martian                       & 91 & 91\\\\\n",
       "\t 4 & The Hobbit: An Unexpected Journey & 64 & 83\\\\\n",
       "\\end{tabular}\n"
      ],
      "text/markdown": [
       "\n",
       "A tibble: 5 × 4\n",
       "\n",
       "| ...1 &lt;dbl&gt; | MovieTitle &lt;chr&gt; | Tomatometer &lt;dbl&gt; | AudienceScore &lt;dbl&gt; |\n",
       "|---|---|---|---|\n",
       "| 0 | The Shape of Water                | 91 | 73 |\n",
       "| 1 | Black Panther                     | 97 | 79 |\n",
       "| 2 | Dunkirk                           | 92 | 81 |\n",
       "| 3 | The Martian                       | 91 | 91 |\n",
       "| 4 | The Hobbit: An Unexpected Journey | 64 | 83 |\n",
       "\n"
      ],
      "text/plain": [
       "  ...1 MovieTitle                        Tomatometer AudienceScore\n",
       "1 0    The Shape of Water                91          73           \n",
       "2 1    Black Panther                     97          79           \n",
       "3 2    Dunkirk                           92          81           \n",
       "4 3    The Martian                       91          91           \n",
       "5 4    The Hobbit: An Unexpected Journey 64          83           "
      ]
     },
     "metadata": {},
     "output_type": "display_data"
    }
   ],
   "source": [
    "Ldata%>%pivot_wider(names_from = \"Score.Type\",values_from ='Score')"
   ]
  },
  {
   "cell_type": "code",
   "execution_count": 68,
   "id": "8f5f5abf-b247-4032-accb-5853c77c1d48",
   "metadata": {},
   "outputs": [
    {
     "data": {
      "text/html": [
       "<table class=\"dataframe\">\n",
       "<caption>A tibble: 3 × 6</caption>\n",
       "<thead>\n",
       "\t<tr><th scope=col>month</th><th scope=col>bangalore</th><th scope=col>chennai</th><th scope=col>delhi</th><th scope=col>kolkata</th><th scope=col>mumbai</th></tr>\n",
       "\t<tr><th scope=col>&lt;chr&gt;</th><th scope=col>&lt;dbl&gt;</th><th scope=col>&lt;dbl&gt;</th><th scope=col>&lt;dbl&gt;</th><th scope=col>&lt;dbl&gt;</th><th scope=col>&lt;dbl&gt;</th></tr>\n",
       "</thead>\n",
       "<tbody>\n",
       "\t<tr><td>Feb</td><td>29.15</td><td> 9.50</td><td>27.97</td><td>34.48</td><td>31.73</td></tr>\n",
       "\t<tr><td>Jan</td><td>16.13</td><td>23.56</td><td> 4.53</td><td>10.75</td><td>-0.10</td></tr>\n",
       "\t<tr><td>Mar</td><td>35.95</td><td>28.94</td><td>24.86</td><td>13.52</td><td>43.54</td></tr>\n",
       "</tbody>\n",
       "</table>\n"
      ],
      "text/latex": [
       "A tibble: 3 × 6\n",
       "\\begin{tabular}{llllll}\n",
       " month & bangalore & chennai & delhi & kolkata & mumbai\\\\\n",
       " <chr> & <dbl> & <dbl> & <dbl> & <dbl> & <dbl>\\\\\n",
       "\\hline\n",
       "\t Feb & 29.15 &  9.50 & 27.97 & 34.48 & 31.73\\\\\n",
       "\t Jan & 16.13 & 23.56 &  4.53 & 10.75 & -0.10\\\\\n",
       "\t Mar & 35.95 & 28.94 & 24.86 & 13.52 & 43.54\\\\\n",
       "\\end{tabular}\n"
      ],
      "text/markdown": [
       "\n",
       "A tibble: 3 × 6\n",
       "\n",
       "| month &lt;chr&gt; | bangalore &lt;dbl&gt; | chennai &lt;dbl&gt; | delhi &lt;dbl&gt; | kolkata &lt;dbl&gt; | mumbai &lt;dbl&gt; |\n",
       "|---|---|---|---|---|---|\n",
       "| Feb | 29.15 |  9.50 | 27.97 | 34.48 | 31.73 |\n",
       "| Jan | 16.13 | 23.56 |  4.53 | 10.75 | -0.10 |\n",
       "| Mar | 35.95 | 28.94 | 24.86 | 13.52 | 43.54 |\n",
       "\n"
      ],
      "text/plain": [
       "  month bangalore chennai delhi kolkata mumbai\n",
       "1 Feb   29.15      9.50   27.97 34.48   31.73 \n",
       "2 Jan   16.13     23.56    4.53 10.75   -0.10 \n",
       "3 Mar   35.95     28.94   24.86 13.52   43.54 "
      ]
     },
     "metadata": {},
     "output_type": "display_data"
    }
   ],
   "source": [
    "spread_data"
   ]
  },
  {
   "attachments": {
    "09c76652-7697-42b5-8322-01fee38f1366.png": {
     "image/png": "[encoded data removed]"
    }
   },
   "cell_type": "markdown",
   "id": "4b3d254f-b662-4109-9299-24e9c5312c49",
   "metadata": {},
   "source": [
    "## 3.unite() Function\n",
    "\n",
    "Take a look at the following dataset:\n",
    "![image.png](attachment:09c76652-7697-42b5-8322-01fee38f1366.png)\n"
   ]
  },
  {
   "cell_type": "markdown",
   "id": "4f0ab6d2-c30b-49f0-9f93-569f6f85eb21",
   "metadata": {},
   "source": [
    "In the dataset, the month and year have separate columns. It looks inefficient, doesn’t it?\n",
    "The two variables month and year can be in the same column without affecting the information conveyed by the data.\n",
    "This is exactly what the unite() function does."
   ]
  },
  {
   "cell_type": "code",
   "execution_count": 75,
   "id": "427c3b7c-bf73-4660-80a6-3852d3b83437",
   "metadata": {},
   "outputs": [
    {
     "data": {
      "text/html": [
       "<table class=\"dataframe\">\n",
       "<caption>A data.frame: 4 × 3</caption>\n",
       "<thead>\n",
       "\t<tr><th scope=col>months</th><th scope=col>year</th><th scope=col>temp</th></tr>\n",
       "\t<tr><th scope=col>&lt;chr&gt;</th><th scope=col>&lt;chr&gt;</th><th scope=col>&lt;dbl&gt;</th></tr>\n",
       "</thead>\n",
       "<tbody>\n",
       "\t<tr><td>jan</td><td>2018</td><td> 4.64</td></tr>\n",
       "\t<tr><td>feb</td><td>2018</td><td>19.68</td></tr>\n",
       "\t<tr><td>jan</td><td>2019</td><td> 2.56</td></tr>\n",
       "\t<tr><td>mar</td><td>2019</td><td>36.74</td></tr>\n",
       "</tbody>\n",
       "</table>\n"
      ],
      "text/latex": [
       "A data.frame: 4 × 3\n",
       "\\begin{tabular}{lll}\n",
       " months & year & temp\\\\\n",
       " <chr> & <chr> & <dbl>\\\\\n",
       "\\hline\n",
       "\t jan & 2018 &  4.64\\\\\n",
       "\t feb & 2018 & 19.68\\\\\n",
       "\t jan & 2019 &  2.56\\\\\n",
       "\t mar & 2019 & 36.74\\\\\n",
       "\\end{tabular}\n"
      ],
      "text/markdown": [
       "\n",
       "A data.frame: 4 × 3\n",
       "\n",
       "| months &lt;chr&gt; | year &lt;chr&gt; | temp &lt;dbl&gt; |\n",
       "|---|---|---|\n",
       "| jan | 2018 |  4.64 |\n",
       "| feb | 2018 | 19.68 |\n",
       "| jan | 2019 |  2.56 |\n",
       "| mar | 2019 | 36.74 |\n",
       "\n"
      ],
      "text/plain": [
       "  months year temp \n",
       "1 jan    2018  4.64\n",
       "2 feb    2018 19.68\n",
       "3 jan    2019  2.56\n",
       "4 mar    2019 36.74"
      ]
     },
     "metadata": {},
     "output_type": "display_data"
    }
   ],
   "source": [
    "months <- c(\"jan\",\"feb\",\"jan\",\"mar\")\n",
    "year <- c(\"2018\",\"2018\",\"2019\",\"2019\")\n",
    "temp <- c(4.64,19.68,2.56,36.74)\n",
    "delhi_temp <- data.frame(months,year,temp)\n",
    "delhi_temp"
   ]
  },
  {
   "cell_type": "code",
   "execution_count": 87,
   "id": "734c0774-37dd-4288-b0ed-4426117d1c89",
   "metadata": {},
   "outputs": [
    {
     "data": {
      "text/html": [
       "<table class=\"dataframe\">\n",
       "<caption>A data.frame: 150 × 5</caption>\n",
       "<thead>\n",
       "\t<tr><th scope=col>Sepal.Length</th><th scope=col>Sepal.Width</th><th scope=col>Petal.Length</th><th scope=col>Petal.Width</th><th scope=col>Species</th></tr>\n",
       "\t<tr><th scope=col>&lt;dbl&gt;</th><th scope=col>&lt;dbl&gt;</th><th scope=col>&lt;dbl&gt;</th><th scope=col>&lt;dbl&gt;</th><th scope=col>&lt;fct&gt;</th></tr>\n",
       "</thead>\n",
       "<tbody>\n",
       "\t<tr><td>5.1</td><td>3.5</td><td>1.4</td><td>0.2</td><td>setosa</td></tr>\n",
       "\t<tr><td>4.9</td><td>3.0</td><td>1.4</td><td>0.2</td><td>setosa</td></tr>\n",
       "\t<tr><td>4.7</td><td>3.2</td><td>1.3</td><td>0.2</td><td>setosa</td></tr>\n",
       "\t<tr><td>4.6</td><td>3.1</td><td>1.5</td><td>0.2</td><td>setosa</td></tr>\n",
       "\t<tr><td>5.0</td><td>3.6</td><td>1.4</td><td>0.2</td><td>setosa</td></tr>\n",
       "\t<tr><td>5.4</td><td>3.9</td><td>1.7</td><td>0.4</td><td>setosa</td></tr>\n",
       "\t<tr><td>4.6</td><td>3.4</td><td>1.4</td><td>0.3</td><td>setosa</td></tr>\n",
       "\t<tr><td>5.0</td><td>3.4</td><td>1.5</td><td>0.2</td><td>setosa</td></tr>\n",
       "\t<tr><td>4.4</td><td>2.9</td><td>1.4</td><td>0.2</td><td>setosa</td></tr>\n",
       "\t<tr><td>4.9</td><td>3.1</td><td>1.5</td><td>0.1</td><td>setosa</td></tr>\n",
       "\t<tr><td>5.4</td><td>3.7</td><td>1.5</td><td>0.2</td><td>setosa</td></tr>\n",
       "\t<tr><td>4.8</td><td>3.4</td><td>1.6</td><td>0.2</td><td>setosa</td></tr>\n",
       "\t<tr><td>4.8</td><td>3.0</td><td>1.4</td><td>0.1</td><td>setosa</td></tr>\n",
       "\t<tr><td>4.3</td><td>3.0</td><td>1.1</td><td>0.1</td><td>setosa</td></tr>\n",
       "\t<tr><td>5.8</td><td>4.0</td><td>1.2</td><td>0.2</td><td>setosa</td></tr>\n",
       "\t<tr><td>5.7</td><td>4.4</td><td>1.5</td><td>0.4</td><td>setosa</td></tr>\n",
       "\t<tr><td>5.4</td><td>3.9</td><td>1.3</td><td>0.4</td><td>setosa</td></tr>\n",
       "\t<tr><td>5.1</td><td>3.5</td><td>1.4</td><td>0.3</td><td>setosa</td></tr>\n",
       "\t<tr><td>5.7</td><td>3.8</td><td>1.7</td><td>0.3</td><td>setosa</td></tr>\n",
       "\t<tr><td>5.1</td><td>3.8</td><td>1.5</td><td>0.3</td><td>setosa</td></tr>\n",
       "\t<tr><td>5.4</td><td>3.4</td><td>1.7</td><td>0.2</td><td>setosa</td></tr>\n",
       "\t<tr><td>5.1</td><td>3.7</td><td>1.5</td><td>0.4</td><td>setosa</td></tr>\n",
       "\t<tr><td>4.6</td><td>3.6</td><td>1.0</td><td>0.2</td><td>setosa</td></tr>\n",
       "\t<tr><td>5.1</td><td>3.3</td><td>1.7</td><td>0.5</td><td>setosa</td></tr>\n",
       "\t<tr><td>4.8</td><td>3.4</td><td>1.9</td><td>0.2</td><td>setosa</td></tr>\n",
       "\t<tr><td>5.0</td><td>3.0</td><td>1.6</td><td>0.2</td><td>setosa</td></tr>\n",
       "\t<tr><td>5.0</td><td>3.4</td><td>1.6</td><td>0.4</td><td>setosa</td></tr>\n",
       "\t<tr><td>5.2</td><td>3.5</td><td>1.5</td><td>0.2</td><td>setosa</td></tr>\n",
       "\t<tr><td>5.2</td><td>3.4</td><td>1.4</td><td>0.2</td><td>setosa</td></tr>\n",
       "\t<tr><td>4.7</td><td>3.2</td><td>1.6</td><td>0.2</td><td>setosa</td></tr>\n",
       "\t<tr><td>...</td><td>...</td><td>...</td><td>...</td><td>...</td></tr>\n",
       "\t<tr><td>6.9</td><td>3.2</td><td>5.7</td><td>2.3</td><td>virginica</td></tr>\n",
       "\t<tr><td>5.6</td><td>2.8</td><td>4.9</td><td>2.0</td><td>virginica</td></tr>\n",
       "\t<tr><td>7.7</td><td>2.8</td><td>6.7</td><td>2.0</td><td>virginica</td></tr>\n",
       "\t<tr><td>6.3</td><td>2.7</td><td>4.9</td><td>1.8</td><td>virginica</td></tr>\n",
       "\t<tr><td>6.7</td><td>3.3</td><td>5.7</td><td>2.1</td><td>virginica</td></tr>\n",
       "\t<tr><td>7.2</td><td>3.2</td><td>6.0</td><td>1.8</td><td>virginica</td></tr>\n",
       "\t<tr><td>6.2</td><td>2.8</td><td>4.8</td><td>1.8</td><td>virginica</td></tr>\n",
       "\t<tr><td>6.1</td><td>3.0</td><td>4.9</td><td>1.8</td><td>virginica</td></tr>\n",
       "\t<tr><td>6.4</td><td>2.8</td><td>5.6</td><td>2.1</td><td>virginica</td></tr>\n",
       "\t<tr><td>7.2</td><td>3.0</td><td>5.8</td><td>1.6</td><td>virginica</td></tr>\n",
       "\t<tr><td>7.4</td><td>2.8</td><td>6.1</td><td>1.9</td><td>virginica</td></tr>\n",
       "\t<tr><td>7.9</td><td>3.8</td><td>6.4</td><td>2.0</td><td>virginica</td></tr>\n",
       "\t<tr><td>6.4</td><td>2.8</td><td>5.6</td><td>2.2</td><td>virginica</td></tr>\n",
       "\t<tr><td>6.3</td><td>2.8</td><td>5.1</td><td>1.5</td><td>virginica</td></tr>\n",
       "\t<tr><td>6.1</td><td>2.6</td><td>5.6</td><td>1.4</td><td>virginica</td></tr>\n",
       "\t<tr><td>7.7</td><td>3.0</td><td>6.1</td><td>2.3</td><td>virginica</td></tr>\n",
       "\t<tr><td>6.3</td><td>3.4</td><td>5.6</td><td>2.4</td><td>virginica</td></tr>\n",
       "\t<tr><td>6.4</td><td>3.1</td><td>5.5</td><td>1.8</td><td>virginica</td></tr>\n",
       "\t<tr><td>6.0</td><td>3.0</td><td>4.8</td><td>1.8</td><td>virginica</td></tr>\n",
       "\t<tr><td>6.9</td><td>3.1</td><td>5.4</td><td>2.1</td><td>virginica</td></tr>\n",
       "\t<tr><td>6.7</td><td>3.1</td><td>5.6</td><td>2.4</td><td>virginica</td></tr>\n",
       "\t<tr><td>6.9</td><td>3.1</td><td>5.1</td><td>2.3</td><td>virginica</td></tr>\n",
       "\t<tr><td>5.8</td><td>2.7</td><td>5.1</td><td>1.9</td><td>virginica</td></tr>\n",
       "\t<tr><td>6.8</td><td>3.2</td><td>5.9</td><td>2.3</td><td>virginica</td></tr>\n",
       "\t<tr><td>6.7</td><td>3.3</td><td>5.7</td><td>2.5</td><td>virginica</td></tr>\n",
       "\t<tr><td>6.7</td><td>3.0</td><td>5.2</td><td>2.3</td><td>virginica</td></tr>\n",
       "\t<tr><td>6.3</td><td>2.5</td><td>5.0</td><td>1.9</td><td>virginica</td></tr>\n",
       "\t<tr><td>6.5</td><td>3.0</td><td>5.2</td><td>2.0</td><td>virginica</td></tr>\n",
       "\t<tr><td>6.2</td><td>3.4</td><td>5.4</td><td>2.3</td><td>virginica</td></tr>\n",
       "\t<tr><td>5.9</td><td>3.0</td><td>5.1</td><td>1.8</td><td>virginica</td></tr>\n",
       "</tbody>\n",
       "</table>\n"
      ],
      "text/latex": [
       "A data.frame: 150 × 5\n",
       "\\begin{tabular}{lllll}\n",
       " Sepal.Length & Sepal.Width & Petal.Length & Petal.Width & Species\\\\\n",
       " <dbl> & <dbl> & <dbl> & <dbl> & <fct>\\\\\n",
       "\\hline\n",
       "\t 5.1 & 3.5 & 1.4 & 0.2 & setosa\\\\\n",
       "\t 4.9 & 3.0 & 1.4 & 0.2 & setosa\\\\\n",
       "\t 4.7 & 3.2 & 1.3 & 0.2 & setosa\\\\\n",
       "\t 4.6 & 3.1 & 1.5 & 0.2 & setosa\\\\\n",
       "\t 5.0 & 3.6 & 1.4 & 0.2 & setosa\\\\\n",
       "\t 5.4 & 3.9 & 1.7 & 0.4 & setosa\\\\\n",
       "\t 4.6 & 3.4 & 1.4 & 0.3 & setosa\\\\\n",
       "\t 5.0 & 3.4 & 1.5 & 0.2 & setosa\\\\\n",
       "\t 4.4 & 2.9 & 1.4 & 0.2 & setosa\\\\\n",
       "\t 4.9 & 3.1 & 1.5 & 0.1 & setosa\\\\\n",
       "\t 5.4 & 3.7 & 1.5 & 0.2 & setosa\\\\\n",
       "\t 4.8 & 3.4 & 1.6 & 0.2 & setosa\\\\\n",
       "\t 4.8 & 3.0 & 1.4 & 0.1 & setosa\\\\\n",
       "\t 4.3 & 3.0 & 1.1 & 0.1 & setosa\\\\\n",
       "\t 5.8 & 4.0 & 1.2 & 0.2 & setosa\\\\\n",
       "\t 5.7 & 4.4 & 1.5 & 0.4 & setosa\\\\\n",
       "\t 5.4 & 3.9 & 1.3 & 0.4 & setosa\\\\\n",
       "\t 5.1 & 3.5 & 1.4 & 0.3 & setosa\\\\\n",
       "\t 5.7 & 3.8 & 1.7 & 0.3 & setosa\\\\\n",
       "\t 5.1 & 3.8 & 1.5 & 0.3 & setosa\\\\\n",
       "\t 5.4 & 3.4 & 1.7 & 0.2 & setosa\\\\\n",
       "\t 5.1 & 3.7 & 1.5 & 0.4 & setosa\\\\\n",
       "\t 4.6 & 3.6 & 1.0 & 0.2 & setosa\\\\\n",
       "\t 5.1 & 3.3 & 1.7 & 0.5 & setosa\\\\\n",
       "\t 4.8 & 3.4 & 1.9 & 0.2 & setosa\\\\\n",
       "\t 5.0 & 3.0 & 1.6 & 0.2 & setosa\\\\\n",
       "\t 5.0 & 3.4 & 1.6 & 0.4 & setosa\\\\\n",
       "\t 5.2 & 3.5 & 1.5 & 0.2 & setosa\\\\\n",
       "\t 5.2 & 3.4 & 1.4 & 0.2 & setosa\\\\\n",
       "\t 4.7 & 3.2 & 1.6 & 0.2 & setosa\\\\\n",
       "\t ... & ... & ... & ... & ...\\\\\n",
       "\t 6.9 & 3.2 & 5.7 & 2.3 & virginica\\\\\n",
       "\t 5.6 & 2.8 & 4.9 & 2.0 & virginica\\\\\n",
       "\t 7.7 & 2.8 & 6.7 & 2.0 & virginica\\\\\n",
       "\t 6.3 & 2.7 & 4.9 & 1.8 & virginica\\\\\n",
       "\t 6.7 & 3.3 & 5.7 & 2.1 & virginica\\\\\n",
       "\t 7.2 & 3.2 & 6.0 & 1.8 & virginica\\\\\n",
       "\t 6.2 & 2.8 & 4.8 & 1.8 & virginica\\\\\n",
       "\t 6.1 & 3.0 & 4.9 & 1.8 & virginica\\\\\n",
       "\t 6.4 & 2.8 & 5.6 & 2.1 & virginica\\\\\n",
       "\t 7.2 & 3.0 & 5.8 & 1.6 & virginica\\\\\n",
       "\t 7.4 & 2.8 & 6.1 & 1.9 & virginica\\\\\n",
       "\t 7.9 & 3.8 & 6.4 & 2.0 & virginica\\\\\n",
       "\t 6.4 & 2.8 & 5.6 & 2.2 & virginica\\\\\n",
       "\t 6.3 & 2.8 & 5.1 & 1.5 & virginica\\\\\n",
       "\t 6.1 & 2.6 & 5.6 & 1.4 & virginica\\\\\n",
       "\t 7.7 & 3.0 & 6.1 & 2.3 & virginica\\\\\n",
       "\t 6.3 & 3.4 & 5.6 & 2.4 & virginica\\\\\n",
       "\t 6.4 & 3.1 & 5.5 & 1.8 & virginica\\\\\n",
       "\t 6.0 & 3.0 & 4.8 & 1.8 & virginica\\\\\n",
       "\t 6.9 & 3.1 & 5.4 & 2.1 & virginica\\\\\n",
       "\t 6.7 & 3.1 & 5.6 & 2.4 & virginica\\\\\n",
       "\t 6.9 & 3.1 & 5.1 & 2.3 & virginica\\\\\n",
       "\t 5.8 & 2.7 & 5.1 & 1.9 & virginica\\\\\n",
       "\t 6.8 & 3.2 & 5.9 & 2.3 & virginica\\\\\n",
       "\t 6.7 & 3.3 & 5.7 & 2.5 & virginica\\\\\n",
       "\t 6.7 & 3.0 & 5.2 & 2.3 & virginica\\\\\n",
       "\t 6.3 & 2.5 & 5.0 & 1.9 & virginica\\\\\n",
       "\t 6.5 & 3.0 & 5.2 & 2.0 & virginica\\\\\n",
       "\t 6.2 & 3.4 & 5.4 & 2.3 & virginica\\\\\n",
       "\t 5.9 & 3.0 & 5.1 & 1.8 & virginica\\\\\n",
       "\\end{tabular}\n"
      ],
      "text/markdown": [
       "\n",
       "A data.frame: 150 × 5\n",
       "\n",
       "| Sepal.Length &lt;dbl&gt; | Sepal.Width &lt;dbl&gt; | Petal.Length &lt;dbl&gt; | Petal.Width &lt;dbl&gt; | Species &lt;fct&gt; |\n",
       "|---|---|---|---|---|\n",
       "| 5.1 | 3.5 | 1.4 | 0.2 | setosa |\n",
       "| 4.9 | 3.0 | 1.4 | 0.2 | setosa |\n",
       "| 4.7 | 3.2 | 1.3 | 0.2 | setosa |\n",
       "| 4.6 | 3.1 | 1.5 | 0.2 | setosa |\n",
       "| 5.0 | 3.6 | 1.4 | 0.2 | setosa |\n",
       "| 5.4 | 3.9 | 1.7 | 0.4 | setosa |\n",
       "| 4.6 | 3.4 | 1.4 | 0.3 | setosa |\n",
       "| 5.0 | 3.4 | 1.5 | 0.2 | setosa |\n",
       "| 4.4 | 2.9 | 1.4 | 0.2 | setosa |\n",
       "| 4.9 | 3.1 | 1.5 | 0.1 | setosa |\n",
       "| 5.4 | 3.7 | 1.5 | 0.2 | setosa |\n",
       "| 4.8 | 3.4 | 1.6 | 0.2 | setosa |\n",
       "| 4.8 | 3.0 | 1.4 | 0.1 | setosa |\n",
       "| 4.3 | 3.0 | 1.1 | 0.1 | setosa |\n",
       "| 5.8 | 4.0 | 1.2 | 0.2 | setosa |\n",
       "| 5.7 | 4.4 | 1.5 | 0.4 | setosa |\n",
       "| 5.4 | 3.9 | 1.3 | 0.4 | setosa |\n",
       "| 5.1 | 3.5 | 1.4 | 0.3 | setosa |\n",
       "| 5.7 | 3.8 | 1.7 | 0.3 | setosa |\n",
       "| 5.1 | 3.8 | 1.5 | 0.3 | setosa |\n",
       "| 5.4 | 3.4 | 1.7 | 0.2 | setosa |\n",
       "| 5.1 | 3.7 | 1.5 | 0.4 | setosa |\n",
       "| 4.6 | 3.6 | 1.0 | 0.2 | setosa |\n",
       "| 5.1 | 3.3 | 1.7 | 0.5 | setosa |\n",
       "| 4.8 | 3.4 | 1.9 | 0.2 | setosa |\n",
       "| 5.0 | 3.0 | 1.6 | 0.2 | setosa |\n",
       "| 5.0 | 3.4 | 1.6 | 0.4 | setosa |\n",
       "| 5.2 | 3.5 | 1.5 | 0.2 | setosa |\n",
       "| 5.2 | 3.4 | 1.4 | 0.2 | setosa |\n",
       "| 4.7 | 3.2 | 1.6 | 0.2 | setosa |\n",
       "| ... | ... | ... | ... | ... |\n",
       "| 6.9 | 3.2 | 5.7 | 2.3 | virginica |\n",
       "| 5.6 | 2.8 | 4.9 | 2.0 | virginica |\n",
       "| 7.7 | 2.8 | 6.7 | 2.0 | virginica |\n",
       "| 6.3 | 2.7 | 4.9 | 1.8 | virginica |\n",
       "| 6.7 | 3.3 | 5.7 | 2.1 | virginica |\n",
       "| 7.2 | 3.2 | 6.0 | 1.8 | virginica |\n",
       "| 6.2 | 2.8 | 4.8 | 1.8 | virginica |\n",
       "| 6.1 | 3.0 | 4.9 | 1.8 | virginica |\n",
       "| 6.4 | 2.8 | 5.6 | 2.1 | virginica |\n",
       "| 7.2 | 3.0 | 5.8 | 1.6 | virginica |\n",
       "| 7.4 | 2.8 | 6.1 | 1.9 | virginica |\n",
       "| 7.9 | 3.8 | 6.4 | 2.0 | virginica |\n",
       "| 6.4 | 2.8 | 5.6 | 2.2 | virginica |\n",
       "| 6.3 | 2.8 | 5.1 | 1.5 | virginica |\n",
       "| 6.1 | 2.6 | 5.6 | 1.4 | virginica |\n",
       "| 7.7 | 3.0 | 6.1 | 2.3 | virginica |\n",
       "| 6.3 | 3.4 | 5.6 | 2.4 | virginica |\n",
       "| 6.4 | 3.1 | 5.5 | 1.8 | virginica |\n",
       "| 6.0 | 3.0 | 4.8 | 1.8 | virginica |\n",
       "| 6.9 | 3.1 | 5.4 | 2.1 | virginica |\n",
       "| 6.7 | 3.1 | 5.6 | 2.4 | virginica |\n",
       "| 6.9 | 3.1 | 5.1 | 2.3 | virginica |\n",
       "| 5.8 | 2.7 | 5.1 | 1.9 | virginica |\n",
       "| 6.8 | 3.2 | 5.9 | 2.3 | virginica |\n",
       "| 6.7 | 3.3 | 5.7 | 2.5 | virginica |\n",
       "| 6.7 | 3.0 | 5.2 | 2.3 | virginica |\n",
       "| 6.3 | 2.5 | 5.0 | 1.9 | virginica |\n",
       "| 6.5 | 3.0 | 5.2 | 2.0 | virginica |\n",
       "| 6.2 | 3.4 | 5.4 | 2.3 | virginica |\n",
       "| 5.9 | 3.0 | 5.1 | 1.8 | virginica |\n",
       "\n"
      ],
      "text/plain": [
       "    Sepal.Length Sepal.Width Petal.Length Petal.Width Species  \n",
       "1   5.1          3.5         1.4          0.2         setosa   \n",
       "2   4.9          3.0         1.4          0.2         setosa   \n",
       "3   4.7          3.2         1.3          0.2         setosa   \n",
       "4   4.6          3.1         1.5          0.2         setosa   \n",
       "5   5.0          3.6         1.4          0.2         setosa   \n",
       "6   5.4          3.9         1.7          0.4         setosa   \n",
       "7   4.6          3.4         1.4          0.3         setosa   \n",
       "8   5.0          3.4         1.5          0.2         setosa   \n",
       "9   4.4          2.9         1.4          0.2         setosa   \n",
       "10  4.9          3.1         1.5          0.1         setosa   \n",
       "11  5.4          3.7         1.5          0.2         setosa   \n",
       "12  4.8          3.4         1.6          0.2         setosa   \n",
       "13  4.8          3.0         1.4          0.1         setosa   \n",
       "14  4.3          3.0         1.1          0.1         setosa   \n",
       "15  5.8          4.0         1.2          0.2         setosa   \n",
       "16  5.7          4.4         1.5          0.4         setosa   \n",
       "17  5.4          3.9         1.3          0.4         setosa   \n",
       "18  5.1          3.5         1.4          0.3         setosa   \n",
       "19  5.7          3.8         1.7          0.3         setosa   \n",
       "20  5.1          3.8         1.5          0.3         setosa   \n",
       "21  5.4          3.4         1.7          0.2         setosa   \n",
       "22  5.1          3.7         1.5          0.4         setosa   \n",
       "23  4.6          3.6         1.0          0.2         setosa   \n",
       "24  5.1          3.3         1.7          0.5         setosa   \n",
       "25  4.8          3.4         1.9          0.2         setosa   \n",
       "26  5.0          3.0         1.6          0.2         setosa   \n",
       "27  5.0          3.4         1.6          0.4         setosa   \n",
       "28  5.2          3.5         1.5          0.2         setosa   \n",
       "29  5.2          3.4         1.4          0.2         setosa   \n",
       "30  4.7          3.2         1.6          0.2         setosa   \n",
       "... ...          ...         ...          ...         ...      \n",
       "121 6.9          3.2         5.7          2.3         virginica\n",
       "122 5.6          2.8         4.9          2.0         virginica\n",
       "123 7.7          2.8         6.7          2.0         virginica\n",
       "124 6.3          2.7         4.9          1.8         virginica\n",
       "125 6.7          3.3         5.7          2.1         virginica\n",
       "126 7.2          3.2         6.0          1.8         virginica\n",
       "127 6.2          2.8         4.8          1.8         virginica\n",
       "128 6.1          3.0         4.9          1.8         virginica\n",
       "129 6.4          2.8         5.6          2.1         virginica\n",
       "130 7.2          3.0         5.8          1.6         virginica\n",
       "131 7.4          2.8         6.1          1.9         virginica\n",
       "132 7.9          3.8         6.4          2.0         virginica\n",
       "133 6.4          2.8         5.6          2.2         virginica\n",
       "134 6.3          2.8         5.1          1.5         virginica\n",
       "135 6.1          2.6         5.6          1.4         virginica\n",
       "136 7.7          3.0         6.1          2.3         virginica\n",
       "137 6.3          3.4         5.6          2.4         virginica\n",
       "138 6.4          3.1         5.5          1.8         virginica\n",
       "139 6.0          3.0         4.8          1.8         virginica\n",
       "140 6.9          3.1         5.4          2.1         virginica\n",
       "141 6.7          3.1         5.6          2.4         virginica\n",
       "142 6.9          3.1         5.1          2.3         virginica\n",
       "143 5.8          2.7         5.1          1.9         virginica\n",
       "144 6.8          3.2         5.9          2.3         virginica\n",
       "145 6.7          3.3         5.7          2.5         virginica\n",
       "146 6.7          3.0         5.2          2.3         virginica\n",
       "147 6.3          2.5         5.0          1.9         virginica\n",
       "148 6.5          3.0         5.2          2.0         virginica\n",
       "149 6.2          3.4         5.4          2.3         virginica\n",
       "150 5.9          3.0         5.1          1.8         virginica"
      ]
     },
     "metadata": {},
     "output_type": "display_data"
    }
   ],
   "source": [
    "iris"
   ]
  },
  {
   "cell_type": "code",
   "execution_count": 92,
   "id": "44bdce03-8bcf-4276-90b1-dd84f0e7b2f5",
   "metadata": {},
   "outputs": [
    {
     "name": "stderr",
     "output_type": "stream",
     "text": [
      "Warning message:\n",
      "\"Expected 3 pieces. Additional pieces discarded in 149 rows [1, 2, 3, 4, 5, 6, 7, 8, 9, 10, 11, 12, 13, 14, 15, 16, 17, 18, 19, 20, ...].\"\n"
     ]
    },
    {
     "data": {
      "text/html": [
       "<table class=\"dataframe\">\n",
       "<caption>A data.frame: 150 × 5</caption>\n",
       "<thead>\n",
       "\t<tr><th scope=col>S.L</th><th scope=col>S.W</th><th scope=col>P.W</th><th scope=col>Petal.Length</th><th scope=col>Species</th></tr>\n",
       "\t<tr><th scope=col>&lt;chr&gt;</th><th scope=col>&lt;chr&gt;</th><th scope=col>&lt;chr&gt;</th><th scope=col>&lt;dbl&gt;</th><th scope=col>&lt;fct&gt;</th></tr>\n",
       "</thead>\n",
       "<tbody>\n",
       "\t<tr><td>5</td><td>1</td><td>3</td><td>1.4</td><td>setosa</td></tr>\n",
       "\t<tr><td>4</td><td>9</td><td>3</td><td>1.4</td><td>setosa</td></tr>\n",
       "\t<tr><td>4</td><td>7</td><td>3</td><td>1.3</td><td>setosa</td></tr>\n",
       "\t<tr><td>4</td><td>6</td><td>3</td><td>1.5</td><td>setosa</td></tr>\n",
       "\t<tr><td>5</td><td>3</td><td>6</td><td>1.4</td><td>setosa</td></tr>\n",
       "\t<tr><td>5</td><td>4</td><td>3</td><td>1.7</td><td>setosa</td></tr>\n",
       "\t<tr><td>4</td><td>6</td><td>3</td><td>1.4</td><td>setosa</td></tr>\n",
       "\t<tr><td>5</td><td>3</td><td>4</td><td>1.5</td><td>setosa</td></tr>\n",
       "\t<tr><td>4</td><td>4</td><td>2</td><td>1.4</td><td>setosa</td></tr>\n",
       "\t<tr><td>4</td><td>9</td><td>3</td><td>1.5</td><td>setosa</td></tr>\n",
       "\t<tr><td>5</td><td>4</td><td>3</td><td>1.5</td><td>setosa</td></tr>\n",
       "\t<tr><td>4</td><td>8</td><td>3</td><td>1.6</td><td>setosa</td></tr>\n",
       "\t<tr><td>4</td><td>8</td><td>3</td><td>1.4</td><td>setosa</td></tr>\n",
       "\t<tr><td>4</td><td>3</td><td>3</td><td>1.1</td><td>setosa</td></tr>\n",
       "\t<tr><td>5</td><td>8</td><td>4</td><td>1.2</td><td>setosa</td></tr>\n",
       "\t<tr><td>5</td><td>7</td><td>4</td><td>1.5</td><td>setosa</td></tr>\n",
       "\t<tr><td>5</td><td>4</td><td>3</td><td>1.3</td><td>setosa</td></tr>\n",
       "\t<tr><td>5</td><td>1</td><td>3</td><td>1.4</td><td>setosa</td></tr>\n",
       "\t<tr><td>5</td><td>7</td><td>3</td><td>1.7</td><td>setosa</td></tr>\n",
       "\t<tr><td>5</td><td>1</td><td>3</td><td>1.5</td><td>setosa</td></tr>\n",
       "\t<tr><td>5</td><td>4</td><td>3</td><td>1.7</td><td>setosa</td></tr>\n",
       "\t<tr><td>5</td><td>1</td><td>3</td><td>1.5</td><td>setosa</td></tr>\n",
       "\t<tr><td>4</td><td>6</td><td>3</td><td>1.0</td><td>setosa</td></tr>\n",
       "\t<tr><td>5</td><td>1</td><td>3</td><td>1.7</td><td>setosa</td></tr>\n",
       "\t<tr><td>4</td><td>8</td><td>3</td><td>1.9</td><td>setosa</td></tr>\n",
       "\t<tr><td>5</td><td>3</td><td>0</td><td>1.6</td><td>setosa</td></tr>\n",
       "\t<tr><td>5</td><td>3</td><td>4</td><td>1.6</td><td>setosa</td></tr>\n",
       "\t<tr><td>5</td><td>2</td><td>3</td><td>1.5</td><td>setosa</td></tr>\n",
       "\t<tr><td>5</td><td>2</td><td>3</td><td>1.4</td><td>setosa</td></tr>\n",
       "\t<tr><td>4</td><td>7</td><td>3</td><td>1.6</td><td>setosa</td></tr>\n",
       "\t<tr><td>...</td><td>...</td><td>...</td><td>...</td><td>...</td></tr>\n",
       "\t<tr><td>6</td><td>9</td><td>3</td><td>5.7</td><td>virginica</td></tr>\n",
       "\t<tr><td>5</td><td>6</td><td>2</td><td>4.9</td><td>virginica</td></tr>\n",
       "\t<tr><td>7</td><td>7</td><td>2</td><td>6.7</td><td>virginica</td></tr>\n",
       "\t<tr><td>6</td><td>3</td><td>2</td><td>4.9</td><td>virginica</td></tr>\n",
       "\t<tr><td>6</td><td>7</td><td>3</td><td>5.7</td><td>virginica</td></tr>\n",
       "\t<tr><td>7</td><td>2</td><td>3</td><td>6.0</td><td>virginica</td></tr>\n",
       "\t<tr><td>6</td><td>2</td><td>2</td><td>4.8</td><td>virginica</td></tr>\n",
       "\t<tr><td>6</td><td>1</td><td>3</td><td>4.9</td><td>virginica</td></tr>\n",
       "\t<tr><td>6</td><td>4</td><td>2</td><td>5.6</td><td>virginica</td></tr>\n",
       "\t<tr><td>7</td><td>2</td><td>3</td><td>5.8</td><td>virginica</td></tr>\n",
       "\t<tr><td>7</td><td>4</td><td>2</td><td>6.1</td><td>virginica</td></tr>\n",
       "\t<tr><td>7</td><td>9</td><td>3</td><td>6.4</td><td>virginica</td></tr>\n",
       "\t<tr><td>6</td><td>4</td><td>2</td><td>5.6</td><td>virginica</td></tr>\n",
       "\t<tr><td>6</td><td>3</td><td>2</td><td>5.1</td><td>virginica</td></tr>\n",
       "\t<tr><td>6</td><td>1</td><td>2</td><td>5.6</td><td>virginica</td></tr>\n",
       "\t<tr><td>7</td><td>7</td><td>3</td><td>6.1</td><td>virginica</td></tr>\n",
       "\t<tr><td>6</td><td>3</td><td>3</td><td>5.6</td><td>virginica</td></tr>\n",
       "\t<tr><td>6</td><td>4</td><td>3</td><td>5.5</td><td>virginica</td></tr>\n",
       "\t<tr><td>6</td><td>3</td><td>1</td><td>4.8</td><td>virginica</td></tr>\n",
       "\t<tr><td>6</td><td>9</td><td>3</td><td>5.4</td><td>virginica</td></tr>\n",
       "\t<tr><td>6</td><td>7</td><td>3</td><td>5.6</td><td>virginica</td></tr>\n",
       "\t<tr><td>6</td><td>9</td><td>3</td><td>5.1</td><td>virginica</td></tr>\n",
       "\t<tr><td>5</td><td>8</td><td>2</td><td>5.1</td><td>virginica</td></tr>\n",
       "\t<tr><td>6</td><td>8</td><td>3</td><td>5.9</td><td>virginica</td></tr>\n",
       "\t<tr><td>6</td><td>7</td><td>3</td><td>5.7</td><td>virginica</td></tr>\n",
       "\t<tr><td>6</td><td>7</td><td>3</td><td>5.2</td><td>virginica</td></tr>\n",
       "\t<tr><td>6</td><td>3</td><td>2</td><td>5.0</td><td>virginica</td></tr>\n",
       "\t<tr><td>6</td><td>5</td><td>3</td><td>5.2</td><td>virginica</td></tr>\n",
       "\t<tr><td>6</td><td>2</td><td>3</td><td>5.4</td><td>virginica</td></tr>\n",
       "\t<tr><td>5</td><td>9</td><td>3</td><td>5.1</td><td>virginica</td></tr>\n",
       "</tbody>\n",
       "</table>\n"
      ],
      "text/latex": [
       "A data.frame: 150 × 5\n",
       "\\begin{tabular}{lllll}\n",
       " S.L & S.W & P.W & Petal.Length & Species\\\\\n",
       " <chr> & <chr> & <chr> & <dbl> & <fct>\\\\\n",
       "\\hline\n",
       "\t 5 & 1 & 3 & 1.4 & setosa\\\\\n",
       "\t 4 & 9 & 3 & 1.4 & setosa\\\\\n",
       "\t 4 & 7 & 3 & 1.3 & setosa\\\\\n",
       "\t 4 & 6 & 3 & 1.5 & setosa\\\\\n",
       "\t 5 & 3 & 6 & 1.4 & setosa\\\\\n",
       "\t 5 & 4 & 3 & 1.7 & setosa\\\\\n",
       "\t 4 & 6 & 3 & 1.4 & setosa\\\\\n",
       "\t 5 & 3 & 4 & 1.5 & setosa\\\\\n",
       "\t 4 & 4 & 2 & 1.4 & setosa\\\\\n",
       "\t 4 & 9 & 3 & 1.5 & setosa\\\\\n",
       "\t 5 & 4 & 3 & 1.5 & setosa\\\\\n",
       "\t 4 & 8 & 3 & 1.6 & setosa\\\\\n",
       "\t 4 & 8 & 3 & 1.4 & setosa\\\\\n",
       "\t 4 & 3 & 3 & 1.1 & setosa\\\\\n",
       "\t 5 & 8 & 4 & 1.2 & setosa\\\\\n",
       "\t 5 & 7 & 4 & 1.5 & setosa\\\\\n",
       "\t 5 & 4 & 3 & 1.3 & setosa\\\\\n",
       "\t 5 & 1 & 3 & 1.4 & setosa\\\\\n",
       "\t 5 & 7 & 3 & 1.7 & setosa\\\\\n",
       "\t 5 & 1 & 3 & 1.5 & setosa\\\\\n",
       "\t 5 & 4 & 3 & 1.7 & setosa\\\\\n",
       "\t 5 & 1 & 3 & 1.5 & setosa\\\\\n",
       "\t 4 & 6 & 3 & 1.0 & setosa\\\\\n",
       "\t 5 & 1 & 3 & 1.7 & setosa\\\\\n",
       "\t 4 & 8 & 3 & 1.9 & setosa\\\\\n",
       "\t 5 & 3 & 0 & 1.6 & setosa\\\\\n",
       "\t 5 & 3 & 4 & 1.6 & setosa\\\\\n",
       "\t 5 & 2 & 3 & 1.5 & setosa\\\\\n",
       "\t 5 & 2 & 3 & 1.4 & setosa\\\\\n",
       "\t 4 & 7 & 3 & 1.6 & setosa\\\\\n",
       "\t ... & ... & ... & ... & ...\\\\\n",
       "\t 6 & 9 & 3 & 5.7 & virginica\\\\\n",
       "\t 5 & 6 & 2 & 4.9 & virginica\\\\\n",
       "\t 7 & 7 & 2 & 6.7 & virginica\\\\\n",
       "\t 6 & 3 & 2 & 4.9 & virginica\\\\\n",
       "\t 6 & 7 & 3 & 5.7 & virginica\\\\\n",
       "\t 7 & 2 & 3 & 6.0 & virginica\\\\\n",
       "\t 6 & 2 & 2 & 4.8 & virginica\\\\\n",
       "\t 6 & 1 & 3 & 4.9 & virginica\\\\\n",
       "\t 6 & 4 & 2 & 5.6 & virginica\\\\\n",
       "\t 7 & 2 & 3 & 5.8 & virginica\\\\\n",
       "\t 7 & 4 & 2 & 6.1 & virginica\\\\\n",
       "\t 7 & 9 & 3 & 6.4 & virginica\\\\\n",
       "\t 6 & 4 & 2 & 5.6 & virginica\\\\\n",
       "\t 6 & 3 & 2 & 5.1 & virginica\\\\\n",
       "\t 6 & 1 & 2 & 5.6 & virginica\\\\\n",
       "\t 7 & 7 & 3 & 6.1 & virginica\\\\\n",
       "\t 6 & 3 & 3 & 5.6 & virginica\\\\\n",
       "\t 6 & 4 & 3 & 5.5 & virginica\\\\\n",
       "\t 6 & 3 & 1 & 4.8 & virginica\\\\\n",
       "\t 6 & 9 & 3 & 5.4 & virginica\\\\\n",
       "\t 6 & 7 & 3 & 5.6 & virginica\\\\\n",
       "\t 6 & 9 & 3 & 5.1 & virginica\\\\\n",
       "\t 5 & 8 & 2 & 5.1 & virginica\\\\\n",
       "\t 6 & 8 & 3 & 5.9 & virginica\\\\\n",
       "\t 6 & 7 & 3 & 5.7 & virginica\\\\\n",
       "\t 6 & 7 & 3 & 5.2 & virginica\\\\\n",
       "\t 6 & 3 & 2 & 5.0 & virginica\\\\\n",
       "\t 6 & 5 & 3 & 5.2 & virginica\\\\\n",
       "\t 6 & 2 & 3 & 5.4 & virginica\\\\\n",
       "\t 5 & 9 & 3 & 5.1 & virginica\\\\\n",
       "\\end{tabular}\n"
      ],
      "text/markdown": [
       "\n",
       "A data.frame: 150 × 5\n",
       "\n",
       "| S.L &lt;chr&gt; | S.W &lt;chr&gt; | P.W &lt;chr&gt; | Petal.Length &lt;dbl&gt; | Species &lt;fct&gt; |\n",
       "|---|---|---|---|---|\n",
       "| 5 | 1 | 3 | 1.4 | setosa |\n",
       "| 4 | 9 | 3 | 1.4 | setosa |\n",
       "| 4 | 7 | 3 | 1.3 | setosa |\n",
       "| 4 | 6 | 3 | 1.5 | setosa |\n",
       "| 5 | 3 | 6 | 1.4 | setosa |\n",
       "| 5 | 4 | 3 | 1.7 | setosa |\n",
       "| 4 | 6 | 3 | 1.4 | setosa |\n",
       "| 5 | 3 | 4 | 1.5 | setosa |\n",
       "| 4 | 4 | 2 | 1.4 | setosa |\n",
       "| 4 | 9 | 3 | 1.5 | setosa |\n",
       "| 5 | 4 | 3 | 1.5 | setosa |\n",
       "| 4 | 8 | 3 | 1.6 | setosa |\n",
       "| 4 | 8 | 3 | 1.4 | setosa |\n",
       "| 4 | 3 | 3 | 1.1 | setosa |\n",
       "| 5 | 8 | 4 | 1.2 | setosa |\n",
       "| 5 | 7 | 4 | 1.5 | setosa |\n",
       "| 5 | 4 | 3 | 1.3 | setosa |\n",
       "| 5 | 1 | 3 | 1.4 | setosa |\n",
       "| 5 | 7 | 3 | 1.7 | setosa |\n",
       "| 5 | 1 | 3 | 1.5 | setosa |\n",
       "| 5 | 4 | 3 | 1.7 | setosa |\n",
       "| 5 | 1 | 3 | 1.5 | setosa |\n",
       "| 4 | 6 | 3 | 1.0 | setosa |\n",
       "| 5 | 1 | 3 | 1.7 | setosa |\n",
       "| 4 | 8 | 3 | 1.9 | setosa |\n",
       "| 5 | 3 | 0 | 1.6 | setosa |\n",
       "| 5 | 3 | 4 | 1.6 | setosa |\n",
       "| 5 | 2 | 3 | 1.5 | setosa |\n",
       "| 5 | 2 | 3 | 1.4 | setosa |\n",
       "| 4 | 7 | 3 | 1.6 | setosa |\n",
       "| ... | ... | ... | ... | ... |\n",
       "| 6 | 9 | 3 | 5.7 | virginica |\n",
       "| 5 | 6 | 2 | 4.9 | virginica |\n",
       "| 7 | 7 | 2 | 6.7 | virginica |\n",
       "| 6 | 3 | 2 | 4.9 | virginica |\n",
       "| 6 | 7 | 3 | 5.7 | virginica |\n",
       "| 7 | 2 | 3 | 6.0 | virginica |\n",
       "| 6 | 2 | 2 | 4.8 | virginica |\n",
       "| 6 | 1 | 3 | 4.9 | virginica |\n",
       "| 6 | 4 | 2 | 5.6 | virginica |\n",
       "| 7 | 2 | 3 | 5.8 | virginica |\n",
       "| 7 | 4 | 2 | 6.1 | virginica |\n",
       "| 7 | 9 | 3 | 6.4 | virginica |\n",
       "| 6 | 4 | 2 | 5.6 | virginica |\n",
       "| 6 | 3 | 2 | 5.1 | virginica |\n",
       "| 6 | 1 | 2 | 5.6 | virginica |\n",
       "| 7 | 7 | 3 | 6.1 | virginica |\n",
       "| 6 | 3 | 3 | 5.6 | virginica |\n",
       "| 6 | 4 | 3 | 5.5 | virginica |\n",
       "| 6 | 3 | 1 | 4.8 | virginica |\n",
       "| 6 | 9 | 3 | 5.4 | virginica |\n",
       "| 6 | 7 | 3 | 5.6 | virginica |\n",
       "| 6 | 9 | 3 | 5.1 | virginica |\n",
       "| 5 | 8 | 2 | 5.1 | virginica |\n",
       "| 6 | 8 | 3 | 5.9 | virginica |\n",
       "| 6 | 7 | 3 | 5.7 | virginica |\n",
       "| 6 | 7 | 3 | 5.2 | virginica |\n",
       "| 6 | 3 | 2 | 5.0 | virginica |\n",
       "| 6 | 5 | 3 | 5.2 | virginica |\n",
       "| 6 | 2 | 3 | 5.4 | virginica |\n",
       "| 5 | 9 | 3 | 5.1 | virginica |\n",
       "\n"
      ],
      "text/plain": [
       "    S.L S.W P.W Petal.Length Species  \n",
       "1   5   1   3   1.4          setosa   \n",
       "2   4   9   3   1.4          setosa   \n",
       "3   4   7   3   1.3          setosa   \n",
       "4   4   6   3   1.5          setosa   \n",
       "5   5   3   6   1.4          setosa   \n",
       "6   5   4   3   1.7          setosa   \n",
       "7   4   6   3   1.4          setosa   \n",
       "8   5   3   4   1.5          setosa   \n",
       "9   4   4   2   1.4          setosa   \n",
       "10  4   9   3   1.5          setosa   \n",
       "11  5   4   3   1.5          setosa   \n",
       "12  4   8   3   1.6          setosa   \n",
       "13  4   8   3   1.4          setosa   \n",
       "14  4   3   3   1.1          setosa   \n",
       "15  5   8   4   1.2          setosa   \n",
       "16  5   7   4   1.5          setosa   \n",
       "17  5   4   3   1.3          setosa   \n",
       "18  5   1   3   1.4          setosa   \n",
       "19  5   7   3   1.7          setosa   \n",
       "20  5   1   3   1.5          setosa   \n",
       "21  5   4   3   1.7          setosa   \n",
       "22  5   1   3   1.5          setosa   \n",
       "23  4   6   3   1.0          setosa   \n",
       "24  5   1   3   1.7          setosa   \n",
       "25  4   8   3   1.9          setosa   \n",
       "26  5   3   0   1.6          setosa   \n",
       "27  5   3   4   1.6          setosa   \n",
       "28  5   2   3   1.5          setosa   \n",
       "29  5   2   3   1.4          setosa   \n",
       "30  4   7   3   1.6          setosa   \n",
       "... ... ... ... ...          ...      \n",
       "121 6   9   3   5.7          virginica\n",
       "122 5   6   2   4.9          virginica\n",
       "123 7   7   2   6.7          virginica\n",
       "124 6   3   2   4.9          virginica\n",
       "125 6   7   3   5.7          virginica\n",
       "126 7   2   3   6.0          virginica\n",
       "127 6   2   2   4.8          virginica\n",
       "128 6   1   3   4.9          virginica\n",
       "129 6   4   2   5.6          virginica\n",
       "130 7   2   3   5.8          virginica\n",
       "131 7   4   2   6.1          virginica\n",
       "132 7   9   3   6.4          virginica\n",
       "133 6   4   2   5.6          virginica\n",
       "134 6   3   2   5.1          virginica\n",
       "135 6   1   2   5.6          virginica\n",
       "136 7   7   3   6.1          virginica\n",
       "137 6   3   3   5.6          virginica\n",
       "138 6   4   3   5.5          virginica\n",
       "139 6   3   1   4.8          virginica\n",
       "140 6   9   3   5.4          virginica\n",
       "141 6   7   3   5.6          virginica\n",
       "142 6   9   3   5.1          virginica\n",
       "143 5   8   2   5.1          virginica\n",
       "144 6   8   3   5.9          virginica\n",
       "145 6   7   3   5.7          virginica\n",
       "146 6   7   3   5.2          virginica\n",
       "147 6   3   2   5.0          virginica\n",
       "148 6   5   3   5.2          virginica\n",
       "149 6   2   3   5.4          virginica\n",
       "150 5   9   3   5.1          virginica"
      ]
     },
     "metadata": {},
     "output_type": "display_data"
    }
   ],
   "source": [
    "iris%>%unite(col = \"Sepal\",Sepal.Length,Sepal.Width,Petal.Width,sep=\"+\")%>%separate(.,'Sepal',c(\"S.L\",\"S.W\",\"P.W\"))"
   ]
  },
  {
   "cell_type": "code",
   "execution_count": 82,
   "id": "9b261f05-6bf2-4f02-b639-0fad88ee9afe",
   "metadata": {},
   "outputs": [
    {
     "data": {
      "text/html": [
       "<table class=\"dataframe\">\n",
       "<caption>A data.frame: 4 × 2</caption>\n",
       "<thead>\n",
       "\t<tr><th scope=col>myear</th><th scope=col>temp</th></tr>\n",
       "\t<tr><th scope=col>&lt;chr&gt;</th><th scope=col>&lt;dbl&gt;</th></tr>\n",
       "</thead>\n",
       "<tbody>\n",
       "\t<tr><td>jan@2018</td><td> 4.64</td></tr>\n",
       "\t<tr><td>feb@2018</td><td>19.68</td></tr>\n",
       "\t<tr><td>jan@2019</td><td> 2.56</td></tr>\n",
       "\t<tr><td>mar@2019</td><td>36.74</td></tr>\n",
       "</tbody>\n",
       "</table>\n"
      ],
      "text/latex": [
       "A data.frame: 4 × 2\n",
       "\\begin{tabular}{ll}\n",
       " myear & temp\\\\\n",
       " <chr> & <dbl>\\\\\n",
       "\\hline\n",
       "\t jan@2018 &  4.64\\\\\n",
       "\t feb@2018 & 19.68\\\\\n",
       "\t jan@2019 &  2.56\\\\\n",
       "\t mar@2019 & 36.74\\\\\n",
       "\\end{tabular}\n"
      ],
      "text/markdown": [
       "\n",
       "A data.frame: 4 × 2\n",
       "\n",
       "| myear &lt;chr&gt; | temp &lt;dbl&gt; |\n",
       "|---|---|\n",
       "| jan@2018 |  4.64 |\n",
       "| feb@2018 | 19.68 |\n",
       "| jan@2019 |  2.56 |\n",
       "| mar@2019 | 36.74 |\n",
       "\n"
      ],
      "text/plain": [
       "  myear    temp \n",
       "1 jan@2018  4.64\n",
       "2 feb@2018 19.68\n",
       "3 jan@2019  2.56\n",
       "4 mar@2019 36.74"
      ]
     },
     "metadata": {},
     "output_type": "display_data"
    }
   ],
   "source": [
    "united_delhi_temp <- unite(delhi_temp,col = \"myear\",months,year,sep='@')\n",
    "united_delhi_temp"
   ]
  },
  {
   "cell_type": "code",
   "execution_count": null,
   "id": "1130485a-bbcf-4d0f-9566-85f44c15c11c",
   "metadata": {},
   "outputs": [],
   "source": [
    "4. separate() Function\n",
    "The separate() function is the complement to the unite() function. It separates values into separate columns."
   ]
  },
  {
   "cell_type": "code",
   "execution_count": 83,
   "id": "9b572a78-792a-4a76-991b-85fa3830de2c",
   "metadata": {},
   "outputs": [
    {
     "data": {
      "text/html": [
       "<table class=\"dataframe\">\n",
       "<caption>A data.frame: 4 × 3</caption>\n",
       "<thead>\n",
       "\t<tr><th scope=col>month</th><th scope=col>year</th><th scope=col>temp</th></tr>\n",
       "\t<tr><th scope=col>&lt;chr&gt;</th><th scope=col>&lt;chr&gt;</th><th scope=col>&lt;dbl&gt;</th></tr>\n",
       "</thead>\n",
       "<tbody>\n",
       "\t<tr><td>jan</td><td>2018</td><td> 4.64</td></tr>\n",
       "\t<tr><td>feb</td><td>2018</td><td>19.68</td></tr>\n",
       "\t<tr><td>jan</td><td>2019</td><td> 2.56</td></tr>\n",
       "\t<tr><td>mar</td><td>2019</td><td>36.74</td></tr>\n",
       "</tbody>\n",
       "</table>\n"
      ],
      "text/latex": [
       "A data.frame: 4 × 3\n",
       "\\begin{tabular}{lll}\n",
       " month & year & temp\\\\\n",
       " <chr> & <chr> & <dbl>\\\\\n",
       "\\hline\n",
       "\t jan & 2018 &  4.64\\\\\n",
       "\t feb & 2018 & 19.68\\\\\n",
       "\t jan & 2019 &  2.56\\\\\n",
       "\t mar & 2019 & 36.74\\\\\n",
       "\\end{tabular}\n"
      ],
      "text/markdown": [
       "\n",
       "A data.frame: 4 × 3\n",
       "\n",
       "| month &lt;chr&gt; | year &lt;chr&gt; | temp &lt;dbl&gt; |\n",
       "|---|---|---|\n",
       "| jan | 2018 |  4.64 |\n",
       "| feb | 2018 | 19.68 |\n",
       "| jan | 2019 |  2.56 |\n",
       "| mar | 2019 | 36.74 |\n",
       "\n"
      ],
      "text/plain": [
       "  month year temp \n",
       "1 jan   2018  4.64\n",
       "2 feb   2018 19.68\n",
       "3 jan   2019  2.56\n",
       "4 mar   2019 36.74"
      ]
     },
     "metadata": {},
     "output_type": "display_data"
    }
   ],
   "source": [
    "sep_delhi_temp <- separate(united_delhi_temp,'myear',c(\"month\",\"year\"))\n",
    "sep_delhi_temp"
   ]
  },
  {
   "cell_type": "markdown",
   "id": "9c114887-6c23-451c-af57-82e953523162",
   "metadata": {},
   "source": [
    "### The Reshape2 Package\n",
    "\n",
    "- Reshape2 is another R package that is used for data reshaping. Reshape2 can be considered as an older version of the tidyr package.\n",
    "\n",
    "- The development of the reshape2 package has stopped. The most commonly used reshape2 functions are the melt() and merge() functions."
   ]
  },
  {
   "cell_type": "code",
   "execution_count": 93,
   "id": "52ec10ba-3957-4933-8cca-512d8dcb2f84",
   "metadata": {},
   "outputs": [
    {
     "data": {
      "text/html": [
       "<table class=\"dataframe\">\n",
       "<caption>A data.frame: 3 × 6</caption>\n",
       "<thead>\n",
       "\t<tr><th scope=col>month</th><th scope=col>delhi</th><th scope=col>mumbai</th><th scope=col>bangalore</th><th scope=col>chennai</th><th scope=col>kolkata</th></tr>\n",
       "\t<tr><th scope=col>&lt;chr&gt;</th><th scope=col>&lt;dbl&gt;</th><th scope=col>&lt;dbl&gt;</th><th scope=col>&lt;dbl&gt;</th><th scope=col>&lt;dbl&gt;</th><th scope=col>&lt;dbl&gt;</th></tr>\n",
       "</thead>\n",
       "<tbody>\n",
       "\t<tr><td>Jan</td><td>39.53</td><td>-4.82</td><td>27.77</td><td>-4.26</td><td>31.24</td></tr>\n",
       "\t<tr><td>Feb</td><td>40.22</td><td>40.23</td><td>20.54</td><td> 9.24</td><td>-0.61</td></tr>\n",
       "\t<tr><td>Mar</td><td>31.66</td><td>13.19</td><td>44.69</td><td> 6.56</td><td>16.44</td></tr>\n",
       "</tbody>\n",
       "</table>\n"
      ],
      "text/latex": [
       "A data.frame: 3 × 6\n",
       "\\begin{tabular}{llllll}\n",
       " month & delhi & mumbai & bangalore & chennai & kolkata\\\\\n",
       " <chr> & <dbl> & <dbl> & <dbl> & <dbl> & <dbl>\\\\\n",
       "\\hline\n",
       "\t Jan & 39.53 & -4.82 & 27.77 & -4.26 & 31.24\\\\\n",
       "\t Feb & 40.22 & 40.23 & 20.54 &  9.24 & -0.61\\\\\n",
       "\t Mar & 31.66 & 13.19 & 44.69 &  6.56 & 16.44\\\\\n",
       "\\end{tabular}\n"
      ],
      "text/markdown": [
       "\n",
       "A data.frame: 3 × 6\n",
       "\n",
       "| month &lt;chr&gt; | delhi &lt;dbl&gt; | mumbai &lt;dbl&gt; | bangalore &lt;dbl&gt; | chennai &lt;dbl&gt; | kolkata &lt;dbl&gt; |\n",
       "|---|---|---|---|---|---|\n",
       "| Jan | 39.53 | -4.82 | 27.77 | -4.26 | 31.24 |\n",
       "| Feb | 40.22 | 40.23 | 20.54 |  9.24 | -0.61 |\n",
       "| Mar | 31.66 | 13.19 | 44.69 |  6.56 | 16.44 |\n",
       "\n"
      ],
      "text/plain": [
       "  month delhi mumbai bangalore chennai kolkata\n",
       "1 Jan   39.53 -4.82  27.77     -4.26   31.24  \n",
       "2 Feb   40.22 40.23  20.54      9.24   -0.61  \n",
       "3 Mar   31.66 13.19  44.69      6.56   16.44  "
      ]
     },
     "metadata": {},
     "output_type": "display_data"
    }
   ],
   "source": [
    "data"
   ]
  },
  {
   "cell_type": "markdown",
   "id": "412496e0-1fb2-417a-a6de-4f40bd2c96d2",
   "metadata": {},
   "source": [
    "#### 1. melt() Function\n",
    "\n",
    "The melt() function is very similar to the gather() function from the tidyr package. It melts the input data frame and converts wide-format data into long-format. For example:"
   ]
  },
  {
   "cell_type": "code",
   "execution_count": 101,
   "id": "3c2501d6-76cd-4dda-a171-f89b25339400",
   "metadata": {},
   "outputs": [],
   "source": [
    "library('reshape2')"
   ]
  },
  {
   "cell_type": "code",
   "execution_count": 102,
   "id": "e8cf753e-8923-471e-b470-63fb5c28d35d",
   "metadata": {},
   "outputs": [
    {
     "data": {
      "text/html": [
       "<table class=\"dataframe\">\n",
       "<caption>A data.frame: 15 × 3</caption>\n",
       "<thead>\n",
       "\t<tr><th scope=col>month</th><th scope=col>city</th><th scope=col>avg.temp</th></tr>\n",
       "\t<tr><th scope=col>&lt;chr&gt;</th><th scope=col>&lt;fct&gt;</th><th scope=col>&lt;dbl&gt;</th></tr>\n",
       "</thead>\n",
       "<tbody>\n",
       "\t<tr><td>Jan</td><td>delhi    </td><td>39.53</td></tr>\n",
       "\t<tr><td>Feb</td><td>delhi    </td><td>40.22</td></tr>\n",
       "\t<tr><td>Mar</td><td>delhi    </td><td>31.66</td></tr>\n",
       "\t<tr><td>Jan</td><td>mumbai   </td><td>-4.82</td></tr>\n",
       "\t<tr><td>Feb</td><td>mumbai   </td><td>40.23</td></tr>\n",
       "\t<tr><td>Mar</td><td>mumbai   </td><td>13.19</td></tr>\n",
       "\t<tr><td>Jan</td><td>bangalore</td><td>27.77</td></tr>\n",
       "\t<tr><td>Feb</td><td>bangalore</td><td>20.54</td></tr>\n",
       "\t<tr><td>Mar</td><td>bangalore</td><td>44.69</td></tr>\n",
       "\t<tr><td>Jan</td><td>chennai  </td><td>-4.26</td></tr>\n",
       "\t<tr><td>Feb</td><td>chennai  </td><td> 9.24</td></tr>\n",
       "\t<tr><td>Mar</td><td>chennai  </td><td> 6.56</td></tr>\n",
       "\t<tr><td>Jan</td><td>kolkata  </td><td>31.24</td></tr>\n",
       "\t<tr><td>Feb</td><td>kolkata  </td><td>-0.61</td></tr>\n",
       "\t<tr><td>Mar</td><td>kolkata  </td><td>16.44</td></tr>\n",
       "</tbody>\n",
       "</table>\n"
      ],
      "text/latex": [
       "A data.frame: 15 × 3\n",
       "\\begin{tabular}{lll}\n",
       " month & city & avg.temp\\\\\n",
       " <chr> & <fct> & <dbl>\\\\\n",
       "\\hline\n",
       "\t Jan & delhi     & 39.53\\\\\n",
       "\t Feb & delhi     & 40.22\\\\\n",
       "\t Mar & delhi     & 31.66\\\\\n",
       "\t Jan & mumbai    & -4.82\\\\\n",
       "\t Feb & mumbai    & 40.23\\\\\n",
       "\t Mar & mumbai    & 13.19\\\\\n",
       "\t Jan & bangalore & 27.77\\\\\n",
       "\t Feb & bangalore & 20.54\\\\\n",
       "\t Mar & bangalore & 44.69\\\\\n",
       "\t Jan & chennai   & -4.26\\\\\n",
       "\t Feb & chennai   &  9.24\\\\\n",
       "\t Mar & chennai   &  6.56\\\\\n",
       "\t Jan & kolkata   & 31.24\\\\\n",
       "\t Feb & kolkata   & -0.61\\\\\n",
       "\t Mar & kolkata   & 16.44\\\\\n",
       "\\end{tabular}\n"
      ],
      "text/markdown": [
       "\n",
       "A data.frame: 15 × 3\n",
       "\n",
       "| month &lt;chr&gt; | city &lt;fct&gt; | avg.temp &lt;dbl&gt; |\n",
       "|---|---|---|\n",
       "| Jan | delhi     | 39.53 |\n",
       "| Feb | delhi     | 40.22 |\n",
       "| Mar | delhi     | 31.66 |\n",
       "| Jan | mumbai    | -4.82 |\n",
       "| Feb | mumbai    | 40.23 |\n",
       "| Mar | mumbai    | 13.19 |\n",
       "| Jan | bangalore | 27.77 |\n",
       "| Feb | bangalore | 20.54 |\n",
       "| Mar | bangalore | 44.69 |\n",
       "| Jan | chennai   | -4.26 |\n",
       "| Feb | chennai   |  9.24 |\n",
       "| Mar | chennai   |  6.56 |\n",
       "| Jan | kolkata   | 31.24 |\n",
       "| Feb | kolkata   | -0.61 |\n",
       "| Mar | kolkata   | 16.44 |\n",
       "\n"
      ],
      "text/plain": [
       "   month city      avg.temp\n",
       "1  Jan   delhi     39.53   \n",
       "2  Feb   delhi     40.22   \n",
       "3  Mar   delhi     31.66   \n",
       "4  Jan   mumbai    -4.82   \n",
       "5  Feb   mumbai    40.23   \n",
       "6  Mar   mumbai    13.19   \n",
       "7  Jan   bangalore 27.77   \n",
       "8  Feb   bangalore 20.54   \n",
       "9  Mar   bangalore 44.69   \n",
       "10 Jan   chennai   -4.26   \n",
       "11 Feb   chennai    9.24   \n",
       "12 Mar   chennai    6.56   \n",
       "13 Jan   kolkata   31.24   \n",
       "14 Feb   kolkata   -0.61   \n",
       "15 Mar   kolkata   16.44   "
      ]
     },
     "metadata": {},
     "output_type": "display_data"
    }
   ],
   "source": [
    "mdata <- reshape2::melt(data,id=c(\"month\"),variable.name=\"city\", value.name=\"avg.temp\")\n",
    "mdata"
   ]
  },
  {
   "cell_type": "code",
   "execution_count": 105,
   "id": "e5537647-80bd-4018-bb65-8fb26961be1d",
   "metadata": {},
   "outputs": [
    {
     "name": "stderr",
     "output_type": "stream",
     "text": [
      "\n",
      "Attaching package: 'MASS'\n",
      "\n",
      "\n",
      "The following object is masked from 'package:dplyr':\n",
      "\n",
      "    select\n",
      "\n",
      "\n"
     ]
    },
    {
     "data": {
      "text/html": [
       "<table class=\"dataframe\">\n",
       "<caption>A data.frame: 3 × 5</caption>\n",
       "<thead>\n",
       "\t<tr><th></th><th scope=col>type</th><th scope=col>year</th><th scope=col>period</th><th scope=col>service</th><th scope=col>incidents</th></tr>\n",
       "\t<tr><th></th><th scope=col>&lt;fct&gt;</th><th scope=col>&lt;int&gt;</th><th scope=col>&lt;int&gt;</th><th scope=col>&lt;int&gt;</th><th scope=col>&lt;int&gt;</th></tr>\n",
       "</thead>\n",
       "<tbody>\n",
       "\t<tr><th scope=row>1</th><td>A</td><td>60</td><td>60</td><td> 127</td><td>0</td></tr>\n",
       "\t<tr><th scope=row>2</th><td>A</td><td>60</td><td>75</td><td>  63</td><td>0</td></tr>\n",
       "\t<tr><th scope=row>3</th><td>A</td><td>65</td><td>60</td><td>1095</td><td>3</td></tr>\n",
       "</tbody>\n",
       "</table>\n"
      ],
      "text/latex": [
       "A data.frame: 3 × 5\n",
       "\\begin{tabular}{r|lllll}\n",
       "  & type & year & period & service & incidents\\\\\n",
       "  & <fct> & <int> & <int> & <int> & <int>\\\\\n",
       "\\hline\n",
       "\t1 & A & 60 & 60 &  127 & 0\\\\\n",
       "\t2 & A & 60 & 75 &   63 & 0\\\\\n",
       "\t3 & A & 65 & 60 & 1095 & 3\\\\\n",
       "\\end{tabular}\n"
      ],
      "text/markdown": [
       "\n",
       "A data.frame: 3 × 5\n",
       "\n",
       "| <!--/--> | type &lt;fct&gt; | year &lt;int&gt; | period &lt;int&gt; | service &lt;int&gt; | incidents &lt;int&gt; |\n",
       "|---|---|---|---|---|---|\n",
       "| 1 | A | 60 | 60 |  127 | 0 |\n",
       "| 2 | A | 60 | 75 |   63 | 0 |\n",
       "| 3 | A | 65 | 60 | 1095 | 3 |\n",
       "\n"
      ],
      "text/plain": [
       "  type year period service incidents\n",
       "1 A    60   60      127    0        \n",
       "2 A    60   75       63    0        \n",
       "3 A    65   60     1095    3        "
      ]
     },
     "metadata": {},
     "output_type": "display_data"
    }
   ],
   "source": [
    "library(MASS)\n",
    "head(ships,n=3)"
   ]
  },
  {
   "cell_type": "code",
   "execution_count": 109,
   "id": "29d772c6-0fb5-4a4f-8749-b7e15d19651b",
   "metadata": {},
   "outputs": [
    {
     "name": "stdout",
     "output_type": "stream",
     "text": [
      "    type year  variable value\n",
      "1      A   60    period    60\n",
      "2      A   60    period    75\n",
      "3      A   65    period    60\n",
      "4      A   65    period    75\n",
      "5      A   70    period    60\n",
      "6      A   70    period    75\n",
      "7      A   75    period    60\n",
      "8      A   75    period    75\n",
      "9      B   60    period    60\n",
      "10     B   60    period    75\n",
      "11     B   65    period    60\n",
      "12     B   65    period    75\n",
      "13     B   70    period    60\n",
      "14     B   70    period    75\n",
      "15     B   75    period    60\n",
      "16     B   75    period    75\n",
      "17     C   60    period    60\n",
      "18     C   60    period    75\n",
      "19     C   65    period    60\n",
      "20     C   65    period    75\n",
      "21     C   70    period    60\n",
      "22     C   70    period    75\n",
      "23     C   75    period    60\n",
      "24     C   75    period    75\n",
      "25     D   60    period    60\n",
      "26     D   60    period    75\n",
      "27     D   65    period    60\n",
      "28     D   65    period    75\n",
      "29     D   70    period    60\n",
      "30     D   70    period    75\n",
      "31     D   75    period    60\n",
      "32     D   75    period    75\n",
      "33     E   60    period    60\n",
      "34     E   60    period    75\n",
      "35     E   65    period    60\n",
      "36     E   65    period    75\n",
      "37     E   70    period    60\n",
      "38     E   70    period    75\n",
      "39     E   75    period    60\n",
      "40     E   75    period    75\n",
      "41     A   60   service   127\n",
      "42     A   60   service    63\n",
      "43     A   65   service  1095\n",
      "44     A   65   service  1095\n",
      "45     A   70   service  1512\n",
      "46     A   70   service  3353\n",
      "47     A   75   service     0\n",
      "48     A   75   service  2244\n",
      "49     B   60   service 44882\n",
      "50     B   60   service 17176\n",
      "51     B   65   service 28609\n",
      "52     B   65   service 20370\n",
      "53     B   70   service  7064\n",
      "54     B   70   service 13099\n",
      "55     B   75   service     0\n",
      "56     B   75   service  7117\n",
      "57     C   60   service  1179\n",
      "58     C   60   service   552\n",
      "59     C   65   service   781\n",
      "60     C   65   service   676\n",
      "61     C   70   service   783\n",
      "62     C   70   service  1948\n",
      "63     C   75   service     0\n",
      "64     C   75   service   274\n",
      "65     D   60   service   251\n",
      "66     D   60   service   105\n",
      "67     D   65   service   288\n",
      "68     D   65   service   192\n",
      "69     D   70   service   349\n",
      "70     D   70   service  1208\n",
      "71     D   75   service     0\n",
      "72     D   75   service  2051\n",
      "73     E   60   service    45\n",
      "74     E   60   service     0\n",
      "75     E   65   service   789\n",
      "76     E   65   service   437\n",
      "77     E   70   service  1157\n",
      "78     E   70   service  2161\n",
      "79     E   75   service     0\n",
      "80     E   75   service   542\n",
      "81     A   60 incidents     0\n",
      "82     A   60 incidents     0\n",
      "83     A   65 incidents     3\n",
      "84     A   65 incidents     4\n",
      "85     A   70 incidents     6\n",
      "86     A   70 incidents    18\n",
      "87     A   75 incidents     0\n",
      "88     A   75 incidents    11\n",
      "89     B   60 incidents    39\n",
      "90     B   60 incidents    29\n",
      "91     B   65 incidents    58\n",
      "92     B   65 incidents    53\n",
      "93     B   70 incidents    12\n",
      "94     B   70 incidents    44\n",
      "95     B   75 incidents     0\n",
      "96     B   75 incidents    18\n",
      "97     C   60 incidents     1\n",
      "98     C   60 incidents     1\n",
      "99     C   65 incidents     0\n",
      "100    C   65 incidents     1\n",
      "101    C   70 incidents     6\n",
      "102    C   70 incidents     2\n",
      "103    C   75 incidents     0\n",
      "104    C   75 incidents     1\n",
      "105    D   60 incidents     0\n",
      "106    D   60 incidents     0\n",
      "107    D   65 incidents     0\n",
      "108    D   65 incidents     0\n",
      "109    D   70 incidents     2\n",
      "110    D   70 incidents    11\n",
      "111    D   75 incidents     0\n",
      "112    D   75 incidents     4\n",
      "113    E   60 incidents     0\n",
      "114    E   60 incidents     0\n",
      "115    E   65 incidents     7\n",
      "116    E   65 incidents     7\n",
      "117    E   70 incidents     5\n",
      "118    E   70 incidents    12\n",
      "119    E   75 incidents     0\n",
      "120    E   75 incidents     1\n"
     ]
    }
   ],
   "source": [
    "molten.ships <- melt(ships, id = c(\"type\",\"year\"))\n",
    "print(molten.ships)"
   ]
  },
  {
   "cell_type": "code",
   "execution_count": null,
   "id": "97208727-74f7-4ba6-8d9c-fa32d20622e8",
   "metadata": {},
   "outputs": [],
   "source": [
    "### Cast the Molten Data\n",
    "It is done using the cast() function.\n"
   ]
  },
  {
   "cell_type": "code",
   "execution_count": 111,
   "id": "942a6d00-8b45-431a-a328-f26c298f7253",
   "metadata": {},
   "outputs": [
    {
     "data": {
      "text/html": [
       "<table class=\"dataframe\">\n",
       "<caption>A cast_df: 20 × 5</caption>\n",
       "<thead>\n",
       "\t<tr><th></th><th scope=col>type</th><th scope=col>year</th><th scope=col>period</th><th scope=col>service</th><th scope=col>incidents</th></tr>\n",
       "\t<tr><th></th><th scope=col>&lt;fct&gt;</th><th scope=col>&lt;int&gt;</th><th scope=col>&lt;int&gt;</th><th scope=col>&lt;int&gt;</th><th scope=col>&lt;int&gt;</th></tr>\n",
       "</thead>\n",
       "<tbody>\n",
       "\t<tr><th scope=row>1</th><td>A</td><td>60</td><td>135</td><td>  190</td><td>  0</td></tr>\n",
       "\t<tr><th scope=row>2</th><td>A</td><td>65</td><td>135</td><td> 2190</td><td>  7</td></tr>\n",
       "\t<tr><th scope=row>3</th><td>A</td><td>70</td><td>135</td><td> 4865</td><td> 24</td></tr>\n",
       "\t<tr><th scope=row>4</th><td>A</td><td>75</td><td>135</td><td> 2244</td><td> 11</td></tr>\n",
       "\t<tr><th scope=row>5</th><td>B</td><td>60</td><td>135</td><td>62058</td><td> 68</td></tr>\n",
       "\t<tr><th scope=row>6</th><td>B</td><td>65</td><td>135</td><td>48979</td><td>111</td></tr>\n",
       "\t<tr><th scope=row>7</th><td>B</td><td>70</td><td>135</td><td>20163</td><td> 56</td></tr>\n",
       "\t<tr><th scope=row>8</th><td>B</td><td>75</td><td>135</td><td> 7117</td><td> 18</td></tr>\n",
       "\t<tr><th scope=row>9</th><td>C</td><td>60</td><td>135</td><td> 1731</td><td>  2</td></tr>\n",
       "\t<tr><th scope=row>10</th><td>C</td><td>65</td><td>135</td><td> 1457</td><td>  1</td></tr>\n",
       "\t<tr><th scope=row>11</th><td>C</td><td>70</td><td>135</td><td> 2731</td><td>  8</td></tr>\n",
       "\t<tr><th scope=row>12</th><td>C</td><td>75</td><td>135</td><td>  274</td><td>  1</td></tr>\n",
       "\t<tr><th scope=row>13</th><td>D</td><td>60</td><td>135</td><td>  356</td><td>  0</td></tr>\n",
       "\t<tr><th scope=row>14</th><td>D</td><td>65</td><td>135</td><td>  480</td><td>  0</td></tr>\n",
       "\t<tr><th scope=row>15</th><td>D</td><td>70</td><td>135</td><td> 1557</td><td> 13</td></tr>\n",
       "\t<tr><th scope=row>16</th><td>D</td><td>75</td><td>135</td><td> 2051</td><td>  4</td></tr>\n",
       "\t<tr><th scope=row>17</th><td>E</td><td>60</td><td>135</td><td>   45</td><td>  0</td></tr>\n",
       "\t<tr><th scope=row>18</th><td>E</td><td>65</td><td>135</td><td> 1226</td><td> 14</td></tr>\n",
       "\t<tr><th scope=row>19</th><td>E</td><td>70</td><td>135</td><td> 3318</td><td> 17</td></tr>\n",
       "\t<tr><th scope=row>20</th><td>E</td><td>75</td><td>135</td><td>  542</td><td>  1</td></tr>\n",
       "</tbody>\n",
       "</table>\n"
      ],
      "text/latex": [
       "A cast\\_df: 20 × 5\n",
       "\\begin{tabular}{r|lllll}\n",
       "  & type & year & period & service & incidents\\\\\n",
       "  & <fct> & <int> & <int> & <int> & <int>\\\\\n",
       "\\hline\n",
       "\t1 & A & 60 & 135 &   190 &   0\\\\\n",
       "\t2 & A & 65 & 135 &  2190 &   7\\\\\n",
       "\t3 & A & 70 & 135 &  4865 &  24\\\\\n",
       "\t4 & A & 75 & 135 &  2244 &  11\\\\\n",
       "\t5 & B & 60 & 135 & 62058 &  68\\\\\n",
       "\t6 & B & 65 & 135 & 48979 & 111\\\\\n",
       "\t7 & B & 70 & 135 & 20163 &  56\\\\\n",
       "\t8 & B & 75 & 135 &  7117 &  18\\\\\n",
       "\t9 & C & 60 & 135 &  1731 &   2\\\\\n",
       "\t10 & C & 65 & 135 &  1457 &   1\\\\\n",
       "\t11 & C & 70 & 135 &  2731 &   8\\\\\n",
       "\t12 & C & 75 & 135 &   274 &   1\\\\\n",
       "\t13 & D & 60 & 135 &   356 &   0\\\\\n",
       "\t14 & D & 65 & 135 &   480 &   0\\\\\n",
       "\t15 & D & 70 & 135 &  1557 &  13\\\\\n",
       "\t16 & D & 75 & 135 &  2051 &   4\\\\\n",
       "\t17 & E & 60 & 135 &    45 &   0\\\\\n",
       "\t18 & E & 65 & 135 &  1226 &  14\\\\\n",
       "\t19 & E & 70 & 135 &  3318 &  17\\\\\n",
       "\t20 & E & 75 & 135 &   542 &   1\\\\\n",
       "\\end{tabular}\n"
      ],
      "text/markdown": [
       "\n",
       "A cast_df: 20 × 5\n",
       "\n",
       "| <!--/--> | type &lt;fct&gt; | year &lt;int&gt; | period &lt;int&gt; | service &lt;int&gt; | incidents &lt;int&gt; |\n",
       "|---|---|---|---|---|---|\n",
       "| 1 | A | 60 | 135 |   190 |   0 |\n",
       "| 2 | A | 65 | 135 |  2190 |   7 |\n",
       "| 3 | A | 70 | 135 |  4865 |  24 |\n",
       "| 4 | A | 75 | 135 |  2244 |  11 |\n",
       "| 5 | B | 60 | 135 | 62058 |  68 |\n",
       "| 6 | B | 65 | 135 | 48979 | 111 |\n",
       "| 7 | B | 70 | 135 | 20163 |  56 |\n",
       "| 8 | B | 75 | 135 |  7117 |  18 |\n",
       "| 9 | C | 60 | 135 |  1731 |   2 |\n",
       "| 10 | C | 65 | 135 |  1457 |   1 |\n",
       "| 11 | C | 70 | 135 |  2731 |   8 |\n",
       "| 12 | C | 75 | 135 |   274 |   1 |\n",
       "| 13 | D | 60 | 135 |   356 |   0 |\n",
       "| 14 | D | 65 | 135 |   480 |   0 |\n",
       "| 15 | D | 70 | 135 |  1557 |  13 |\n",
       "| 16 | D | 75 | 135 |  2051 |   4 |\n",
       "| 17 | E | 60 | 135 |    45 |   0 |\n",
       "| 18 | E | 65 | 135 |  1226 |  14 |\n",
       "| 19 | E | 70 | 135 |  3318 |  17 |\n",
       "| 20 | E | 75 | 135 |   542 |   1 |\n",
       "\n"
      ],
      "text/plain": [
       "   type year period service incidents\n",
       "1  A    60   135      190     0      \n",
       "2  A    65   135     2190     7      \n",
       "3  A    70   135     4865    24      \n",
       "4  A    75   135     2244    11      \n",
       "5  B    60   135    62058    68      \n",
       "6  B    65   135    48979   111      \n",
       "7  B    70   135    20163    56      \n",
       "8  B    75   135     7117    18      \n",
       "9  C    60   135     1731     2      \n",
       "10 C    65   135     1457     1      \n",
       "11 C    70   135     2731     8      \n",
       "12 C    75   135      274     1      \n",
       "13 D    60   135      356     0      \n",
       "14 D    65   135      480     0      \n",
       "15 D    70   135     1557    13      \n",
       "16 D    75   135     2051     4      \n",
       "17 E    60   135       45     0      \n",
       "18 E    65   135     1226    14      \n",
       "19 E    70   135     3318    17      \n",
       "20 E    75   135      542     1      "
      ]
     },
     "metadata": {},
     "output_type": "display_data"
    }
   ],
   "source": [
    "(recasted.ship <- cast(molten.ships, type+year~variable,sum))"
   ]
  },
  {
   "cell_type": "code",
   "execution_count": null,
   "id": "68ac3684-f599-4d42-a873-019355a31cf2",
   "metadata": {},
   "outputs": [],
   "source": []
  },
  {
   "cell_type": "code",
   "execution_count": null,
   "id": "536a3279-10c9-453c-bb9c-66f40b955721",
   "metadata": {},
   "outputs": [],
   "source": [
    "2. merge() Function"
   ]
  },
  {
   "cell_type": "markdown",
   "id": "36dc92c8-fc67-4412-8034-bda3ace13e8c",
   "metadata": {},
   "source": [
    "The merge() function can merge data frames. The function merges the input data frames horizontally, therefore, the data frames must have the same variable that is column names. For example:"
   ]
  },
  {
   "cell_type": "code",
   "execution_count": 112,
   "id": "d9e22cec-890e-4fd2-a912-8029aebdfcf5",
   "metadata": {},
   "outputs": [
    {
     "data": {
      "text/html": [
       "<table class=\"dataframe\">\n",
       "<caption>A data.frame: 4 × 3</caption>\n",
       "<thead>\n",
       "\t<tr><th scope=col>months</th><th scope=col>year</th><th scope=col>temp</th></tr>\n",
       "\t<tr><th scope=col>&lt;chr&gt;</th><th scope=col>&lt;chr&gt;</th><th scope=col>&lt;dbl&gt;</th></tr>\n",
       "</thead>\n",
       "<tbody>\n",
       "\t<tr><td>apr</td><td>2018</td><td>38.75</td></tr>\n",
       "\t<tr><td>mar</td><td>2018</td><td>37.68</td></tr>\n",
       "\t<tr><td>feb</td><td>2019</td><td>28.56</td></tr>\n",
       "\t<tr><td>jun</td><td>2019</td><td>41.74</td></tr>\n",
       "</tbody>\n",
       "</table>\n"
      ],
      "text/latex": [
       "A data.frame: 4 × 3\n",
       "\\begin{tabular}{lll}\n",
       " months & year & temp\\\\\n",
       " <chr> & <chr> & <dbl>\\\\\n",
       "\\hline\n",
       "\t apr & 2018 & 38.75\\\\\n",
       "\t mar & 2018 & 37.68\\\\\n",
       "\t feb & 2019 & 28.56\\\\\n",
       "\t jun & 2019 & 41.74\\\\\n",
       "\\end{tabular}\n"
      ],
      "text/markdown": [
       "\n",
       "A data.frame: 4 × 3\n",
       "\n",
       "| months &lt;chr&gt; | year &lt;chr&gt; | temp &lt;dbl&gt; |\n",
       "|---|---|---|\n",
       "| apr | 2018 | 38.75 |\n",
       "| mar | 2018 | 37.68 |\n",
       "| feb | 2019 | 28.56 |\n",
       "| jun | 2019 | 41.74 |\n",
       "\n"
      ],
      "text/plain": [
       "  months year temp \n",
       "1 apr    2018 38.75\n",
       "2 mar    2018 37.68\n",
       "3 feb    2019 28.56\n",
       "4 jun    2019 41.74"
      ]
     },
     "metadata": {},
     "output_type": "display_data"
    }
   ],
   "source": [
    "months2 <- c(\"apr\", \"mar\", \"feb\", \"jun\")\n",
    "year2 <- c(\"2018\",\"2018\",\"2019\",\"2019\")\n",
    "temp2 <- c(38.75,37.68,28.56,41.74)\n",
    "delhi_temp2 <- data.frame(months2,year2,temp2)\n",
    "colnames(delhi_temp2) <- c(\"months\",\"year\",\"temp\")\n",
    "delhi_temp2"
   ]
  },
  {
   "cell_type": "code",
   "execution_count": 114,
   "id": "d2a4fbdd-50b8-4eef-99d1-2f1ba790ee07",
   "metadata": {},
   "outputs": [
    {
     "data": {
      "text/html": [
       "<table class=\"dataframe\">\n",
       "<caption>A data.frame: 4 × 3</caption>\n",
       "<thead>\n",
       "\t<tr><th scope=col>months</th><th scope=col>year</th><th scope=col>temp</th></tr>\n",
       "\t<tr><th scope=col>&lt;chr&gt;</th><th scope=col>&lt;chr&gt;</th><th scope=col>&lt;dbl&gt;</th></tr>\n",
       "</thead>\n",
       "<tbody>\n",
       "\t<tr><td>jan</td><td>2018</td><td> 4.64</td></tr>\n",
       "\t<tr><td>feb</td><td>2018</td><td>19.68</td></tr>\n",
       "\t<tr><td>jan</td><td>2019</td><td> 2.56</td></tr>\n",
       "\t<tr><td>mar</td><td>2019</td><td>36.74</td></tr>\n",
       "</tbody>\n",
       "</table>\n"
      ],
      "text/latex": [
       "A data.frame: 4 × 3\n",
       "\\begin{tabular}{lll}\n",
       " months & year & temp\\\\\n",
       " <chr> & <chr> & <dbl>\\\\\n",
       "\\hline\n",
       "\t jan & 2018 &  4.64\\\\\n",
       "\t feb & 2018 & 19.68\\\\\n",
       "\t jan & 2019 &  2.56\\\\\n",
       "\t mar & 2019 & 36.74\\\\\n",
       "\\end{tabular}\n"
      ],
      "text/markdown": [
       "\n",
       "A data.frame: 4 × 3\n",
       "\n",
       "| months &lt;chr&gt; | year &lt;chr&gt; | temp &lt;dbl&gt; |\n",
       "|---|---|---|\n",
       "| jan | 2018 |  4.64 |\n",
       "| feb | 2018 | 19.68 |\n",
       "| jan | 2019 |  2.56 |\n",
       "| mar | 2019 | 36.74 |\n",
       "\n"
      ],
      "text/plain": [
       "  months year temp \n",
       "1 jan    2018  4.64\n",
       "2 feb    2018 19.68\n",
       "3 jan    2019  2.56\n",
       "4 mar    2019 36.74"
      ]
     },
     "metadata": {},
     "output_type": "display_data"
    }
   ],
   "source": [
    "delhi_temp"
   ]
  },
  {
   "cell_type": "code",
   "execution_count": 122,
   "id": "50f09471-d925-4035-b8d4-18916293dfd8",
   "metadata": {},
   "outputs": [
    {
     "data": {
      "text/html": [
       "<table class=\"dataframe\">\n",
       "<caption>A data.frame: 2 × 5</caption>\n",
       "<thead>\n",
       "\t<tr><th scope=col>months</th><th scope=col>year.x</th><th scope=col>temp.x</th><th scope=col>year.y</th><th scope=col>temp.y</th></tr>\n",
       "\t<tr><th scope=col>&lt;chr&gt;</th><th scope=col>&lt;chr&gt;</th><th scope=col>&lt;dbl&gt;</th><th scope=col>&lt;chr&gt;</th><th scope=col>&lt;dbl&gt;</th></tr>\n",
       "</thead>\n",
       "<tbody>\n",
       "\t<tr><td>feb</td><td>2018</td><td>19.68</td><td>2019</td><td>28.56</td></tr>\n",
       "\t<tr><td>mar</td><td>2019</td><td>36.74</td><td>2018</td><td>37.68</td></tr>\n",
       "</tbody>\n",
       "</table>\n"
      ],
      "text/latex": [
       "A data.frame: 2 × 5\n",
       "\\begin{tabular}{lllll}\n",
       " months & year.x & temp.x & year.y & temp.y\\\\\n",
       " <chr> & <chr> & <dbl> & <chr> & <dbl>\\\\\n",
       "\\hline\n",
       "\t feb & 2018 & 19.68 & 2019 & 28.56\\\\\n",
       "\t mar & 2019 & 36.74 & 2018 & 37.68\\\\\n",
       "\\end{tabular}\n"
      ],
      "text/markdown": [
       "\n",
       "A data.frame: 2 × 5\n",
       "\n",
       "| months &lt;chr&gt; | year.x &lt;chr&gt; | temp.x &lt;dbl&gt; | year.y &lt;chr&gt; | temp.y &lt;dbl&gt; |\n",
       "|---|---|---|---|---|\n",
       "| feb | 2018 | 19.68 | 2019 | 28.56 |\n",
       "| mar | 2019 | 36.74 | 2018 | 37.68 |\n",
       "\n"
      ],
      "text/plain": [
       "  months year.x temp.x year.y temp.y\n",
       "1 feb    2018   19.68  2019   28.56 \n",
       "2 mar    2019   36.74  2018   37.68 "
      ]
     },
     "metadata": {},
     "output_type": "display_data"
    }
   ],
   "source": [
    "merge_delhi_temp <- merge(delhi_temp,delhi_temp2,by=\"months\")#inner join\n",
    "merge_delhi_temp"
   ]
  },
  {
   "cell_type": "code",
   "execution_count": 116,
   "id": "a30b0610-85f1-47c7-b16f-72419642aed7",
   "metadata": {},
   "outputs": [
    {
     "data": {
      "text/html": [
       "<table class=\"dataframe\">\n",
       "<caption>A data.frame: 8 × 5</caption>\n",
       "<thead>\n",
       "\t<tr><th scope=col>year</th><th scope=col>months.x</th><th scope=col>temp.x</th><th scope=col>months.y</th><th scope=col>temp.y</th></tr>\n",
       "\t<tr><th scope=col>&lt;chr&gt;</th><th scope=col>&lt;chr&gt;</th><th scope=col>&lt;dbl&gt;</th><th scope=col>&lt;chr&gt;</th><th scope=col>&lt;dbl&gt;</th></tr>\n",
       "</thead>\n",
       "<tbody>\n",
       "\t<tr><td>2018</td><td>jan</td><td> 4.64</td><td>apr</td><td>38.75</td></tr>\n",
       "\t<tr><td>2018</td><td>jan</td><td> 4.64</td><td>mar</td><td>37.68</td></tr>\n",
       "\t<tr><td>2018</td><td>feb</td><td>19.68</td><td>apr</td><td>38.75</td></tr>\n",
       "\t<tr><td>2018</td><td>feb</td><td>19.68</td><td>mar</td><td>37.68</td></tr>\n",
       "\t<tr><td>2019</td><td>jan</td><td> 2.56</td><td>feb</td><td>28.56</td></tr>\n",
       "\t<tr><td>2019</td><td>jan</td><td> 2.56</td><td>jun</td><td>41.74</td></tr>\n",
       "\t<tr><td>2019</td><td>mar</td><td>36.74</td><td>feb</td><td>28.56</td></tr>\n",
       "\t<tr><td>2019</td><td>mar</td><td>36.74</td><td>jun</td><td>41.74</td></tr>\n",
       "</tbody>\n",
       "</table>\n"
      ],
      "text/latex": [
       "A data.frame: 8 × 5\n",
       "\\begin{tabular}{lllll}\n",
       " year & months.x & temp.x & months.y & temp.y\\\\\n",
       " <chr> & <chr> & <dbl> & <chr> & <dbl>\\\\\n",
       "\\hline\n",
       "\t 2018 & jan &  4.64 & apr & 38.75\\\\\n",
       "\t 2018 & jan &  4.64 & mar & 37.68\\\\\n",
       "\t 2018 & feb & 19.68 & apr & 38.75\\\\\n",
       "\t 2018 & feb & 19.68 & mar & 37.68\\\\\n",
       "\t 2019 & jan &  2.56 & feb & 28.56\\\\\n",
       "\t 2019 & jan &  2.56 & jun & 41.74\\\\\n",
       "\t 2019 & mar & 36.74 & feb & 28.56\\\\\n",
       "\t 2019 & mar & 36.74 & jun & 41.74\\\\\n",
       "\\end{tabular}\n"
      ],
      "text/markdown": [
       "\n",
       "A data.frame: 8 × 5\n",
       "\n",
       "| year &lt;chr&gt; | months.x &lt;chr&gt; | temp.x &lt;dbl&gt; | months.y &lt;chr&gt; | temp.y &lt;dbl&gt; |\n",
       "|---|---|---|---|---|\n",
       "| 2018 | jan |  4.64 | apr | 38.75 |\n",
       "| 2018 | jan |  4.64 | mar | 37.68 |\n",
       "| 2018 | feb | 19.68 | apr | 38.75 |\n",
       "| 2018 | feb | 19.68 | mar | 37.68 |\n",
       "| 2019 | jan |  2.56 | feb | 28.56 |\n",
       "| 2019 | jan |  2.56 | jun | 41.74 |\n",
       "| 2019 | mar | 36.74 | feb | 28.56 |\n",
       "| 2019 | mar | 36.74 | jun | 41.74 |\n",
       "\n"
      ],
      "text/plain": [
       "  year months.x temp.x months.y temp.y\n",
       "1 2018 jan       4.64  apr      38.75 \n",
       "2 2018 jan       4.64  mar      37.68 \n",
       "3 2018 feb      19.68  apr      38.75 \n",
       "4 2018 feb      19.68  mar      37.68 \n",
       "5 2019 jan       2.56  feb      28.56 \n",
       "6 2019 jan       2.56  jun      41.74 \n",
       "7 2019 mar      36.74  feb      28.56 \n",
       "8 2019 mar      36.74  jun      41.74 "
      ]
     },
     "metadata": {},
     "output_type": "display_data"
    }
   ],
   "source": [
    "merge_delhi_temp <- merge(delhi_temp,delhi_temp2,by=\"year\",all = TRUE)#outer join\n",
    "merge_delhi_temp"
   ]
  },
  {
   "cell_type": "code",
   "execution_count": 117,
   "id": "818ff453-7db3-4fc4-bc4b-51d529b1b2b4",
   "metadata": {},
   "outputs": [
    {
     "data": {
      "text/html": [
       "<table class=\"dataframe\">\n",
       "<caption>A data.frame: 4 × 5</caption>\n",
       "<thead>\n",
       "\t<tr><th scope=col>months</th><th scope=col>year.x</th><th scope=col>temp.x</th><th scope=col>year.y</th><th scope=col>temp.y</th></tr>\n",
       "\t<tr><th scope=col>&lt;chr&gt;</th><th scope=col>&lt;chr&gt;</th><th scope=col>&lt;dbl&gt;</th><th scope=col>&lt;chr&gt;</th><th scope=col>&lt;dbl&gt;</th></tr>\n",
       "</thead>\n",
       "<tbody>\n",
       "\t<tr><td>feb</td><td>2018</td><td>19.68</td><td>2019</td><td>28.56</td></tr>\n",
       "\t<tr><td>jan</td><td>2018</td><td> 4.64</td><td>NA  </td><td>   NA</td></tr>\n",
       "\t<tr><td>jan</td><td>2019</td><td> 2.56</td><td>NA  </td><td>   NA</td></tr>\n",
       "\t<tr><td>mar</td><td>2019</td><td>36.74</td><td>2018</td><td>37.68</td></tr>\n",
       "</tbody>\n",
       "</table>\n"
      ],
      "text/latex": [
       "A data.frame: 4 × 5\n",
       "\\begin{tabular}{lllll}\n",
       " months & year.x & temp.x & year.y & temp.y\\\\\n",
       " <chr> & <chr> & <dbl> & <chr> & <dbl>\\\\\n",
       "\\hline\n",
       "\t feb & 2018 & 19.68 & 2019 & 28.56\\\\\n",
       "\t jan & 2018 &  4.64 & NA   &    NA\\\\\n",
       "\t jan & 2019 &  2.56 & NA   &    NA\\\\\n",
       "\t mar & 2019 & 36.74 & 2018 & 37.68\\\\\n",
       "\\end{tabular}\n"
      ],
      "text/markdown": [
       "\n",
       "A data.frame: 4 × 5\n",
       "\n",
       "| months &lt;chr&gt; | year.x &lt;chr&gt; | temp.x &lt;dbl&gt; | year.y &lt;chr&gt; | temp.y &lt;dbl&gt; |\n",
       "|---|---|---|---|---|\n",
       "| feb | 2018 | 19.68 | 2019 | 28.56 |\n",
       "| jan | 2018 |  4.64 | NA   |    NA |\n",
       "| jan | 2019 |  2.56 | NA   |    NA |\n",
       "| mar | 2019 | 36.74 | 2018 | 37.68 |\n",
       "\n"
      ],
      "text/plain": [
       "  months year.x temp.x year.y temp.y\n",
       "1 feb    2018   19.68  2019   28.56 \n",
       "2 jan    2018    4.64  NA        NA \n",
       "3 jan    2019    2.56  NA        NA \n",
       "4 mar    2019   36.74  2018   37.68 "
      ]
     },
     "metadata": {},
     "output_type": "display_data"
    }
   ],
   "source": [
    "merge_delhi_temp <- merge(delhi_temp,delhi_temp2,by=\"months\",all.x=T)#left_outer join\n",
    "merge_delhi_temp"
   ]
  },
  {
   "cell_type": "code",
   "execution_count": 118,
   "id": "bf5f0ad4-0ed5-4348-9767-cceed6a38810",
   "metadata": {},
   "outputs": [
    {
     "data": {
      "text/html": [
       "<table class=\"dataframe\">\n",
       "<caption>A data.frame: 4 × 5</caption>\n",
       "<thead>\n",
       "\t<tr><th scope=col>months</th><th scope=col>year.x</th><th scope=col>temp.x</th><th scope=col>year.y</th><th scope=col>temp.y</th></tr>\n",
       "\t<tr><th scope=col>&lt;chr&gt;</th><th scope=col>&lt;chr&gt;</th><th scope=col>&lt;dbl&gt;</th><th scope=col>&lt;chr&gt;</th><th scope=col>&lt;dbl&gt;</th></tr>\n",
       "</thead>\n",
       "<tbody>\n",
       "\t<tr><td>apr</td><td>NA  </td><td>   NA</td><td>2018</td><td>38.75</td></tr>\n",
       "\t<tr><td>feb</td><td>2018</td><td>19.68</td><td>2019</td><td>28.56</td></tr>\n",
       "\t<tr><td>jun</td><td>NA  </td><td>   NA</td><td>2019</td><td>41.74</td></tr>\n",
       "\t<tr><td>mar</td><td>2019</td><td>36.74</td><td>2018</td><td>37.68</td></tr>\n",
       "</tbody>\n",
       "</table>\n"
      ],
      "text/latex": [
       "A data.frame: 4 × 5\n",
       "\\begin{tabular}{lllll}\n",
       " months & year.x & temp.x & year.y & temp.y\\\\\n",
       " <chr> & <chr> & <dbl> & <chr> & <dbl>\\\\\n",
       "\\hline\n",
       "\t apr & NA   &    NA & 2018 & 38.75\\\\\n",
       "\t feb & 2018 & 19.68 & 2019 & 28.56\\\\\n",
       "\t jun & NA   &    NA & 2019 & 41.74\\\\\n",
       "\t mar & 2019 & 36.74 & 2018 & 37.68\\\\\n",
       "\\end{tabular}\n"
      ],
      "text/markdown": [
       "\n",
       "A data.frame: 4 × 5\n",
       "\n",
       "| months &lt;chr&gt; | year.x &lt;chr&gt; | temp.x &lt;dbl&gt; | year.y &lt;chr&gt; | temp.y &lt;dbl&gt; |\n",
       "|---|---|---|---|---|\n",
       "| apr | NA   |    NA | 2018 | 38.75 |\n",
       "| feb | 2018 | 19.68 | 2019 | 28.56 |\n",
       "| jun | NA   |    NA | 2019 | 41.74 |\n",
       "| mar | 2019 | 36.74 | 2018 | 37.68 |\n",
       "\n"
      ],
      "text/plain": [
       "  months year.x temp.x year.y temp.y\n",
       "1 apr    NA        NA  2018   38.75 \n",
       "2 feb    2018   19.68  2019   28.56 \n",
       "3 jun    NA        NA  2019   41.74 \n",
       "4 mar    2019   36.74  2018   37.68 "
      ]
     },
     "metadata": {},
     "output_type": "display_data"
    }
   ],
   "source": [
    "merge_delhi_temp <- merge(delhi_temp,delhi_temp2,by=\"months\",all.y=T)#Right_outer join\n",
    "merge_delhi_temp"
   ]
  },
  {
   "cell_type": "code",
   "execution_count": 120,
   "id": "8df847a1-0af9-4a17-8962-fa341ac183ba",
   "metadata": {},
   "outputs": [
    {
     "data": {
      "text/html": [
       "<table class=\"dataframe\">\n",
       "<caption>A data.frame: 16 × 6</caption>\n",
       "<thead>\n",
       "\t<tr><th scope=col>months.x</th><th scope=col>year.x</th><th scope=col>temp.x</th><th scope=col>months.y</th><th scope=col>year.y</th><th scope=col>temp.y</th></tr>\n",
       "\t<tr><th scope=col>&lt;chr&gt;</th><th scope=col>&lt;chr&gt;</th><th scope=col>&lt;dbl&gt;</th><th scope=col>&lt;chr&gt;</th><th scope=col>&lt;chr&gt;</th><th scope=col>&lt;dbl&gt;</th></tr>\n",
       "</thead>\n",
       "<tbody>\n",
       "\t<tr><td>jan</td><td>2018</td><td> 4.64</td><td>apr</td><td>2018</td><td>38.75</td></tr>\n",
       "\t<tr><td>feb</td><td>2018</td><td>19.68</td><td>apr</td><td>2018</td><td>38.75</td></tr>\n",
       "\t<tr><td>jan</td><td>2019</td><td> 2.56</td><td>apr</td><td>2018</td><td>38.75</td></tr>\n",
       "\t<tr><td>mar</td><td>2019</td><td>36.74</td><td>apr</td><td>2018</td><td>38.75</td></tr>\n",
       "\t<tr><td>jan</td><td>2018</td><td> 4.64</td><td>mar</td><td>2018</td><td>37.68</td></tr>\n",
       "\t<tr><td>feb</td><td>2018</td><td>19.68</td><td>mar</td><td>2018</td><td>37.68</td></tr>\n",
       "\t<tr><td>jan</td><td>2019</td><td> 2.56</td><td>mar</td><td>2018</td><td>37.68</td></tr>\n",
       "\t<tr><td>mar</td><td>2019</td><td>36.74</td><td>mar</td><td>2018</td><td>37.68</td></tr>\n",
       "\t<tr><td>jan</td><td>2018</td><td> 4.64</td><td>feb</td><td>2019</td><td>28.56</td></tr>\n",
       "\t<tr><td>feb</td><td>2018</td><td>19.68</td><td>feb</td><td>2019</td><td>28.56</td></tr>\n",
       "\t<tr><td>jan</td><td>2019</td><td> 2.56</td><td>feb</td><td>2019</td><td>28.56</td></tr>\n",
       "\t<tr><td>mar</td><td>2019</td><td>36.74</td><td>feb</td><td>2019</td><td>28.56</td></tr>\n",
       "\t<tr><td>jan</td><td>2018</td><td> 4.64</td><td>jun</td><td>2019</td><td>41.74</td></tr>\n",
       "\t<tr><td>feb</td><td>2018</td><td>19.68</td><td>jun</td><td>2019</td><td>41.74</td></tr>\n",
       "\t<tr><td>jan</td><td>2019</td><td> 2.56</td><td>jun</td><td>2019</td><td>41.74</td></tr>\n",
       "\t<tr><td>mar</td><td>2019</td><td>36.74</td><td>jun</td><td>2019</td><td>41.74</td></tr>\n",
       "</tbody>\n",
       "</table>\n"
      ],
      "text/latex": [
       "A data.frame: 16 × 6\n",
       "\\begin{tabular}{llllll}\n",
       " months.x & year.x & temp.x & months.y & year.y & temp.y\\\\\n",
       " <chr> & <chr> & <dbl> & <chr> & <chr> & <dbl>\\\\\n",
       "\\hline\n",
       "\t jan & 2018 &  4.64 & apr & 2018 & 38.75\\\\\n",
       "\t feb & 2018 & 19.68 & apr & 2018 & 38.75\\\\\n",
       "\t jan & 2019 &  2.56 & apr & 2018 & 38.75\\\\\n",
       "\t mar & 2019 & 36.74 & apr & 2018 & 38.75\\\\\n",
       "\t jan & 2018 &  4.64 & mar & 2018 & 37.68\\\\\n",
       "\t feb & 2018 & 19.68 & mar & 2018 & 37.68\\\\\n",
       "\t jan & 2019 &  2.56 & mar & 2018 & 37.68\\\\\n",
       "\t mar & 2019 & 36.74 & mar & 2018 & 37.68\\\\\n",
       "\t jan & 2018 &  4.64 & feb & 2019 & 28.56\\\\\n",
       "\t feb & 2018 & 19.68 & feb & 2019 & 28.56\\\\\n",
       "\t jan & 2019 &  2.56 & feb & 2019 & 28.56\\\\\n",
       "\t mar & 2019 & 36.74 & feb & 2019 & 28.56\\\\\n",
       "\t jan & 2018 &  4.64 & jun & 2019 & 41.74\\\\\n",
       "\t feb & 2018 & 19.68 & jun & 2019 & 41.74\\\\\n",
       "\t jan & 2019 &  2.56 & jun & 2019 & 41.74\\\\\n",
       "\t mar & 2019 & 36.74 & jun & 2019 & 41.74\\\\\n",
       "\\end{tabular}\n"
      ],
      "text/markdown": [
       "\n",
       "A data.frame: 16 × 6\n",
       "\n",
       "| months.x &lt;chr&gt; | year.x &lt;chr&gt; | temp.x &lt;dbl&gt; | months.y &lt;chr&gt; | year.y &lt;chr&gt; | temp.y &lt;dbl&gt; |\n",
       "|---|---|---|---|---|---|\n",
       "| jan | 2018 |  4.64 | apr | 2018 | 38.75 |\n",
       "| feb | 2018 | 19.68 | apr | 2018 | 38.75 |\n",
       "| jan | 2019 |  2.56 | apr | 2018 | 38.75 |\n",
       "| mar | 2019 | 36.74 | apr | 2018 | 38.75 |\n",
       "| jan | 2018 |  4.64 | mar | 2018 | 37.68 |\n",
       "| feb | 2018 | 19.68 | mar | 2018 | 37.68 |\n",
       "| jan | 2019 |  2.56 | mar | 2018 | 37.68 |\n",
       "| mar | 2019 | 36.74 | mar | 2018 | 37.68 |\n",
       "| jan | 2018 |  4.64 | feb | 2019 | 28.56 |\n",
       "| feb | 2018 | 19.68 | feb | 2019 | 28.56 |\n",
       "| jan | 2019 |  2.56 | feb | 2019 | 28.56 |\n",
       "| mar | 2019 | 36.74 | feb | 2019 | 28.56 |\n",
       "| jan | 2018 |  4.64 | jun | 2019 | 41.74 |\n",
       "| feb | 2018 | 19.68 | jun | 2019 | 41.74 |\n",
       "| jan | 2019 |  2.56 | jun | 2019 | 41.74 |\n",
       "| mar | 2019 | 36.74 | jun | 2019 | 41.74 |\n",
       "\n"
      ],
      "text/plain": [
       "   months.x year.x temp.x months.y year.y temp.y\n",
       "1  jan      2018    4.64  apr      2018   38.75 \n",
       "2  feb      2018   19.68  apr      2018   38.75 \n",
       "3  jan      2019    2.56  apr      2018   38.75 \n",
       "4  mar      2019   36.74  apr      2018   38.75 \n",
       "5  jan      2018    4.64  mar      2018   37.68 \n",
       "6  feb      2018   19.68  mar      2018   37.68 \n",
       "7  jan      2019    2.56  mar      2018   37.68 \n",
       "8  mar      2019   36.74  mar      2018   37.68 \n",
       "9  jan      2018    4.64  feb      2019   28.56 \n",
       "10 feb      2018   19.68  feb      2019   28.56 \n",
       "11 jan      2019    2.56  feb      2019   28.56 \n",
       "12 mar      2019   36.74  feb      2019   28.56 \n",
       "13 jan      2018    4.64  jun      2019   41.74 \n",
       "14 feb      2018   19.68  jun      2019   41.74 \n",
       "15 jan      2019    2.56  jun      2019   41.74 \n",
       "16 mar      2019   36.74  jun      2019   41.74 "
      ]
     },
     "metadata": {},
     "output_type": "display_data"
    }
   ],
   "source": [
    "merge_delhi_temp <- merge(delhi_temp,delhi_temp2,by=NULL)#cross join\n",
    "merge_delhi_temp"
   ]
  },
  {
   "cell_type": "code",
   "execution_count": null,
   "id": "4f246163-330b-4b72-b7a8-17fca7d58882",
   "metadata": {},
   "outputs": [],
   "source": [
    "#Join opeartion Using dplyr:: library"
   ]
  },
  {
   "cell_type": "code",
   "execution_count": 124,
   "id": "16385e40-fe0e-4cd1-b442-29d9d0cf5db9",
   "metadata": {},
   "outputs": [
    {
     "data": {
      "text/html": [
       "<table class=\"dataframe\">\n",
       "<caption>A data.frame: 8 × 5</caption>\n",
       "<thead>\n",
       "\t<tr><th scope=col>months.x</th><th scope=col>year</th><th scope=col>temp.x</th><th scope=col>months.y</th><th scope=col>temp.y</th></tr>\n",
       "\t<tr><th scope=col>&lt;chr&gt;</th><th scope=col>&lt;chr&gt;</th><th scope=col>&lt;dbl&gt;</th><th scope=col>&lt;chr&gt;</th><th scope=col>&lt;dbl&gt;</th></tr>\n",
       "</thead>\n",
       "<tbody>\n",
       "\t<tr><td>jan</td><td>2018</td><td> 4.64</td><td>apr</td><td>38.75</td></tr>\n",
       "\t<tr><td>jan</td><td>2018</td><td> 4.64</td><td>mar</td><td>37.68</td></tr>\n",
       "\t<tr><td>feb</td><td>2018</td><td>19.68</td><td>apr</td><td>38.75</td></tr>\n",
       "\t<tr><td>feb</td><td>2018</td><td>19.68</td><td>mar</td><td>37.68</td></tr>\n",
       "\t<tr><td>jan</td><td>2019</td><td> 2.56</td><td>feb</td><td>28.56</td></tr>\n",
       "\t<tr><td>jan</td><td>2019</td><td> 2.56</td><td>jun</td><td>41.74</td></tr>\n",
       "\t<tr><td>mar</td><td>2019</td><td>36.74</td><td>feb</td><td>28.56</td></tr>\n",
       "\t<tr><td>mar</td><td>2019</td><td>36.74</td><td>jun</td><td>41.74</td></tr>\n",
       "</tbody>\n",
       "</table>\n"
      ],
      "text/latex": [
       "A data.frame: 8 × 5\n",
       "\\begin{tabular}{lllll}\n",
       " months.x & year & temp.x & months.y & temp.y\\\\\n",
       " <chr> & <chr> & <dbl> & <chr> & <dbl>\\\\\n",
       "\\hline\n",
       "\t jan & 2018 &  4.64 & apr & 38.75\\\\\n",
       "\t jan & 2018 &  4.64 & mar & 37.68\\\\\n",
       "\t feb & 2018 & 19.68 & apr & 38.75\\\\\n",
       "\t feb & 2018 & 19.68 & mar & 37.68\\\\\n",
       "\t jan & 2019 &  2.56 & feb & 28.56\\\\\n",
       "\t jan & 2019 &  2.56 & jun & 41.74\\\\\n",
       "\t mar & 2019 & 36.74 & feb & 28.56\\\\\n",
       "\t mar & 2019 & 36.74 & jun & 41.74\\\\\n",
       "\\end{tabular}\n"
      ],
      "text/markdown": [
       "\n",
       "A data.frame: 8 × 5\n",
       "\n",
       "| months.x &lt;chr&gt; | year &lt;chr&gt; | temp.x &lt;dbl&gt; | months.y &lt;chr&gt; | temp.y &lt;dbl&gt; |\n",
       "|---|---|---|---|---|\n",
       "| jan | 2018 |  4.64 | apr | 38.75 |\n",
       "| jan | 2018 |  4.64 | mar | 37.68 |\n",
       "| feb | 2018 | 19.68 | apr | 38.75 |\n",
       "| feb | 2018 | 19.68 | mar | 37.68 |\n",
       "| jan | 2019 |  2.56 | feb | 28.56 |\n",
       "| jan | 2019 |  2.56 | jun | 41.74 |\n",
       "| mar | 2019 | 36.74 | feb | 28.56 |\n",
       "| mar | 2019 | 36.74 | jun | 41.74 |\n",
       "\n"
      ],
      "text/plain": [
       "  months.x year temp.x months.y temp.y\n",
       "1 jan      2018  4.64  apr      38.75 \n",
       "2 jan      2018  4.64  mar      37.68 \n",
       "3 feb      2018 19.68  apr      38.75 \n",
       "4 feb      2018 19.68  mar      37.68 \n",
       "5 jan      2019  2.56  feb      28.56 \n",
       "6 jan      2019  2.56  jun      41.74 \n",
       "7 mar      2019 36.74  feb      28.56 \n",
       "8 mar      2019 36.74  jun      41.74 "
      ]
     },
     "metadata": {},
     "output_type": "display_data"
    }
   ],
   "source": [
    "dplyr::left_join(delhi_temp,delhi_temp2,by = 'year')"
   ]
  },
  {
   "cell_type": "code",
   "execution_count": 125,
   "id": "396dac87-5366-4c0c-a990-da3f66cb494e",
   "metadata": {},
   "outputs": [
    {
     "data": {
      "text/html": [
       "<table class=\"dataframe\">\n",
       "<caption>A data.frame: 8 × 5</caption>\n",
       "<thead>\n",
       "\t<tr><th scope=col>months.x</th><th scope=col>year</th><th scope=col>temp.x</th><th scope=col>months.y</th><th scope=col>temp.y</th></tr>\n",
       "\t<tr><th scope=col>&lt;chr&gt;</th><th scope=col>&lt;chr&gt;</th><th scope=col>&lt;dbl&gt;</th><th scope=col>&lt;chr&gt;</th><th scope=col>&lt;dbl&gt;</th></tr>\n",
       "</thead>\n",
       "<tbody>\n",
       "\t<tr><td>jan</td><td>2018</td><td> 4.64</td><td>apr</td><td>38.75</td></tr>\n",
       "\t<tr><td>jan</td><td>2018</td><td> 4.64</td><td>mar</td><td>37.68</td></tr>\n",
       "\t<tr><td>feb</td><td>2018</td><td>19.68</td><td>apr</td><td>38.75</td></tr>\n",
       "\t<tr><td>feb</td><td>2018</td><td>19.68</td><td>mar</td><td>37.68</td></tr>\n",
       "\t<tr><td>jan</td><td>2019</td><td> 2.56</td><td>feb</td><td>28.56</td></tr>\n",
       "\t<tr><td>jan</td><td>2019</td><td> 2.56</td><td>jun</td><td>41.74</td></tr>\n",
       "\t<tr><td>mar</td><td>2019</td><td>36.74</td><td>feb</td><td>28.56</td></tr>\n",
       "\t<tr><td>mar</td><td>2019</td><td>36.74</td><td>jun</td><td>41.74</td></tr>\n",
       "</tbody>\n",
       "</table>\n"
      ],
      "text/latex": [
       "A data.frame: 8 × 5\n",
       "\\begin{tabular}{lllll}\n",
       " months.x & year & temp.x & months.y & temp.y\\\\\n",
       " <chr> & <chr> & <dbl> & <chr> & <dbl>\\\\\n",
       "\\hline\n",
       "\t jan & 2018 &  4.64 & apr & 38.75\\\\\n",
       "\t jan & 2018 &  4.64 & mar & 37.68\\\\\n",
       "\t feb & 2018 & 19.68 & apr & 38.75\\\\\n",
       "\t feb & 2018 & 19.68 & mar & 37.68\\\\\n",
       "\t jan & 2019 &  2.56 & feb & 28.56\\\\\n",
       "\t jan & 2019 &  2.56 & jun & 41.74\\\\\n",
       "\t mar & 2019 & 36.74 & feb & 28.56\\\\\n",
       "\t mar & 2019 & 36.74 & jun & 41.74\\\\\n",
       "\\end{tabular}\n"
      ],
      "text/markdown": [
       "\n",
       "A data.frame: 8 × 5\n",
       "\n",
       "| months.x &lt;chr&gt; | year &lt;chr&gt; | temp.x &lt;dbl&gt; | months.y &lt;chr&gt; | temp.y &lt;dbl&gt; |\n",
       "|---|---|---|---|---|\n",
       "| jan | 2018 |  4.64 | apr | 38.75 |\n",
       "| jan | 2018 |  4.64 | mar | 37.68 |\n",
       "| feb | 2018 | 19.68 | apr | 38.75 |\n",
       "| feb | 2018 | 19.68 | mar | 37.68 |\n",
       "| jan | 2019 |  2.56 | feb | 28.56 |\n",
       "| jan | 2019 |  2.56 | jun | 41.74 |\n",
       "| mar | 2019 | 36.74 | feb | 28.56 |\n",
       "| mar | 2019 | 36.74 | jun | 41.74 |\n",
       "\n"
      ],
      "text/plain": [
       "  months.x year temp.x months.y temp.y\n",
       "1 jan      2018  4.64  apr      38.75 \n",
       "2 jan      2018  4.64  mar      37.68 \n",
       "3 feb      2018 19.68  apr      38.75 \n",
       "4 feb      2018 19.68  mar      37.68 \n",
       "5 jan      2019  2.56  feb      28.56 \n",
       "6 jan      2019  2.56  jun      41.74 \n",
       "7 mar      2019 36.74  feb      28.56 \n",
       "8 mar      2019 36.74  jun      41.74 "
      ]
     },
     "metadata": {},
     "output_type": "display_data"
    }
   ],
   "source": [
    "dplyr::right_join(delhi_temp,delhi_temp2,by = 'year')"
   ]
  },
  {
   "cell_type": "code",
   "execution_count": 129,
   "id": "d171ec79-47a5-4943-873c-36854b88efac",
   "metadata": {},
   "outputs": [
    {
     "data": {
      "text/html": [
       "<table class=\"dataframe\">\n",
       "<caption>A data.frame: 2 × 5</caption>\n",
       "<thead>\n",
       "\t<tr><th scope=col>months</th><th scope=col>year.x</th><th scope=col>temp.x</th><th scope=col>year.y</th><th scope=col>temp.y</th></tr>\n",
       "\t<tr><th scope=col>&lt;chr&gt;</th><th scope=col>&lt;chr&gt;</th><th scope=col>&lt;dbl&gt;</th><th scope=col>&lt;chr&gt;</th><th scope=col>&lt;dbl&gt;</th></tr>\n",
       "</thead>\n",
       "<tbody>\n",
       "\t<tr><td>feb</td><td>2018</td><td>19.68</td><td>2019</td><td>28.56</td></tr>\n",
       "\t<tr><td>mar</td><td>2019</td><td>36.74</td><td>2018</td><td>37.68</td></tr>\n",
       "</tbody>\n",
       "</table>\n"
      ],
      "text/latex": [
       "A data.frame: 2 × 5\n",
       "\\begin{tabular}{lllll}\n",
       " months & year.x & temp.x & year.y & temp.y\\\\\n",
       " <chr> & <chr> & <dbl> & <chr> & <dbl>\\\\\n",
       "\\hline\n",
       "\t feb & 2018 & 19.68 & 2019 & 28.56\\\\\n",
       "\t mar & 2019 & 36.74 & 2018 & 37.68\\\\\n",
       "\\end{tabular}\n"
      ],
      "text/markdown": [
       "\n",
       "A data.frame: 2 × 5\n",
       "\n",
       "| months &lt;chr&gt; | year.x &lt;chr&gt; | temp.x &lt;dbl&gt; | year.y &lt;chr&gt; | temp.y &lt;dbl&gt; |\n",
       "|---|---|---|---|---|\n",
       "| feb | 2018 | 19.68 | 2019 | 28.56 |\n",
       "| mar | 2019 | 36.74 | 2018 | 37.68 |\n",
       "\n"
      ],
      "text/plain": [
       "  months year.x temp.x year.y temp.y\n",
       "1 feb    2018   19.68  2019   28.56 \n",
       "2 mar    2019   36.74  2018   37.68 "
      ]
     },
     "metadata": {},
     "output_type": "display_data"
    }
   ],
   "source": [
    "dplyr::inner_join(delhi_temp,delhi_temp2,by = 'months')"
   ]
  },
  {
   "cell_type": "code",
   "execution_count": 131,
   "id": "14e5ee1b-7777-43f9-9262-9d12a2a6f724",
   "metadata": {},
   "outputs": [
    {
     "data": {
      "text/html": [
       "<table class=\"dataframe\">\n",
       "<caption>A data.frame: 6 × 5</caption>\n",
       "<thead>\n",
       "\t<tr><th scope=col>months</th><th scope=col>year.x</th><th scope=col>temp.x</th><th scope=col>year.y</th><th scope=col>temp.y</th></tr>\n",
       "\t<tr><th scope=col>&lt;chr&gt;</th><th scope=col>&lt;chr&gt;</th><th scope=col>&lt;dbl&gt;</th><th scope=col>&lt;chr&gt;</th><th scope=col>&lt;dbl&gt;</th></tr>\n",
       "</thead>\n",
       "<tbody>\n",
       "\t<tr><td>jan</td><td>2018</td><td> 4.64</td><td>NA  </td><td>   NA</td></tr>\n",
       "\t<tr><td>feb</td><td>2018</td><td>19.68</td><td>2019</td><td>28.56</td></tr>\n",
       "\t<tr><td>jan</td><td>2019</td><td> 2.56</td><td>NA  </td><td>   NA</td></tr>\n",
       "\t<tr><td>mar</td><td>2019</td><td>36.74</td><td>2018</td><td>37.68</td></tr>\n",
       "\t<tr><td>apr</td><td>NA  </td><td>   NA</td><td>2018</td><td>38.75</td></tr>\n",
       "\t<tr><td>jun</td><td>NA  </td><td>   NA</td><td>2019</td><td>41.74</td></tr>\n",
       "</tbody>\n",
       "</table>\n"
      ],
      "text/latex": [
       "A data.frame: 6 × 5\n",
       "\\begin{tabular}{lllll}\n",
       " months & year.x & temp.x & year.y & temp.y\\\\\n",
       " <chr> & <chr> & <dbl> & <chr> & <dbl>\\\\\n",
       "\\hline\n",
       "\t jan & 2018 &  4.64 & NA   &    NA\\\\\n",
       "\t feb & 2018 & 19.68 & 2019 & 28.56\\\\\n",
       "\t jan & 2019 &  2.56 & NA   &    NA\\\\\n",
       "\t mar & 2019 & 36.74 & 2018 & 37.68\\\\\n",
       "\t apr & NA   &    NA & 2018 & 38.75\\\\\n",
       "\t jun & NA   &    NA & 2019 & 41.74\\\\\n",
       "\\end{tabular}\n"
      ],
      "text/markdown": [
       "\n",
       "A data.frame: 6 × 5\n",
       "\n",
       "| months &lt;chr&gt; | year.x &lt;chr&gt; | temp.x &lt;dbl&gt; | year.y &lt;chr&gt; | temp.y &lt;dbl&gt; |\n",
       "|---|---|---|---|---|\n",
       "| jan | 2018 |  4.64 | NA   |    NA |\n",
       "| feb | 2018 | 19.68 | 2019 | 28.56 |\n",
       "| jan | 2019 |  2.56 | NA   |    NA |\n",
       "| mar | 2019 | 36.74 | 2018 | 37.68 |\n",
       "| apr | NA   |    NA | 2018 | 38.75 |\n",
       "| jun | NA   |    NA | 2019 | 41.74 |\n",
       "\n"
      ],
      "text/plain": [
       "  months year.x temp.x year.y temp.y\n",
       "1 jan    2018    4.64  NA        NA \n",
       "2 feb    2018   19.68  2019   28.56 \n",
       "3 jan    2019    2.56  NA        NA \n",
       "4 mar    2019   36.74  2018   37.68 \n",
       "5 apr    NA        NA  2018   38.75 \n",
       "6 jun    NA        NA  2019   41.74 "
      ]
     },
     "metadata": {},
     "output_type": "display_data"
    }
   ],
   "source": [
    "dplyr::full_join(delhi_temp,delhi_temp2,by = 'months')"
   ]
  },
  {
   "cell_type": "code",
   "execution_count": null,
   "id": "88a0130a-d95d-4623-8e54-57b13068274d",
   "metadata": {},
   "outputs": [],
   "source": [
    "Summary\n",
    "\n",
    "- Data reshaping is the first step of any data analysis project. It is also called data formatting and data cleaning.\n",
    "\n",
    "- functions in base R that allow us to reshape and transform our data.\n",
    "\n",
    "- We also looked at the most popular data processing and transformation package, the tidyr package. The tidyr package is a part of the tidyverse collection of R packages. \n",
    "- It is a must-have for beginner, intermediate and advanced R programmer"
   ]
  },
  {
   "cell_type": "code",
   "execution_count": null,
   "id": "91752e83-3209-48e9-8a66-2d3b33b3a8a2",
   "metadata": {},
   "outputs": [],
   "source": []
  },
  {
   "cell_type": "code",
   "execution_count": null,
   "id": "c0304a33-1132-4835-a8dc-2d1c3555e16e",
   "metadata": {},
   "outputs": [],
   "source": []
  },
  {
   "cell_type": "code",
   "execution_count": null,
   "id": "4ebe6878-838c-4dfa-97e5-6295a0d995bf",
   "metadata": {},
   "outputs": [],
   "source": []
  },
  {
   "cell_type": "code",
   "execution_count": null,
   "id": "19e04a2e-1288-4a1b-ac22-323963d7383e",
   "metadata": {},
   "outputs": [],
   "source": []
  },
  {
   "cell_type": "markdown",
   "id": "c954c830-a6a5-4d25-9066-1e078ee465d6",
   "metadata": {},
   "source": [
    "### Data Reshaping in R"
   ]
  },
  {
   "cell_type": "markdown",
   "id": "8a5f1ed9-228d-4ece-a904-53832762b2ab",
   "metadata": {},
   "source": [
    "- Data Reshaping in R is about changing the way data is organized into rows and columns.\n",
    "- Most of the time data processing in R is done by taking the input data as a data frame. \n",
    "- It is easy to extract data from the rows and columns of a data frame but there are situations when we need the data frame in a format that is different from format in which we received it.\n",
    "- R has many functions to split, merge and change the rows to columns and vice-versa in a data frame."
   ]
  },
  {
   "cell_type": "markdown",
   "id": "7854d663-3bdb-4593-b95a-e5ee2a063685",
   "metadata": {},
   "source": [
    "### 1. Joining Columns and Rows in a Data Frame:"
   ]
  },
  {
   "cell_type": "markdown",
   "id": "9769219e-c828-4654-af81-dbf0404a9419",
   "metadata": {},
   "source": [
    "- We use rbind() and cbind() functions for this.\n",
    "- cbind() function: It combines vector, matrix or data frame by columns.\n",
    "- cbind(x1,x2,...)\n",
    "- x1,x2:vector, matrix, data frames"
   ]
  },
  {
   "cell_type": "code",
   "execution_count": null,
   "id": "21c60bda-781c-478a-9ae2-639c8757daff",
   "metadata": {},
   "outputs": [],
   "source": [
    "x <- read.csv(\"data1.csv\",header=T,sep=\",\")\n",
    "x2 <- read.csv(\"data2.csv\",header=T,sep=\",\")"
   ]
  },
  {
   "cell_type": "code",
   "execution_count": null,
   "id": "aef8d592-f2fc-433b-90cd-261fdf013a1b",
   "metadata": {},
   "outputs": [],
   "source": [
    "x3 <- cbind(x,x2)"
   ]
  },
  {
   "cell_type": "code",
   "execution_count": null,
   "id": "4f3a3849-14fe-4a80-8aa2-e2d95096b2bc",
   "metadata": {},
   "outputs": [],
   "source": [
    "Note: In cbind() the row number of the two datasets must be equal."
   ]
  },
  {
   "cell_type": "markdown",
   "id": "4694ea07-474f-4ce3-aef8-a3b24ba2aa07",
   "metadata": {},
   "source": [
    "### rbind() function"
   ]
  },
  {
   "cell_type": "markdown",
   "id": "6e00c3ce-e426-458f-b1c7-5632596b14fd",
   "metadata": {},
   "source": [
    "- rbind() function: It combines vector, matrix or data frame by rows.\n",
    "- rbind(x1,x2,...)\n",
    "- x1,x2:vector, matrix, data frames"
   ]
  },
  {
   "cell_type": "code",
   "execution_count": 33,
   "id": "b2f11267-c1aa-4654-9cf8-b31341616de9",
   "metadata": {},
   "outputs": [
    {
     "name": "stderr",
     "output_type": "stream",
     "text": [
      "Warning message in read.table(file = \"data1.csv\", sep = \",\", header = T):\n",
      "\"incomplete final line found by readTableHeader on 'data1.csv'\"\n"
     ]
    }
   ],
   "source": [
    "dft<-read.table(file=\"data1.csv\",sep = \",\",header = T)"
   ]
  },
  {
   "cell_type": "code",
   "execution_count": 34,
   "id": "1740a660-f451-455d-b564-d310f06a6b9a",
   "metadata": {},
   "outputs": [
    {
     "data": {
      "text/html": [
       "<table class=\"dataframe\">\n",
       "<caption>A data.frame: 4 × 3</caption>\n",
       "<thead>\n",
       "\t<tr><th scope=col>Subtype</th><th scope=col>Gender</th><th scope=col>Expression</th></tr>\n",
       "\t<tr><th scope=col>&lt;chr&gt;</th><th scope=col>&lt;chr&gt;</th><th scope=col>&lt;dbl&gt;</th></tr>\n",
       "</thead>\n",
       "<tbody>\n",
       "\t<tr><td>A</td><td>m</td><td>-0.54</td></tr>\n",
       "\t<tr><td>A</td><td>f</td><td>-0.80</td></tr>\n",
       "\t<tr><td>B</td><td>f</td><td>-1.03</td></tr>\n",
       "\t<tr><td>C</td><td>m</td><td>-0.41</td></tr>\n",
       "</tbody>\n",
       "</table>\n"
      ],
      "text/latex": [
       "A data.frame: 4 × 3\n",
       "\\begin{tabular}{lll}\n",
       " Subtype & Gender & Expression\\\\\n",
       " <chr> & <chr> & <dbl>\\\\\n",
       "\\hline\n",
       "\t A & m & -0.54\\\\\n",
       "\t A & f & -0.80\\\\\n",
       "\t B & f & -1.03\\\\\n",
       "\t C & m & -0.41\\\\\n",
       "\\end{tabular}\n"
      ],
      "text/markdown": [
       "\n",
       "A data.frame: 4 × 3\n",
       "\n",
       "| Subtype &lt;chr&gt; | Gender &lt;chr&gt; | Expression &lt;dbl&gt; |\n",
       "|---|---|---|\n",
       "| A | m | -0.54 |\n",
       "| A | f | -0.80 |\n",
       "| B | f | -1.03 |\n",
       "| C | m | -0.41 |\n",
       "\n"
      ],
      "text/plain": [
       "  Subtype Gender Expression\n",
       "1 A       m      -0.54     \n",
       "2 A       f      -0.80     \n",
       "3 B       f      -1.03     \n",
       "4 C       m      -0.41     "
      ]
     },
     "metadata": {},
     "output_type": "display_data"
    }
   ],
   "source": [
    "dft"
   ]
  },
  {
   "cell_type": "code",
   "execution_count": 35,
   "id": "75374e22-7db7-4377-bd0e-65a9cecbfe71",
   "metadata": {},
   "outputs": [
    {
     "name": "stderr",
     "output_type": "stream",
     "text": [
      "\u001b[1mRows: \u001b[22m\u001b[34m4\u001b[39m \u001b[1mColumns: \u001b[22m\u001b[34m3\u001b[39m\n",
      "\u001b[36m--\u001b[39m \u001b[1mColumn specification\u001b[22m \u001b[36m------------------------------------------------------------------------------------------------\u001b[39m\n",
      "\u001b[1mDelimiter:\u001b[22m \",\"\n",
      "\u001b[31mchr\u001b[39m (2): Subtype, Gender\n",
      "\u001b[32mdbl\u001b[39m (1): Expression\n",
      "\n",
      "\u001b[36mi\u001b[39m Use \u001b[30m\u001b[47m\u001b[30m\u001b[47m`spec()`\u001b[47m\u001b[30m\u001b[49m\u001b[39m to retrieve the full column specification for this data.\n",
      "\u001b[36mi\u001b[39m Specify the column types or set \u001b[30m\u001b[47m\u001b[30m\u001b[47m`show_col_types = FALSE`\u001b[47m\u001b[30m\u001b[49m\u001b[39m to quiet this message.\n",
      "Warning message in read.table(file = file, header = header, sep = sep, quote = quote, :\n",
      "\"incomplete final line found by readTableHeader on 'data2.csv'\"\n"
     ]
    }
   ],
   "source": [
    "\n",
    "df1 <- readr::read_csv(file=\"data1.csv\")\n",
    "df2<- read.csv(\"data2.csv\",header=T,sep=\",\")"
   ]
  },
  {
   "cell_type": "code",
   "execution_count": 26,
   "id": "783dbb78-18c9-434a-b405-bfafda2a8f15",
   "metadata": {},
   "outputs": [
    {
     "data": {
      "text/html": [
       "<table class=\"dataframe\">\n",
       "<caption>A data.frame: 4 × 3</caption>\n",
       "<thead>\n",
       "\t<tr><th scope=col>Subtype</th><th scope=col>Gender</th><th scope=col>Expression</th></tr>\n",
       "\t<tr><th scope=col>&lt;chr&gt;</th><th scope=col>&lt;chr&gt;</th><th scope=col>&lt;dbl&gt;</th></tr>\n",
       "</thead>\n",
       "<tbody>\n",
       "\t<tr><td>A</td><td>m</td><td>-0.54</td></tr>\n",
       "\t<tr><td>A</td><td>f</td><td>-0.80</td></tr>\n",
       "\t<tr><td>B</td><td>f</td><td>-1.03</td></tr>\n",
       "\t<tr><td>C</td><td>m</td><td>-0.41</td></tr>\n",
       "</tbody>\n",
       "</table>\n"
      ],
      "text/latex": [
       "A data.frame: 4 × 3\n",
       "\\begin{tabular}{lll}\n",
       " Subtype & Gender & Expression\\\\\n",
       " <chr> & <chr> & <dbl>\\\\\n",
       "\\hline\n",
       "\t A & m & -0.54\\\\\n",
       "\t A & f & -0.80\\\\\n",
       "\t B & f & -1.03\\\\\n",
       "\t C & m & -0.41\\\\\n",
       "\\end{tabular}\n"
      ],
      "text/markdown": [
       "\n",
       "A data.frame: 4 × 3\n",
       "\n",
       "| Subtype &lt;chr&gt; | Gender &lt;chr&gt; | Expression &lt;dbl&gt; |\n",
       "|---|---|---|\n",
       "| A | m | -0.54 |\n",
       "| A | f | -0.80 |\n",
       "| B | f | -1.03 |\n",
       "| C | m | -0.41 |\n",
       "\n"
      ],
      "text/plain": [
       "  Subtype Gender Expression\n",
       "1 A       m      -0.54     \n",
       "2 A       f      -0.80     \n",
       "3 B       f      -1.03     \n",
       "4 C       m      -0.41     "
      ]
     },
     "metadata": {},
     "output_type": "display_data"
    }
   ],
   "source": [
    "df1"
   ]
  },
  {
   "cell_type": "code",
   "execution_count": 36,
   "id": "6e46610c-00f1-45a7-bf1d-a8be6a7f51b0",
   "metadata": {},
   "outputs": [
    {
     "data": {
      "text/html": [
       "<table class=\"dataframe\">\n",
       "<caption>A data.frame: 4 × 2</caption>\n",
       "<thead>\n",
       "\t<tr><th scope=col>Age</th><th scope=col>City</th></tr>\n",
       "\t<tr><th scope=col>&lt;int&gt;</th><th scope=col>&lt;chr&gt;</th></tr>\n",
       "</thead>\n",
       "<tbody>\n",
       "\t<tr><td>32</td><td>New York</td></tr>\n",
       "\t<tr><td>21</td><td>Houston </td></tr>\n",
       "\t<tr><td>34</td><td>Seattle </td></tr>\n",
       "\t<tr><td>67</td><td>Houston </td></tr>\n",
       "</tbody>\n",
       "</table>\n"
      ],
      "text/latex": [
       "A data.frame: 4 × 2\n",
       "\\begin{tabular}{ll}\n",
       " Age & City\\\\\n",
       " <int> & <chr>\\\\\n",
       "\\hline\n",
       "\t 32 & New York\\\\\n",
       "\t 21 & Houston \\\\\n",
       "\t 34 & Seattle \\\\\n",
       "\t 67 & Houston \\\\\n",
       "\\end{tabular}\n"
      ],
      "text/markdown": [
       "\n",
       "A data.frame: 4 × 2\n",
       "\n",
       "| Age &lt;int&gt; | City &lt;chr&gt; |\n",
       "|---|---|\n",
       "| 32 | New York |\n",
       "| 21 | Houston  |\n",
       "| 34 | Seattle  |\n",
       "| 67 | Houston  |\n",
       "\n"
      ],
      "text/plain": [
       "  Age City    \n",
       "1 32  New York\n",
       "2 21  Houston \n",
       "3 34  Seattle \n",
       "4 67  Houston "
      ]
     },
     "metadata": {},
     "output_type": "display_data"
    }
   ],
   "source": [
    "df2"
   ]
  },
  {
   "cell_type": "code",
   "execution_count": 41,
   "id": "20d3e4b2-c996-4e05-a889-9d0ba928333e",
   "metadata": {},
   "outputs": [
    {
     "data": {
      "text/html": [
       "<table class=\"dataframe\">\n",
       "<caption>A data.frame: 4 × 5</caption>\n",
       "<thead>\n",
       "\t<tr><th scope=col>Subtype</th><th scope=col>Gender</th><th scope=col>Expression</th><th scope=col>Age</th><th scope=col>City</th></tr>\n",
       "\t<tr><th scope=col>&lt;chr&gt;</th><th scope=col>&lt;chr&gt;</th><th scope=col>&lt;dbl&gt;</th><th scope=col>&lt;int&gt;</th><th scope=col>&lt;chr&gt;</th></tr>\n",
       "</thead>\n",
       "<tbody>\n",
       "\t<tr><td>A</td><td>m</td><td>-0.54</td><td>32</td><td>New York</td></tr>\n",
       "\t<tr><td>A</td><td>f</td><td>-0.80</td><td>21</td><td>Houston </td></tr>\n",
       "\t<tr><td>B</td><td>f</td><td>-1.03</td><td>34</td><td>Seattle </td></tr>\n",
       "\t<tr><td>C</td><td>m</td><td>-0.41</td><td>67</td><td>Houston </td></tr>\n",
       "</tbody>\n",
       "</table>\n"
      ],
      "text/latex": [
       "A data.frame: 4 × 5\n",
       "\\begin{tabular}{lllll}\n",
       " Subtype & Gender & Expression & Age & City\\\\\n",
       " <chr> & <chr> & <dbl> & <int> & <chr>\\\\\n",
       "\\hline\n",
       "\t A & m & -0.54 & 32 & New York\\\\\n",
       "\t A & f & -0.80 & 21 & Houston \\\\\n",
       "\t B & f & -1.03 & 34 & Seattle \\\\\n",
       "\t C & m & -0.41 & 67 & Houston \\\\\n",
       "\\end{tabular}\n"
      ],
      "text/markdown": [
       "\n",
       "A data.frame: 4 × 5\n",
       "\n",
       "| Subtype &lt;chr&gt; | Gender &lt;chr&gt; | Expression &lt;dbl&gt; | Age &lt;int&gt; | City &lt;chr&gt; |\n",
       "|---|---|---|---|---|\n",
       "| A | m | -0.54 | 32 | New York |\n",
       "| A | f | -0.80 | 21 | Houston  |\n",
       "| B | f | -1.03 | 34 | Seattle  |\n",
       "| C | m | -0.41 | 67 | Houston  |\n",
       "\n"
      ],
      "text/plain": [
       "  Subtype Gender Expression Age City    \n",
       "1 A       m      -0.54      32  New York\n",
       "2 A       f      -0.80      21  Houston \n",
       "3 B       f      -1.03      34  Seattle \n",
       "4 C       m      -0.41      67  Houston "
      ]
     },
     "metadata": {},
     "output_type": "display_data"
    }
   ],
   "source": [
    "(x3 <- cbind(df1,df2))    # print the value using   ()"
   ]
  },
  {
   "cell_type": "markdown",
   "id": "e4057b2e-0cfc-47bc-baa2-f67a405b6c86",
   "metadata": {},
   "source": [
    "Note: In rbind() the column of the two datasets must be same, otherwise the combination will be meaningless."
   ]
  },
  {
   "cell_type": "markdown",
   "id": "81e6cfc7-502e-4f4a-89b9-613382e2c523",
   "metadata": {},
   "source": [
    "## 2. Merging Data Frames"
   ]
  },
  {
   "cell_type": "markdown",
   "id": "c9645e03-150d-4efd-9a52-91975f2c16d6",
   "metadata": {},
   "source": [
    "- We can merge two data frames by using the merge() function.\n",
    "- The data frames must have same column names on which the merging happens.\n",
    "- In the example below, we consider the data sets about Diabetes in Pima Indian Women available in the library names \"MASS\". \n",
    "- we merge the two data sets based on the values of blood pressure(\"bp\") and body mass index(\"bmi\").\n",
    "- On choosing these two columns for merging, the records where values of these two variables match in both data sets are combined together to form a single data frame."
   ]
  },
  {
   "cell_type": "code",
   "execution_count": 42,
   "id": "8800fc31-5b6a-47d4-8624-665426409bbd",
   "metadata": {},
   "outputs": [],
   "source": [
    "library(MASS)\n"
   ]
  },
  {
   "cell_type": "code",
   "execution_count": null,
   "id": "75605b2c-9bd5-478e-8a4e-5fa70ef84ef5",
   "metadata": {},
   "outputs": [],
   "source": []
  },
  {
   "cell_type": "code",
   "execution_count": 6,
   "id": "b3dc4e27-43e8-4085-8428-88e17fa13938",
   "metadata": {},
   "outputs": [
    {
     "data": {
      "text/html": [
       "<table class=\"dataframe\">\n",
       "<caption>A data.frame: 3 × 8</caption>\n",
       "<thead>\n",
       "\t<tr><th></th><th scope=col>npreg</th><th scope=col>glu</th><th scope=col>bp</th><th scope=col>skin</th><th scope=col>bmi</th><th scope=col>ped</th><th scope=col>age</th><th scope=col>type</th></tr>\n",
       "\t<tr><th></th><th scope=col>&lt;int&gt;</th><th scope=col>&lt;int&gt;</th><th scope=col>&lt;int&gt;</th><th scope=col>&lt;int&gt;</th><th scope=col>&lt;dbl&gt;</th><th scope=col>&lt;dbl&gt;</th><th scope=col>&lt;int&gt;</th><th scope=col>&lt;fct&gt;</th></tr>\n",
       "</thead>\n",
       "<tbody>\n",
       "\t<tr><th scope=row>1</th><td>6</td><td>148</td><td>72</td><td>35</td><td>33.6</td><td>0.627</td><td>50</td><td>Yes</td></tr>\n",
       "\t<tr><th scope=row>2</th><td>1</td><td> 85</td><td>66</td><td>29</td><td>26.6</td><td>0.351</td><td>31</td><td>No </td></tr>\n",
       "\t<tr><th scope=row>3</th><td>1</td><td> 89</td><td>66</td><td>23</td><td>28.1</td><td>0.167</td><td>21</td><td>No </td></tr>\n",
       "</tbody>\n",
       "</table>\n"
      ],
      "text/latex": [
       "A data.frame: 3 × 8\n",
       "\\begin{tabular}{r|llllllll}\n",
       "  & npreg & glu & bp & skin & bmi & ped & age & type\\\\\n",
       "  & <int> & <int> & <int> & <int> & <dbl> & <dbl> & <int> & <fct>\\\\\n",
       "\\hline\n",
       "\t1 & 6 & 148 & 72 & 35 & 33.6 & 0.627 & 50 & Yes\\\\\n",
       "\t2 & 1 &  85 & 66 & 29 & 26.6 & 0.351 & 31 & No \\\\\n",
       "\t3 & 1 &  89 & 66 & 23 & 28.1 & 0.167 & 21 & No \\\\\n",
       "\\end{tabular}\n"
      ],
      "text/markdown": [
       "\n",
       "A data.frame: 3 × 8\n",
       "\n",
       "| <!--/--> | npreg &lt;int&gt; | glu &lt;int&gt; | bp &lt;int&gt; | skin &lt;int&gt; | bmi &lt;dbl&gt; | ped &lt;dbl&gt; | age &lt;int&gt; | type &lt;fct&gt; |\n",
       "|---|---|---|---|---|---|---|---|---|\n",
       "| 1 | 6 | 148 | 72 | 35 | 33.6 | 0.627 | 50 | Yes |\n",
       "| 2 | 1 |  85 | 66 | 29 | 26.6 | 0.351 | 31 | No  |\n",
       "| 3 | 1 |  89 | 66 | 23 | 28.1 | 0.167 | 21 | No  |\n",
       "\n"
      ],
      "text/plain": [
       "  npreg glu bp skin bmi  ped   age type\n",
       "1 6     148 72 35   33.6 0.627 50  Yes \n",
       "2 1      85 66 29   26.6 0.351 31  No  \n",
       "3 1      89 66 23   28.1 0.167 21  No  "
      ]
     },
     "metadata": {},
     "output_type": "display_data"
    }
   ],
   "source": [
    "head(Pima.te,n=3)"
   ]
  },
  {
   "cell_type": "code",
   "execution_count": 7,
   "id": "9bdcd6e7-8a3d-4238-ab2a-a19f175324f2",
   "metadata": {},
   "outputs": [
    {
     "data": {
      "text/html": [
       "<table class=\"dataframe\">\n",
       "<caption>A data.frame: 3 × 8</caption>\n",
       "<thead>\n",
       "\t<tr><th></th><th scope=col>npreg</th><th scope=col>glu</th><th scope=col>bp</th><th scope=col>skin</th><th scope=col>bmi</th><th scope=col>ped</th><th scope=col>age</th><th scope=col>type</th></tr>\n",
       "\t<tr><th></th><th scope=col>&lt;int&gt;</th><th scope=col>&lt;int&gt;</th><th scope=col>&lt;int&gt;</th><th scope=col>&lt;int&gt;</th><th scope=col>&lt;dbl&gt;</th><th scope=col>&lt;dbl&gt;</th><th scope=col>&lt;int&gt;</th><th scope=col>&lt;fct&gt;</th></tr>\n",
       "</thead>\n",
       "<tbody>\n",
       "\t<tr><th scope=row>1</th><td>5</td><td> 86</td><td>68</td><td>28</td><td>30.2</td><td>0.364</td><td>24</td><td>No </td></tr>\n",
       "\t<tr><th scope=row>2</th><td>7</td><td>195</td><td>70</td><td>33</td><td>25.1</td><td>0.163</td><td>55</td><td>Yes</td></tr>\n",
       "\t<tr><th scope=row>3</th><td>5</td><td> 77</td><td>82</td><td>41</td><td>35.8</td><td>0.156</td><td>35</td><td>No </td></tr>\n",
       "</tbody>\n",
       "</table>\n"
      ],
      "text/latex": [
       "A data.frame: 3 × 8\n",
       "\\begin{tabular}{r|llllllll}\n",
       "  & npreg & glu & bp & skin & bmi & ped & age & type\\\\\n",
       "  & <int> & <int> & <int> & <int> & <dbl> & <dbl> & <int> & <fct>\\\\\n",
       "\\hline\n",
       "\t1 & 5 &  86 & 68 & 28 & 30.2 & 0.364 & 24 & No \\\\\n",
       "\t2 & 7 & 195 & 70 & 33 & 25.1 & 0.163 & 55 & Yes\\\\\n",
       "\t3 & 5 &  77 & 82 & 41 & 35.8 & 0.156 & 35 & No \\\\\n",
       "\\end{tabular}\n"
      ],
      "text/markdown": [
       "\n",
       "A data.frame: 3 × 8\n",
       "\n",
       "| <!--/--> | npreg &lt;int&gt; | glu &lt;int&gt; | bp &lt;int&gt; | skin &lt;int&gt; | bmi &lt;dbl&gt; | ped &lt;dbl&gt; | age &lt;int&gt; | type &lt;fct&gt; |\n",
       "|---|---|---|---|---|---|---|---|---|\n",
       "| 1 | 5 |  86 | 68 | 28 | 30.2 | 0.364 | 24 | No  |\n",
       "| 2 | 7 | 195 | 70 | 33 | 25.1 | 0.163 | 55 | Yes |\n",
       "| 3 | 5 |  77 | 82 | 41 | 35.8 | 0.156 | 35 | No  |\n",
       "\n"
      ],
      "text/plain": [
       "  npreg glu bp skin bmi  ped   age type\n",
       "1 5      86 68 28   30.2 0.364 24  No  \n",
       "2 7     195 70 33   25.1 0.163 55  Yes \n",
       "3 5      77 82 41   35.8 0.156 35  No  "
      ]
     },
     "metadata": {},
     "output_type": "display_data"
    }
   ],
   "source": [
    "head(Pima.tr,n=3)"
   ]
  },
  {
   "cell_type": "code",
   "execution_count": 43,
   "id": "7d08cb6d-8620-44d5-af15-6c89c623e60b",
   "metadata": {},
   "outputs": [
    {
     "name": "stdout",
     "output_type": "stream",
     "text": [
      "   bp  bmi npreg.x glu.x skin.x ped.x age.x type.x npreg.y glu.y skin.y ped.y\n",
      "1  60 33.8       1   117     23 0.466    27     No       2   125     20 0.088\n",
      "2  64 29.7       2    75     24 0.370    33     No       2   100     23 0.368\n",
      "3  64 31.2       5   189     33 0.583    29    Yes       3   158     13 0.295\n",
      "4  64 33.2       4   117     27 0.230    24     No       1    96     27 0.289\n",
      "5  66 38.1       3   115     39 0.150    28     No       1   114     36 0.289\n",
      "6  68 38.5       2   100     25 0.324    26     No       7   129     49 0.439\n",
      "7  70 27.4       1   116     28 0.204    21     No       0   124     20 0.254\n",
      "8  70 33.1       4    91     32 0.446    22     No       9   123     44 0.374\n",
      "9  70 35.4       9   124     33 0.282    34     No       6   134     23 0.542\n",
      "10 72 25.6       1   157     21 0.123    24     No       4    99     17 0.294\n",
      "11 72 37.7       5    95     33 0.370    27     No       6   103     32 0.324\n",
      "12 74 25.9       9   134     33 0.460    81     No       8   126     38 0.162\n",
      "13 74 25.9       1    95     21 0.673    36     No       8   126     38 0.162\n",
      "14 78 27.6       5    88     30 0.258    37     No       6   125     31 0.565\n",
      "15 78 27.6      10   122     31 0.512    45     No       6   125     31 0.565\n",
      "16 78 39.4       2   112     50 0.175    24     No       4   112     40 0.236\n",
      "17 88 34.5       1   117     24 0.403    40    Yes       4   127     11 0.598\n",
      "   age.y type.y\n",
      "1     31     No\n",
      "2     21     No\n",
      "3     24     No\n",
      "4     21     No\n",
      "5     21     No\n",
      "6     43    Yes\n",
      "7     36    Yes\n",
      "8     40     No\n",
      "9     29    Yes\n",
      "10    28     No\n",
      "11    55     No\n",
      "12    39     No\n",
      "13    39     No\n",
      "14    49    Yes\n",
      "15    49    Yes\n",
      "16    38     No\n",
      "17    28     No\n"
     ]
    }
   ],
   "source": [
    "merged.Pima<- merge(x =Pima.te, y =Pima.tr, by.x = c(\"bp\",\"bmi\"), by.y = c(\"bp\",\"bmi\") )\n",
    "print(merged.Pima)\n"
   ]
  },
  {
   "cell_type": "code",
   "execution_count": 51,
   "id": "0d0c5197-cc6f-4789-ab3a-6768929bbe42",
   "metadata": {},
   "outputs": [
    {
     "data": {
      "text/html": [
       "<table class=\"dataframe\">\n",
       "<caption>A data.frame: 202 × 14</caption>\n",
       "<thead>\n",
       "\t<tr><th scope=col>npreg.x</th><th scope=col>glu.x</th><th scope=col>bp</th><th scope=col>skin.x</th><th scope=col>bmi</th><th scope=col>ped.x</th><th scope=col>age.x</th><th scope=col>type.x</th><th scope=col>npreg.y</th><th scope=col>glu.y</th><th scope=col>skin.y</th><th scope=col>ped.y</th><th scope=col>age.y</th><th scope=col>type.y</th></tr>\n",
       "\t<tr><th scope=col>&lt;int&gt;</th><th scope=col>&lt;int&gt;</th><th scope=col>&lt;int&gt;</th><th scope=col>&lt;int&gt;</th><th scope=col>&lt;dbl&gt;</th><th scope=col>&lt;dbl&gt;</th><th scope=col>&lt;int&gt;</th><th scope=col>&lt;fct&gt;</th><th scope=col>&lt;int&gt;</th><th scope=col>&lt;int&gt;</th><th scope=col>&lt;int&gt;</th><th scope=col>&lt;dbl&gt;</th><th scope=col>&lt;int&gt;</th><th scope=col>&lt;fct&gt;</th></tr>\n",
       "</thead>\n",
       "<tbody>\n",
       "\t<tr><td>10</td><td>122</td><td>78</td><td>31</td><td>27.6</td><td>0.512</td><td>45</td><td>No </td><td>6</td><td>125</td><td>31</td><td>0.565</td><td>49</td><td>Yes</td></tr>\n",
       "\t<tr><td> 5</td><td> 95</td><td>72</td><td>33</td><td>37.7</td><td>0.370</td><td>27</td><td>No </td><td>6</td><td>103</td><td>32</td><td>0.324</td><td>55</td><td>No </td></tr>\n",
       "\t<tr><td> 2</td><td>100</td><td>68</td><td>25</td><td>38.5</td><td>0.324</td><td>26</td><td>No </td><td>7</td><td>129</td><td>49</td><td>0.439</td><td>43</td><td>Yes</td></tr>\n",
       "\t<tr><td> 1</td><td>117</td><td>88</td><td>24</td><td>34.5</td><td>0.403</td><td>40</td><td>Yes</td><td>4</td><td>127</td><td>11</td><td>0.598</td><td>28</td><td>No </td></tr>\n",
       "\t<tr><td> 2</td><td> 75</td><td>64</td><td>24</td><td>29.7</td><td>0.370</td><td>33</td><td>No </td><td>2</td><td>100</td><td>23</td><td>0.368</td><td>21</td><td>No </td></tr>\n",
       "\t<tr><td> 4</td><td> 91</td><td>70</td><td>32</td><td>33.1</td><td>0.446</td><td>22</td><td>No </td><td>9</td><td>123</td><td>44</td><td>0.374</td><td>40</td><td>No </td></tr>\n",
       "\t<tr><td> 9</td><td>124</td><td>70</td><td>33</td><td>35.4</td><td>0.282</td><td>34</td><td>No </td><td>6</td><td>134</td><td>23</td><td>0.542</td><td>29</td><td>Yes</td></tr>\n",
       "\t<tr><td> 3</td><td>115</td><td>66</td><td>39</td><td>38.1</td><td>0.150</td><td>28</td><td>No </td><td>1</td><td>114</td><td>36</td><td>0.289</td><td>21</td><td>No </td></tr>\n",
       "\t<tr><td> 1</td><td>157</td><td>72</td><td>21</td><td>25.6</td><td>0.123</td><td>24</td><td>No </td><td>4</td><td> 99</td><td>17</td><td>0.294</td><td>28</td><td>No </td></tr>\n",
       "\t<tr><td> 1</td><td> 95</td><td>74</td><td>21</td><td>25.9</td><td>0.673</td><td>36</td><td>No </td><td>8</td><td>126</td><td>38</td><td>0.162</td><td>39</td><td>No </td></tr>\n",
       "\t<tr><td> 5</td><td>189</td><td>64</td><td>33</td><td>31.2</td><td>0.583</td><td>29</td><td>Yes</td><td>3</td><td>158</td><td>13</td><td>0.295</td><td>24</td><td>No </td></tr>\n",
       "\t<tr><td> 4</td><td>117</td><td>64</td><td>27</td><td>33.2</td><td>0.230</td><td>24</td><td>No </td><td>1</td><td> 96</td><td>27</td><td>0.289</td><td>21</td><td>No </td></tr>\n",
       "\t<tr><td> 9</td><td>134</td><td>74</td><td>33</td><td>25.9</td><td>0.460</td><td>81</td><td>No </td><td>8</td><td>126</td><td>38</td><td>0.162</td><td>39</td><td>No </td></tr>\n",
       "\t<tr><td> 5</td><td> 88</td><td>78</td><td>30</td><td>27.6</td><td>0.258</td><td>37</td><td>No </td><td>6</td><td>125</td><td>31</td><td>0.565</td><td>49</td><td>Yes</td></tr>\n",
       "\t<tr><td> 1</td><td>116</td><td>70</td><td>28</td><td>27.4</td><td>0.204</td><td>21</td><td>No </td><td>0</td><td>124</td><td>20</td><td>0.254</td><td>36</td><td>Yes</td></tr>\n",
       "\t<tr><td> 2</td><td>112</td><td>78</td><td>50</td><td>39.4</td><td>0.175</td><td>24</td><td>No </td><td>4</td><td>112</td><td>40</td><td>0.236</td><td>38</td><td>No </td></tr>\n",
       "\t<tr><td> 1</td><td>117</td><td>60</td><td>23</td><td>33.8</td><td>0.466</td><td>27</td><td>No </td><td>2</td><td>125</td><td>20</td><td>0.088</td><td>31</td><td>No </td></tr>\n",
       "\t<tr><td>NA</td><td> NA</td><td>68</td><td>NA</td><td>30.2</td><td>   NA</td><td>NA</td><td>NA </td><td>5</td><td> 86</td><td>28</td><td>0.364</td><td>24</td><td>No </td></tr>\n",
       "\t<tr><td>NA</td><td> NA</td><td>70</td><td>NA</td><td>25.1</td><td>   NA</td><td>NA</td><td>NA </td><td>7</td><td>195</td><td>33</td><td>0.163</td><td>55</td><td>Yes</td></tr>\n",
       "\t<tr><td>NA</td><td> NA</td><td>82</td><td>NA</td><td>35.8</td><td>   NA</td><td>NA</td><td>NA </td><td>5</td><td> 77</td><td>41</td><td>0.156</td><td>35</td><td>No </td></tr>\n",
       "\t<tr><td>NA</td><td> NA</td><td>76</td><td>NA</td><td>47.9</td><td>   NA</td><td>NA</td><td>NA </td><td>0</td><td>165</td><td>43</td><td>0.259</td><td>26</td><td>No </td></tr>\n",
       "\t<tr><td>NA</td><td> NA</td><td>60</td><td>NA</td><td>26.4</td><td>   NA</td><td>NA</td><td>NA </td><td>0</td><td>107</td><td>25</td><td>0.133</td><td>23</td><td>No </td></tr>\n",
       "\t<tr><td>NA</td><td> NA</td><td>76</td><td>NA</td><td>35.6</td><td>   NA</td><td>NA</td><td>NA </td><td>5</td><td> 97</td><td>27</td><td>0.378</td><td>52</td><td>Yes</td></tr>\n",
       "\t<tr><td>NA</td><td> NA</td><td>58</td><td>NA</td><td>34.3</td><td>   NA</td><td>NA</td><td>NA </td><td>3</td><td> 83</td><td>31</td><td>0.336</td><td>25</td><td>No </td></tr>\n",
       "\t<tr><td>NA</td><td> NA</td><td>50</td><td>NA</td><td>25.9</td><td>   NA</td><td>NA</td><td>NA </td><td>1</td><td>193</td><td>16</td><td>0.655</td><td>24</td><td>No </td></tr>\n",
       "\t<tr><td>NA</td><td> NA</td><td>80</td><td>NA</td><td>32.4</td><td>   NA</td><td>NA</td><td>NA </td><td>3</td><td>142</td><td>15</td><td>0.200</td><td>63</td><td>No </td></tr>\n",
       "\t<tr><td>NA</td><td> NA</td><td>78</td><td>NA</td><td>43.3</td><td>   NA</td><td>NA</td><td>NA </td><td>2</td><td>128</td><td>37</td><td>1.224</td><td>31</td><td>Yes</td></tr>\n",
       "\t<tr><td>NA</td><td> NA</td><td>40</td><td>NA</td><td>43.1</td><td>   NA</td><td>NA</td><td>NA </td><td>0</td><td>137</td><td>35</td><td>2.288</td><td>33</td><td>Yes</td></tr>\n",
       "\t<tr><td>NA</td><td> NA</td><td>78</td><td>NA</td><td>30.9</td><td>   NA</td><td>NA</td><td>NA </td><td>9</td><td>154</td><td>30</td><td>0.164</td><td>45</td><td>No </td></tr>\n",
       "\t<tr><td>NA</td><td> NA</td><td>60</td><td>NA</td><td>30.1</td><td>   NA</td><td>NA</td><td>NA </td><td>1</td><td>189</td><td>23</td><td>0.398</td><td>59</td><td>Yes</td></tr>\n",
       "\t<tr><td>...</td><td>...</td><td>...</td><td>...</td><td>...</td><td>...</td><td>...</td><td>...</td><td>...</td><td>...</td><td>...</td><td>...</td><td>...</td><td>...</td></tr>\n",
       "\t<tr><td>NA</td><td>NA</td><td> 90</td><td>NA</td><td>28.4</td><td>NA</td><td>NA</td><td>NA</td><td> 3</td><td>111</td><td>12</td><td>0.495</td><td>29</td><td>No </td></tr>\n",
       "\t<tr><td>NA</td><td>NA</td><td> 68</td><td>NA</td><td>26.5</td><td>NA</td><td>NA</td><td>NA</td><td> 1</td><td>107</td><td>19</td><td>0.165</td><td>24</td><td>No </td></tr>\n",
       "\t<tr><td>NA</td><td>NA</td><td> 60</td><td>NA</td><td>33.7</td><td>NA</td><td>NA</td><td>NA</td><td> 6</td><td>115</td><td>39</td><td>0.245</td><td>40</td><td>Yes</td></tr>\n",
       "\t<tr><td>NA</td><td>NA</td><td> 72</td><td>NA</td><td>36.9</td><td>NA</td><td>NA</td><td>NA</td><td> 5</td><td>105</td><td>29</td><td>0.159</td><td>28</td><td>No </td></tr>\n",
       "\t<tr><td>NA</td><td>NA</td><td> 68</td><td>NA</td><td>35.9</td><td>NA</td><td>NA</td><td>NA</td><td> 7</td><td>194</td><td>28</td><td>0.745</td><td>41</td><td>Yes</td></tr>\n",
       "\t<tr><td>NA</td><td>NA</td><td> 78</td><td>NA</td><td>37.0</td><td>NA</td><td>NA</td><td>NA</td><td> 4</td><td>184</td><td>39</td><td>0.264</td><td>31</td><td>Yes</td></tr>\n",
       "\t<tr><td>NA</td><td>NA</td><td> 85</td><td>NA</td><td>37.4</td><td>NA</td><td>NA</td><td>NA</td><td> 0</td><td> 95</td><td>25</td><td>0.247</td><td>24</td><td>Yes</td></tr>\n",
       "\t<tr><td>NA</td><td>NA</td><td> 70</td><td>NA</td><td>25.5</td><td>NA</td><td>NA</td><td>NA</td><td> 7</td><td>124</td><td>33</td><td>0.161</td><td>37</td><td>No </td></tr>\n",
       "\t<tr><td>NA</td><td>NA</td><td> 62</td><td>NA</td><td>24.0</td><td>NA</td><td>NA</td><td>NA</td><td> 1</td><td>111</td><td>13</td><td>0.138</td><td>23</td><td>No </td></tr>\n",
       "\t<tr><td>NA</td><td>NA</td><td> 90</td><td>NA</td><td>32.0</td><td>NA</td><td>NA</td><td>NA</td><td> 7</td><td>137</td><td>41</td><td>0.391</td><td>39</td><td>No </td></tr>\n",
       "\t<tr><td>NA</td><td>NA</td><td> 80</td><td>NA</td><td>32.8</td><td>NA</td><td>NA</td><td>NA</td><td> 9</td><td> 57</td><td>37</td><td>0.096</td><td>41</td><td>No </td></tr>\n",
       "\t<tr><td>NA</td><td>NA</td><td> 74</td><td>NA</td><td>39.4</td><td>NA</td><td>NA</td><td>NA</td><td> 2</td><td>157</td><td>35</td><td>0.134</td><td>30</td><td>No </td></tr>\n",
       "\t<tr><td>NA</td><td>NA</td><td> 54</td><td>NA</td><td>26.1</td><td>NA</td><td>NA</td><td>NA</td><td> 2</td><td> 95</td><td>14</td><td>0.748</td><td>22</td><td>No </td></tr>\n",
       "\t<tr><td>NA</td><td>NA</td><td> 85</td><td>NA</td><td>37.4</td><td>NA</td><td>NA</td><td>NA</td><td>12</td><td>140</td><td>33</td><td>0.244</td><td>41</td><td>No </td></tr>\n",
       "\t<tr><td>NA</td><td>NA</td><td> 66</td><td>NA</td><td>30.8</td><td>NA</td><td>NA</td><td>NA</td><td> 0</td><td>117</td><td>31</td><td>0.493</td><td>22</td><td>No </td></tr>\n",
       "\t<tr><td>NA</td><td>NA</td><td> 74</td><td>NA</td><td>39.4</td><td>NA</td><td>NA</td><td>NA</td><td> 8</td><td>100</td><td>40</td><td>0.661</td><td>43</td><td>Yes</td></tr>\n",
       "\t<tr><td>NA</td><td>NA</td><td> 60</td><td>NA</td><td>34.6</td><td>NA</td><td>NA</td><td>NA</td><td> 0</td><td>138</td><td>35</td><td>0.534</td><td>21</td><td>Yes</td></tr>\n",
       "\t<tr><td>NA</td><td>NA</td><td> 78</td><td>NA</td><td>36.6</td><td>NA</td><td>NA</td><td>NA</td><td>14</td><td>100</td><td>25</td><td>0.412</td><td>46</td><td>Yes</td></tr>\n",
       "\t<tr><td>NA</td><td>NA</td><td> 62</td><td>NA</td><td>33.6</td><td>NA</td><td>NA</td><td>NA</td><td>14</td><td>175</td><td>30</td><td>0.212</td><td>38</td><td>Yes</td></tr>\n",
       "\t<tr><td>NA</td><td>NA</td><td> 52</td><td>NA</td><td>27.8</td><td>NA</td><td>NA</td><td>NA</td><td> 0</td><td> 74</td><td>10</td><td>0.269</td><td>22</td><td>No </td></tr>\n",
       "\t<tr><td>NA</td><td>NA</td><td>102</td><td>NA</td><td>32.8</td><td>NA</td><td>NA</td><td>NA</td><td> 1</td><td>133</td><td>28</td><td>0.234</td><td>45</td><td>Yes</td></tr>\n",
       "\t<tr><td>NA</td><td>NA</td><td> 64</td><td>NA</td><td>34.9</td><td>NA</td><td>NA</td><td>NA</td><td> 0</td><td>119</td><td>18</td><td>0.725</td><td>23</td><td>No </td></tr>\n",
       "\t<tr><td>NA</td><td>NA</td><td> 84</td><td>NA</td><td>38.7</td><td>NA</td><td>NA</td><td>NA</td><td> 5</td><td>155</td><td>44</td><td>0.619</td><td>34</td><td>No </td></tr>\n",
       "\t<tr><td>NA</td><td>NA</td><td> 48</td><td>NA</td><td>40.5</td><td>NA</td><td>NA</td><td>NA</td><td> 1</td><td>128</td><td>45</td><td>0.613</td><td>24</td><td>Yes</td></tr>\n",
       "\t<tr><td>NA</td><td>NA</td><td> 68</td><td>NA</td><td>34.1</td><td>NA</td><td>NA</td><td>NA</td><td> 2</td><td>112</td><td>22</td><td>0.315</td><td>26</td><td>No </td></tr>\n",
       "\t<tr><td>NA</td><td>NA</td><td> 74</td><td>NA</td><td>24.1</td><td>NA</td><td>NA</td><td>NA</td><td> 1</td><td>140</td><td>26</td><td>0.828</td><td>23</td><td>No </td></tr>\n",
       "\t<tr><td>NA</td><td>NA</td><td> 58</td><td>NA</td><td>25.4</td><td>NA</td><td>NA</td><td>NA</td><td> 2</td><td>141</td><td>34</td><td>0.699</td><td>24</td><td>No </td></tr>\n",
       "\t<tr><td>NA</td><td>NA</td><td> 70</td><td>NA</td><td>39.4</td><td>NA</td><td>NA</td><td>NA</td><td> 0</td><td>106</td><td>37</td><td>0.605</td><td>22</td><td>No </td></tr>\n",
       "\t<tr><td>NA</td><td>NA</td><td> 58</td><td>NA</td><td>33.3</td><td>NA</td><td>NA</td><td>NA</td><td> 1</td><td>118</td><td>36</td><td>0.261</td><td>23</td><td>No </td></tr>\n",
       "\t<tr><td>NA</td><td>NA</td><td> 62</td><td>NA</td><td>34.0</td><td>NA</td><td>NA</td><td>NA</td><td> 8</td><td>155</td><td>26</td><td>0.543</td><td>46</td><td>Yes</td></tr>\n",
       "</tbody>\n",
       "</table>\n"
      ],
      "text/latex": [
       "A data.frame: 202 × 14\n",
       "\\begin{tabular}{llllllllllllll}\n",
       " npreg.x & glu.x & bp & skin.x & bmi & ped.x & age.x & type.x & npreg.y & glu.y & skin.y & ped.y & age.y & type.y\\\\\n",
       " <int> & <int> & <int> & <int> & <dbl> & <dbl> & <int> & <fct> & <int> & <int> & <int> & <dbl> & <int> & <fct>\\\\\n",
       "\\hline\n",
       "\t 10 & 122 & 78 & 31 & 27.6 & 0.512 & 45 & No  & 6 & 125 & 31 & 0.565 & 49 & Yes\\\\\n",
       "\t  5 &  95 & 72 & 33 & 37.7 & 0.370 & 27 & No  & 6 & 103 & 32 & 0.324 & 55 & No \\\\\n",
       "\t  2 & 100 & 68 & 25 & 38.5 & 0.324 & 26 & No  & 7 & 129 & 49 & 0.439 & 43 & Yes\\\\\n",
       "\t  1 & 117 & 88 & 24 & 34.5 & 0.403 & 40 & Yes & 4 & 127 & 11 & 0.598 & 28 & No \\\\\n",
       "\t  2 &  75 & 64 & 24 & 29.7 & 0.370 & 33 & No  & 2 & 100 & 23 & 0.368 & 21 & No \\\\\n",
       "\t  4 &  91 & 70 & 32 & 33.1 & 0.446 & 22 & No  & 9 & 123 & 44 & 0.374 & 40 & No \\\\\n",
       "\t  9 & 124 & 70 & 33 & 35.4 & 0.282 & 34 & No  & 6 & 134 & 23 & 0.542 & 29 & Yes\\\\\n",
       "\t  3 & 115 & 66 & 39 & 38.1 & 0.150 & 28 & No  & 1 & 114 & 36 & 0.289 & 21 & No \\\\\n",
       "\t  1 & 157 & 72 & 21 & 25.6 & 0.123 & 24 & No  & 4 &  99 & 17 & 0.294 & 28 & No \\\\\n",
       "\t  1 &  95 & 74 & 21 & 25.9 & 0.673 & 36 & No  & 8 & 126 & 38 & 0.162 & 39 & No \\\\\n",
       "\t  5 & 189 & 64 & 33 & 31.2 & 0.583 & 29 & Yes & 3 & 158 & 13 & 0.295 & 24 & No \\\\\n",
       "\t  4 & 117 & 64 & 27 & 33.2 & 0.230 & 24 & No  & 1 &  96 & 27 & 0.289 & 21 & No \\\\\n",
       "\t  9 & 134 & 74 & 33 & 25.9 & 0.460 & 81 & No  & 8 & 126 & 38 & 0.162 & 39 & No \\\\\n",
       "\t  5 &  88 & 78 & 30 & 27.6 & 0.258 & 37 & No  & 6 & 125 & 31 & 0.565 & 49 & Yes\\\\\n",
       "\t  1 & 116 & 70 & 28 & 27.4 & 0.204 & 21 & No  & 0 & 124 & 20 & 0.254 & 36 & Yes\\\\\n",
       "\t  2 & 112 & 78 & 50 & 39.4 & 0.175 & 24 & No  & 4 & 112 & 40 & 0.236 & 38 & No \\\\\n",
       "\t  1 & 117 & 60 & 23 & 33.8 & 0.466 & 27 & No  & 2 & 125 & 20 & 0.088 & 31 & No \\\\\n",
       "\t NA &  NA & 68 & NA & 30.2 &    NA & NA & NA  & 5 &  86 & 28 & 0.364 & 24 & No \\\\\n",
       "\t NA &  NA & 70 & NA & 25.1 &    NA & NA & NA  & 7 & 195 & 33 & 0.163 & 55 & Yes\\\\\n",
       "\t NA &  NA & 82 & NA & 35.8 &    NA & NA & NA  & 5 &  77 & 41 & 0.156 & 35 & No \\\\\n",
       "\t NA &  NA & 76 & NA & 47.9 &    NA & NA & NA  & 0 & 165 & 43 & 0.259 & 26 & No \\\\\n",
       "\t NA &  NA & 60 & NA & 26.4 &    NA & NA & NA  & 0 & 107 & 25 & 0.133 & 23 & No \\\\\n",
       "\t NA &  NA & 76 & NA & 35.6 &    NA & NA & NA  & 5 &  97 & 27 & 0.378 & 52 & Yes\\\\\n",
       "\t NA &  NA & 58 & NA & 34.3 &    NA & NA & NA  & 3 &  83 & 31 & 0.336 & 25 & No \\\\\n",
       "\t NA &  NA & 50 & NA & 25.9 &    NA & NA & NA  & 1 & 193 & 16 & 0.655 & 24 & No \\\\\n",
       "\t NA &  NA & 80 & NA & 32.4 &    NA & NA & NA  & 3 & 142 & 15 & 0.200 & 63 & No \\\\\n",
       "\t NA &  NA & 78 & NA & 43.3 &    NA & NA & NA  & 2 & 128 & 37 & 1.224 & 31 & Yes\\\\\n",
       "\t NA &  NA & 40 & NA & 43.1 &    NA & NA & NA  & 0 & 137 & 35 & 2.288 & 33 & Yes\\\\\n",
       "\t NA &  NA & 78 & NA & 30.9 &    NA & NA & NA  & 9 & 154 & 30 & 0.164 & 45 & No \\\\\n",
       "\t NA &  NA & 60 & NA & 30.1 &    NA & NA & NA  & 1 & 189 & 23 & 0.398 & 59 & Yes\\\\\n",
       "\t ... & ... & ... & ... & ... & ... & ... & ... & ... & ... & ... & ... & ... & ...\\\\\n",
       "\t NA & NA &  90 & NA & 28.4 & NA & NA & NA &  3 & 111 & 12 & 0.495 & 29 & No \\\\\n",
       "\t NA & NA &  68 & NA & 26.5 & NA & NA & NA &  1 & 107 & 19 & 0.165 & 24 & No \\\\\n",
       "\t NA & NA &  60 & NA & 33.7 & NA & NA & NA &  6 & 115 & 39 & 0.245 & 40 & Yes\\\\\n",
       "\t NA & NA &  72 & NA & 36.9 & NA & NA & NA &  5 & 105 & 29 & 0.159 & 28 & No \\\\\n",
       "\t NA & NA &  68 & NA & 35.9 & NA & NA & NA &  7 & 194 & 28 & 0.745 & 41 & Yes\\\\\n",
       "\t NA & NA &  78 & NA & 37.0 & NA & NA & NA &  4 & 184 & 39 & 0.264 & 31 & Yes\\\\\n",
       "\t NA & NA &  85 & NA & 37.4 & NA & NA & NA &  0 &  95 & 25 & 0.247 & 24 & Yes\\\\\n",
       "\t NA & NA &  70 & NA & 25.5 & NA & NA & NA &  7 & 124 & 33 & 0.161 & 37 & No \\\\\n",
       "\t NA & NA &  62 & NA & 24.0 & NA & NA & NA &  1 & 111 & 13 & 0.138 & 23 & No \\\\\n",
       "\t NA & NA &  90 & NA & 32.0 & NA & NA & NA &  7 & 137 & 41 & 0.391 & 39 & No \\\\\n",
       "\t NA & NA &  80 & NA & 32.8 & NA & NA & NA &  9 &  57 & 37 & 0.096 & 41 & No \\\\\n",
       "\t NA & NA &  74 & NA & 39.4 & NA & NA & NA &  2 & 157 & 35 & 0.134 & 30 & No \\\\\n",
       "\t NA & NA &  54 & NA & 26.1 & NA & NA & NA &  2 &  95 & 14 & 0.748 & 22 & No \\\\\n",
       "\t NA & NA &  85 & NA & 37.4 & NA & NA & NA & 12 & 140 & 33 & 0.244 & 41 & No \\\\\n",
       "\t NA & NA &  66 & NA & 30.8 & NA & NA & NA &  0 & 117 & 31 & 0.493 & 22 & No \\\\\n",
       "\t NA & NA &  74 & NA & 39.4 & NA & NA & NA &  8 & 100 & 40 & 0.661 & 43 & Yes\\\\\n",
       "\t NA & NA &  60 & NA & 34.6 & NA & NA & NA &  0 & 138 & 35 & 0.534 & 21 & Yes\\\\\n",
       "\t NA & NA &  78 & NA & 36.6 & NA & NA & NA & 14 & 100 & 25 & 0.412 & 46 & Yes\\\\\n",
       "\t NA & NA &  62 & NA & 33.6 & NA & NA & NA & 14 & 175 & 30 & 0.212 & 38 & Yes\\\\\n",
       "\t NA & NA &  52 & NA & 27.8 & NA & NA & NA &  0 &  74 & 10 & 0.269 & 22 & No \\\\\n",
       "\t NA & NA & 102 & NA & 32.8 & NA & NA & NA &  1 & 133 & 28 & 0.234 & 45 & Yes\\\\\n",
       "\t NA & NA &  64 & NA & 34.9 & NA & NA & NA &  0 & 119 & 18 & 0.725 & 23 & No \\\\\n",
       "\t NA & NA &  84 & NA & 38.7 & NA & NA & NA &  5 & 155 & 44 & 0.619 & 34 & No \\\\\n",
       "\t NA & NA &  48 & NA & 40.5 & NA & NA & NA &  1 & 128 & 45 & 0.613 & 24 & Yes\\\\\n",
       "\t NA & NA &  68 & NA & 34.1 & NA & NA & NA &  2 & 112 & 22 & 0.315 & 26 & No \\\\\n",
       "\t NA & NA &  74 & NA & 24.1 & NA & NA & NA &  1 & 140 & 26 & 0.828 & 23 & No \\\\\n",
       "\t NA & NA &  58 & NA & 25.4 & NA & NA & NA &  2 & 141 & 34 & 0.699 & 24 & No \\\\\n",
       "\t NA & NA &  70 & NA & 39.4 & NA & NA & NA &  0 & 106 & 37 & 0.605 & 22 & No \\\\\n",
       "\t NA & NA &  58 & NA & 33.3 & NA & NA & NA &  1 & 118 & 36 & 0.261 & 23 & No \\\\\n",
       "\t NA & NA &  62 & NA & 34.0 & NA & NA & NA &  8 & 155 & 26 & 0.543 & 46 & Yes\\\\\n",
       "\\end{tabular}\n"
      ],
      "text/markdown": [
       "\n",
       "A data.frame: 202 × 14\n",
       "\n",
       "| npreg.x &lt;int&gt; | glu.x &lt;int&gt; | bp &lt;int&gt; | skin.x &lt;int&gt; | bmi &lt;dbl&gt; | ped.x &lt;dbl&gt; | age.x &lt;int&gt; | type.x &lt;fct&gt; | npreg.y &lt;int&gt; | glu.y &lt;int&gt; | skin.y &lt;int&gt; | ped.y &lt;dbl&gt; | age.y &lt;int&gt; | type.y &lt;fct&gt; |\n",
       "|---|---|---|---|---|---|---|---|---|---|---|---|---|---|\n",
       "| 10 | 122 | 78 | 31 | 27.6 | 0.512 | 45 | No  | 6 | 125 | 31 | 0.565 | 49 | Yes |\n",
       "|  5 |  95 | 72 | 33 | 37.7 | 0.370 | 27 | No  | 6 | 103 | 32 | 0.324 | 55 | No  |\n",
       "|  2 | 100 | 68 | 25 | 38.5 | 0.324 | 26 | No  | 7 | 129 | 49 | 0.439 | 43 | Yes |\n",
       "|  1 | 117 | 88 | 24 | 34.5 | 0.403 | 40 | Yes | 4 | 127 | 11 | 0.598 | 28 | No  |\n",
       "|  2 |  75 | 64 | 24 | 29.7 | 0.370 | 33 | No  | 2 | 100 | 23 | 0.368 | 21 | No  |\n",
       "|  4 |  91 | 70 | 32 | 33.1 | 0.446 | 22 | No  | 9 | 123 | 44 | 0.374 | 40 | No  |\n",
       "|  9 | 124 | 70 | 33 | 35.4 | 0.282 | 34 | No  | 6 | 134 | 23 | 0.542 | 29 | Yes |\n",
       "|  3 | 115 | 66 | 39 | 38.1 | 0.150 | 28 | No  | 1 | 114 | 36 | 0.289 | 21 | No  |\n",
       "|  1 | 157 | 72 | 21 | 25.6 | 0.123 | 24 | No  | 4 |  99 | 17 | 0.294 | 28 | No  |\n",
       "|  1 |  95 | 74 | 21 | 25.9 | 0.673 | 36 | No  | 8 | 126 | 38 | 0.162 | 39 | No  |\n",
       "|  5 | 189 | 64 | 33 | 31.2 | 0.583 | 29 | Yes | 3 | 158 | 13 | 0.295 | 24 | No  |\n",
       "|  4 | 117 | 64 | 27 | 33.2 | 0.230 | 24 | No  | 1 |  96 | 27 | 0.289 | 21 | No  |\n",
       "|  9 | 134 | 74 | 33 | 25.9 | 0.460 | 81 | No  | 8 | 126 | 38 | 0.162 | 39 | No  |\n",
       "|  5 |  88 | 78 | 30 | 27.6 | 0.258 | 37 | No  | 6 | 125 | 31 | 0.565 | 49 | Yes |\n",
       "|  1 | 116 | 70 | 28 | 27.4 | 0.204 | 21 | No  | 0 | 124 | 20 | 0.254 | 36 | Yes |\n",
       "|  2 | 112 | 78 | 50 | 39.4 | 0.175 | 24 | No  | 4 | 112 | 40 | 0.236 | 38 | No  |\n",
       "|  1 | 117 | 60 | 23 | 33.8 | 0.466 | 27 | No  | 2 | 125 | 20 | 0.088 | 31 | No  |\n",
       "| NA |  NA | 68 | NA | 30.2 |    NA | NA | NA  | 5 |  86 | 28 | 0.364 | 24 | No  |\n",
       "| NA |  NA | 70 | NA | 25.1 |    NA | NA | NA  | 7 | 195 | 33 | 0.163 | 55 | Yes |\n",
       "| NA |  NA | 82 | NA | 35.8 |    NA | NA | NA  | 5 |  77 | 41 | 0.156 | 35 | No  |\n",
       "| NA |  NA | 76 | NA | 47.9 |    NA | NA | NA  | 0 | 165 | 43 | 0.259 | 26 | No  |\n",
       "| NA |  NA | 60 | NA | 26.4 |    NA | NA | NA  | 0 | 107 | 25 | 0.133 | 23 | No  |\n",
       "| NA |  NA | 76 | NA | 35.6 |    NA | NA | NA  | 5 |  97 | 27 | 0.378 | 52 | Yes |\n",
       "| NA |  NA | 58 | NA | 34.3 |    NA | NA | NA  | 3 |  83 | 31 | 0.336 | 25 | No  |\n",
       "| NA |  NA | 50 | NA | 25.9 |    NA | NA | NA  | 1 | 193 | 16 | 0.655 | 24 | No  |\n",
       "| NA |  NA | 80 | NA | 32.4 |    NA | NA | NA  | 3 | 142 | 15 | 0.200 | 63 | No  |\n",
       "| NA |  NA | 78 | NA | 43.3 |    NA | NA | NA  | 2 | 128 | 37 | 1.224 | 31 | Yes |\n",
       "| NA |  NA | 40 | NA | 43.1 |    NA | NA | NA  | 0 | 137 | 35 | 2.288 | 33 | Yes |\n",
       "| NA |  NA | 78 | NA | 30.9 |    NA | NA | NA  | 9 | 154 | 30 | 0.164 | 45 | No  |\n",
       "| NA |  NA | 60 | NA | 30.1 |    NA | NA | NA  | 1 | 189 | 23 | 0.398 | 59 | Yes |\n",
       "| ... | ... | ... | ... | ... | ... | ... | ... | ... | ... | ... | ... | ... | ... |\n",
       "| NA | NA |  90 | NA | 28.4 | NA | NA | NA |  3 | 111 | 12 | 0.495 | 29 | No  |\n",
       "| NA | NA |  68 | NA | 26.5 | NA | NA | NA |  1 | 107 | 19 | 0.165 | 24 | No  |\n",
       "| NA | NA |  60 | NA | 33.7 | NA | NA | NA |  6 | 115 | 39 | 0.245 | 40 | Yes |\n",
       "| NA | NA |  72 | NA | 36.9 | NA | NA | NA |  5 | 105 | 29 | 0.159 | 28 | No  |\n",
       "| NA | NA |  68 | NA | 35.9 | NA | NA | NA |  7 | 194 | 28 | 0.745 | 41 | Yes |\n",
       "| NA | NA |  78 | NA | 37.0 | NA | NA | NA |  4 | 184 | 39 | 0.264 | 31 | Yes |\n",
       "| NA | NA |  85 | NA | 37.4 | NA | NA | NA |  0 |  95 | 25 | 0.247 | 24 | Yes |\n",
       "| NA | NA |  70 | NA | 25.5 | NA | NA | NA |  7 | 124 | 33 | 0.161 | 37 | No  |\n",
       "| NA | NA |  62 | NA | 24.0 | NA | NA | NA |  1 | 111 | 13 | 0.138 | 23 | No  |\n",
       "| NA | NA |  90 | NA | 32.0 | NA | NA | NA |  7 | 137 | 41 | 0.391 | 39 | No  |\n",
       "| NA | NA |  80 | NA | 32.8 | NA | NA | NA |  9 |  57 | 37 | 0.096 | 41 | No  |\n",
       "| NA | NA |  74 | NA | 39.4 | NA | NA | NA |  2 | 157 | 35 | 0.134 | 30 | No  |\n",
       "| NA | NA |  54 | NA | 26.1 | NA | NA | NA |  2 |  95 | 14 | 0.748 | 22 | No  |\n",
       "| NA | NA |  85 | NA | 37.4 | NA | NA | NA | 12 | 140 | 33 | 0.244 | 41 | No  |\n",
       "| NA | NA |  66 | NA | 30.8 | NA | NA | NA |  0 | 117 | 31 | 0.493 | 22 | No  |\n",
       "| NA | NA |  74 | NA | 39.4 | NA | NA | NA |  8 | 100 | 40 | 0.661 | 43 | Yes |\n",
       "| NA | NA |  60 | NA | 34.6 | NA | NA | NA |  0 | 138 | 35 | 0.534 | 21 | Yes |\n",
       "| NA | NA |  78 | NA | 36.6 | NA | NA | NA | 14 | 100 | 25 | 0.412 | 46 | Yes |\n",
       "| NA | NA |  62 | NA | 33.6 | NA | NA | NA | 14 | 175 | 30 | 0.212 | 38 | Yes |\n",
       "| NA | NA |  52 | NA | 27.8 | NA | NA | NA |  0 |  74 | 10 | 0.269 | 22 | No  |\n",
       "| NA | NA | 102 | NA | 32.8 | NA | NA | NA |  1 | 133 | 28 | 0.234 | 45 | Yes |\n",
       "| NA | NA |  64 | NA | 34.9 | NA | NA | NA |  0 | 119 | 18 | 0.725 | 23 | No  |\n",
       "| NA | NA |  84 | NA | 38.7 | NA | NA | NA |  5 | 155 | 44 | 0.619 | 34 | No  |\n",
       "| NA | NA |  48 | NA | 40.5 | NA | NA | NA |  1 | 128 | 45 | 0.613 | 24 | Yes |\n",
       "| NA | NA |  68 | NA | 34.1 | NA | NA | NA |  2 | 112 | 22 | 0.315 | 26 | No  |\n",
       "| NA | NA |  74 | NA | 24.1 | NA | NA | NA |  1 | 140 | 26 | 0.828 | 23 | No  |\n",
       "| NA | NA |  58 | NA | 25.4 | NA | NA | NA |  2 | 141 | 34 | 0.699 | 24 | No  |\n",
       "| NA | NA |  70 | NA | 39.4 | NA | NA | NA |  0 | 106 | 37 | 0.605 | 22 | No  |\n",
       "| NA | NA |  58 | NA | 33.3 | NA | NA | NA |  1 | 118 | 36 | 0.261 | 23 | No  |\n",
       "| NA | NA |  62 | NA | 34.0 | NA | NA | NA |  8 | 155 | 26 | 0.543 | 46 | Yes |\n",
       "\n"
      ],
      "text/plain": [
       "    npreg.x glu.x bp  skin.x bmi  ped.x age.x type.x npreg.y glu.y skin.y ped.y\n",
       "1   10      122   78  31     27.6 0.512 45    No     6       125   31     0.565\n",
       "2    5       95   72  33     37.7 0.370 27    No     6       103   32     0.324\n",
       "3    2      100   68  25     38.5 0.324 26    No     7       129   49     0.439\n",
       "4    1      117   88  24     34.5 0.403 40    Yes    4       127   11     0.598\n",
       "5    2       75   64  24     29.7 0.370 33    No     2       100   23     0.368\n",
       "6    4       91   70  32     33.1 0.446 22    No     9       123   44     0.374\n",
       "7    9      124   70  33     35.4 0.282 34    No     6       134   23     0.542\n",
       "8    3      115   66  39     38.1 0.150 28    No     1       114   36     0.289\n",
       "9    1      157   72  21     25.6 0.123 24    No     4        99   17     0.294\n",
       "10   1       95   74  21     25.9 0.673 36    No     8       126   38     0.162\n",
       "11   5      189   64  33     31.2 0.583 29    Yes    3       158   13     0.295\n",
       "12   4      117   64  27     33.2 0.230 24    No     1        96   27     0.289\n",
       "13   9      134   74  33     25.9 0.460 81    No     8       126   38     0.162\n",
       "14   5       88   78  30     27.6 0.258 37    No     6       125   31     0.565\n",
       "15   1      116   70  28     27.4 0.204 21    No     0       124   20     0.254\n",
       "16   2      112   78  50     39.4 0.175 24    No     4       112   40     0.236\n",
       "17   1      117   60  23     33.8 0.466 27    No     2       125   20     0.088\n",
       "18  NA       NA   68  NA     30.2    NA NA    NA     5        86   28     0.364\n",
       "19  NA       NA   70  NA     25.1    NA NA    NA     7       195   33     0.163\n",
       "20  NA       NA   82  NA     35.8    NA NA    NA     5        77   41     0.156\n",
       "21  NA       NA   76  NA     47.9    NA NA    NA     0       165   43     0.259\n",
       "22  NA       NA   60  NA     26.4    NA NA    NA     0       107   25     0.133\n",
       "23  NA       NA   76  NA     35.6    NA NA    NA     5        97   27     0.378\n",
       "24  NA       NA   58  NA     34.3    NA NA    NA     3        83   31     0.336\n",
       "25  NA       NA   50  NA     25.9    NA NA    NA     1       193   16     0.655\n",
       "26  NA       NA   80  NA     32.4    NA NA    NA     3       142   15     0.200\n",
       "27  NA       NA   78  NA     43.3    NA NA    NA     2       128   37     1.224\n",
       "28  NA       NA   40  NA     43.1    NA NA    NA     0       137   35     2.288\n",
       "29  NA       NA   78  NA     30.9    NA NA    NA     9       154   30     0.164\n",
       "30  NA       NA   60  NA     30.1    NA NA    NA     1       189   23     0.398\n",
       "... ...     ...   ... ...    ...  ...   ...   ...    ...     ...   ...    ...  \n",
       "173 NA      NA     90 NA     28.4 NA    NA    NA      3      111   12     0.495\n",
       "174 NA      NA     68 NA     26.5 NA    NA    NA      1      107   19     0.165\n",
       "175 NA      NA     60 NA     33.7 NA    NA    NA      6      115   39     0.245\n",
       "176 NA      NA     72 NA     36.9 NA    NA    NA      5      105   29     0.159\n",
       "177 NA      NA     68 NA     35.9 NA    NA    NA      7      194   28     0.745\n",
       "178 NA      NA     78 NA     37.0 NA    NA    NA      4      184   39     0.264\n",
       "179 NA      NA     85 NA     37.4 NA    NA    NA      0       95   25     0.247\n",
       "180 NA      NA     70 NA     25.5 NA    NA    NA      7      124   33     0.161\n",
       "181 NA      NA     62 NA     24.0 NA    NA    NA      1      111   13     0.138\n",
       "182 NA      NA     90 NA     32.0 NA    NA    NA      7      137   41     0.391\n",
       "183 NA      NA     80 NA     32.8 NA    NA    NA      9       57   37     0.096\n",
       "184 NA      NA     74 NA     39.4 NA    NA    NA      2      157   35     0.134\n",
       "185 NA      NA     54 NA     26.1 NA    NA    NA      2       95   14     0.748\n",
       "186 NA      NA     85 NA     37.4 NA    NA    NA     12      140   33     0.244\n",
       "187 NA      NA     66 NA     30.8 NA    NA    NA      0      117   31     0.493\n",
       "188 NA      NA     74 NA     39.4 NA    NA    NA      8      100   40     0.661\n",
       "189 NA      NA     60 NA     34.6 NA    NA    NA      0      138   35     0.534\n",
       "190 NA      NA     78 NA     36.6 NA    NA    NA     14      100   25     0.412\n",
       "191 NA      NA     62 NA     33.6 NA    NA    NA     14      175   30     0.212\n",
       "192 NA      NA     52 NA     27.8 NA    NA    NA      0       74   10     0.269\n",
       "193 NA      NA    102 NA     32.8 NA    NA    NA      1      133   28     0.234\n",
       "194 NA      NA     64 NA     34.9 NA    NA    NA      0      119   18     0.725\n",
       "195 NA      NA     84 NA     38.7 NA    NA    NA      5      155   44     0.619\n",
       "196 NA      NA     48 NA     40.5 NA    NA    NA      1      128   45     0.613\n",
       "197 NA      NA     68 NA     34.1 NA    NA    NA      2      112   22     0.315\n",
       "198 NA      NA     74 NA     24.1 NA    NA    NA      1      140   26     0.828\n",
       "199 NA      NA     58 NA     25.4 NA    NA    NA      2      141   34     0.699\n",
       "200 NA      NA     70 NA     39.4 NA    NA    NA      0      106   37     0.605\n",
       "201 NA      NA     58 NA     33.3 NA    NA    NA      1      118   36     0.261\n",
       "202 NA      NA     62 NA     34.0 NA    NA    NA      8      155   26     0.543\n",
       "    age.y type.y\n",
       "1   49    Yes   \n",
       "2   55    No    \n",
       "3   43    Yes   \n",
       "4   28    No    \n",
       "5   21    No    \n",
       "6   40    No    \n",
       "7   29    Yes   \n",
       "8   21    No    \n",
       "9   28    No    \n",
       "10  39    No    \n",
       "11  24    No    \n",
       "12  21    No    \n",
       "13  39    No    \n",
       "14  49    Yes   \n",
       "15  36    Yes   \n",
       "16  38    No    \n",
       "17  31    No    \n",
       "18  24    No    \n",
       "19  55    Yes   \n",
       "20  35    No    \n",
       "21  26    No    \n",
       "22  23    No    \n",
       "23  52    Yes   \n",
       "24  25    No    \n",
       "25  24    No    \n",
       "26  63    No    \n",
       "27  31    Yes   \n",
       "28  33    Yes   \n",
       "29  45    No    \n",
       "30  59    Yes   \n",
       "... ...   ...   \n",
       "173 29    No    \n",
       "174 24    No    \n",
       "175 40    Yes   \n",
       "176 28    No    \n",
       "177 41    Yes   \n",
       "178 31    Yes   \n",
       "179 24    Yes   \n",
       "180 37    No    \n",
       "181 23    No    \n",
       "182 39    No    \n",
       "183 41    No    \n",
       "184 30    No    \n",
       "185 22    No    \n",
       "186 41    No    \n",
       "187 22    No    \n",
       "188 43    Yes   \n",
       "189 21    Yes   \n",
       "190 46    Yes   \n",
       "191 38    Yes   \n",
       "192 22    No    \n",
       "193 45    Yes   \n",
       "194 23    No    \n",
       "195 34    No    \n",
       "196 24    Yes   \n",
       "197 26    No    \n",
       "198 23    No    \n",
       "199 24    No    \n",
       "200 22    No    \n",
       "201 23    No    \n",
       "202 46    Yes   "
      ]
     },
     "metadata": {},
     "output_type": "display_data"
    }
   ],
   "source": [
    "dplyr::right_join(Pima.te,Pima.tr, by = (c(\"bp\",\"bmi\")))"
   ]
  },
  {
   "cell_type": "code",
   "execution_count": null,
   "id": "cf4fa463-fe03-4d7e-9548-e7e1dfcdc90d",
   "metadata": {},
   "outputs": [],
   "source": []
  },
  {
   "cell_type": "code",
   "execution_count": 10,
   "id": "c8cc0f92-8861-4a0a-bc6d-b4733e8d49aa",
   "metadata": {},
   "outputs": [
    {
     "data": {
      "text/html": [
       "17"
      ],
      "text/latex": [
       "17"
      ],
      "text/markdown": [
       "17"
      ],
      "text/plain": [
       "[1] 17"
      ]
     },
     "metadata": {},
     "output_type": "display_data"
    }
   ],
   "source": [
    "nrow(merged.Pima)"
   ]
  },
  {
   "cell_type": "code",
   "execution_count": null,
   "id": "b9d27789-8891-44dd-8512-2ee15ec432cf",
   "metadata": {},
   "outputs": [],
   "source": [
    "3. Melting and Casting"
   ]
  },
  {
   "cell_type": "markdown",
   "id": "372e78f4-c717-4e12-a0b9-99f6b0191e7d",
   "metadata": {},
   "source": [
    "- One of the most interesting aspects of R programming is about changing the shape of the data in multiple steps to get a desired shape. \n",
    "- The functions used to do this are called melt() and cast().\n",
    "- We consider the dataset called ships present in the library called \"MASS\"."
   ]
  },
  {
   "cell_type": "code",
   "execution_count": 11,
   "id": "9ca926cb-942b-4867-92cb-742b39376c22",
   "metadata": {},
   "outputs": [
    {
     "name": "stdout",
     "output_type": "stream",
     "text": [
      "   type year period service incidents\n",
      "1     A   60     60     127         0\n",
      "2     A   60     75      63         0\n",
      "3     A   65     60    1095         3\n",
      "4     A   65     75    1095         4\n",
      "5     A   70     60    1512         6\n",
      "6     A   70     75    3353        18\n",
      "7     A   75     60       0         0\n",
      "8     A   75     75    2244        11\n",
      "9     B   60     60   44882        39\n",
      "10    B   60     75   17176        29\n",
      "11    B   65     60   28609        58\n",
      "12    B   65     75   20370        53\n",
      "13    B   70     60    7064        12\n",
      "14    B   70     75   13099        44\n",
      "15    B   75     60       0         0\n",
      "16    B   75     75    7117        18\n",
      "17    C   60     60    1179         1\n",
      "18    C   60     75     552         1\n",
      "19    C   65     60     781         0\n",
      "20    C   65     75     676         1\n",
      "21    C   70     60     783         6\n",
      "22    C   70     75    1948         2\n",
      "23    C   75     60       0         0\n",
      "24    C   75     75     274         1\n",
      "25    D   60     60     251         0\n",
      "26    D   60     75     105         0\n",
      "27    D   65     60     288         0\n",
      "28    D   65     75     192         0\n",
      "29    D   70     60     349         2\n",
      "30    D   70     75    1208        11\n",
      "31    D   75     60       0         0\n",
      "32    D   75     75    2051         4\n",
      "33    E   60     60      45         0\n",
      "34    E   60     75       0         0\n",
      "35    E   65     60     789         7\n",
      "36    E   65     75     437         7\n",
      "37    E   70     60    1157         5\n",
      "38    E   70     75    2161        12\n",
      "39    E   75     60       0         0\n",
      "40    E   75     75     542         1\n"
     ]
    }
   ],
   "source": [
    "library(MASS)\n",
    "print(ships)"
   ]
  },
  {
   "cell_type": "code",
   "execution_count": null,
   "id": "207d81d3-eee1-459e-a128-c2d72a40144e",
   "metadata": {},
   "outputs": [],
   "source": [
    "a) Melt the Data\n",
    "Now we melt the data to organize it, converting all columns other than type and year into multiple rows."
   ]
  },
  {
   "cell_type": "code",
   "execution_count": 13,
   "id": "4c2da0c0-9e77-46e3-97bd-3e0be1fcf921",
   "metadata": {},
   "outputs": [
    {
     "name": "stderr",
     "output_type": "stream",
     "text": [
      "Installing package into 'C:/Users/karthik/Documents/R/win-library/4.1'\n",
      "(as 'lib' is unspecified)\n",
      "\n",
      "also installing the dependency 'plyr'\n",
      "\n",
      "\n"
     ]
    },
    {
     "name": "stdout",
     "output_type": "stream",
     "text": [
      "package 'plyr' successfully unpacked and MD5 sums checked\n",
      "package 'reshape2' successfully unpacked and MD5 sums checked\n",
      "\n",
      "The downloaded binary packages are in\n",
      "\tC:\\Users\\karthik\\AppData\\Local\\Temp\\Rtmp2Dg7kh\\downloaded_packages\n"
     ]
    },
    {
     "name": "stderr",
     "output_type": "stream",
     "text": [
      "Installing package into 'C:/Users/karthik/Documents/R/win-library/4.1'\n",
      "(as 'lib' is unspecified)\n",
      "\n"
     ]
    },
    {
     "name": "stdout",
     "output_type": "stream",
     "text": [
      "package 'reshape' successfully unpacked and MD5 sums checked\n",
      "\n",
      "The downloaded binary packages are in\n",
      "\tC:\\Users\\karthik\\AppData\\Local\\Temp\\Rtmp2Dg7kh\\downloaded_packages\n"
     ]
    },
    {
     "name": "stderr",
     "output_type": "stream",
     "text": [
      "\n",
      "Attaching package: 'reshape'\n",
      "\n",
      "\n",
      "The following objects are masked from 'package:reshape2':\n",
      "\n",
      "    colsplit, melt, recast\n",
      "\n",
      "\n"
     ]
    }
   ],
   "source": [
    "install.packages(\"reshape2\")\n",
    "install.packages(\"reshape\")\n",
    "#Loading the libraries\n",
    "library(MASS)\n",
    "library(reshape2)\n",
    "library(reshape)"
   ]
  },
  {
   "cell_type": "code",
   "execution_count": 14,
   "id": "7c881e7f-8a37-4fbd-aff8-d8c0c59c5711",
   "metadata": {},
   "outputs": [
    {
     "name": "stdout",
     "output_type": "stream",
     "text": [
      "    type year  variable value\n",
      "1      A   60    period    60\n",
      "2      A   60    period    75\n",
      "3      A   65    period    60\n",
      "4      A   65    period    75\n",
      "5      A   70    period    60\n",
      "6      A   70    period    75\n",
      "7      A   75    period    60\n",
      "8      A   75    period    75\n",
      "9      B   60    period    60\n",
      "10     B   60    period    75\n",
      "11     B   65    period    60\n",
      "12     B   65    period    75\n",
      "13     B   70    period    60\n",
      "14     B   70    period    75\n",
      "15     B   75    period    60\n",
      "16     B   75    period    75\n",
      "17     C   60    period    60\n",
      "18     C   60    period    75\n",
      "19     C   65    period    60\n",
      "20     C   65    period    75\n",
      "21     C   70    period    60\n",
      "22     C   70    period    75\n",
      "23     C   75    period    60\n",
      "24     C   75    period    75\n",
      "25     D   60    period    60\n",
      "26     D   60    period    75\n",
      "27     D   65    period    60\n",
      "28     D   65    period    75\n",
      "29     D   70    period    60\n",
      "30     D   70    period    75\n",
      "31     D   75    period    60\n",
      "32     D   75    period    75\n",
      "33     E   60    period    60\n",
      "34     E   60    period    75\n",
      "35     E   65    period    60\n",
      "36     E   65    period    75\n",
      "37     E   70    period    60\n",
      "38     E   70    period    75\n",
      "39     E   75    period    60\n",
      "40     E   75    period    75\n",
      "41     A   60   service   127\n",
      "42     A   60   service    63\n",
      "43     A   65   service  1095\n",
      "44     A   65   service  1095\n",
      "45     A   70   service  1512\n",
      "46     A   70   service  3353\n",
      "47     A   75   service     0\n",
      "48     A   75   service  2244\n",
      "49     B   60   service 44882\n",
      "50     B   60   service 17176\n",
      "51     B   65   service 28609\n",
      "52     B   65   service 20370\n",
      "53     B   70   service  7064\n",
      "54     B   70   service 13099\n",
      "55     B   75   service     0\n",
      "56     B   75   service  7117\n",
      "57     C   60   service  1179\n",
      "58     C   60   service   552\n",
      "59     C   65   service   781\n",
      "60     C   65   service   676\n",
      "61     C   70   service   783\n",
      "62     C   70   service  1948\n",
      "63     C   75   service     0\n",
      "64     C   75   service   274\n",
      "65     D   60   service   251\n",
      "66     D   60   service   105\n",
      "67     D   65   service   288\n",
      "68     D   65   service   192\n",
      "69     D   70   service   349\n",
      "70     D   70   service  1208\n",
      "71     D   75   service     0\n",
      "72     D   75   service  2051\n",
      "73     E   60   service    45\n",
      "74     E   60   service     0\n",
      "75     E   65   service   789\n",
      "76     E   65   service   437\n",
      "77     E   70   service  1157\n",
      "78     E   70   service  2161\n",
      "79     E   75   service     0\n",
      "80     E   75   service   542\n",
      "81     A   60 incidents     0\n",
      "82     A   60 incidents     0\n",
      "83     A   65 incidents     3\n",
      "84     A   65 incidents     4\n",
      "85     A   70 incidents     6\n",
      "86     A   70 incidents    18\n",
      "87     A   75 incidents     0\n",
      "88     A   75 incidents    11\n",
      "89     B   60 incidents    39\n",
      "90     B   60 incidents    29\n",
      "91     B   65 incidents    58\n",
      "92     B   65 incidents    53\n",
      "93     B   70 incidents    12\n",
      "94     B   70 incidents    44\n",
      "95     B   75 incidents     0\n",
      "96     B   75 incidents    18\n",
      "97     C   60 incidents     1\n",
      "98     C   60 incidents     1\n",
      "99     C   65 incidents     0\n",
      "100    C   65 incidents     1\n",
      "101    C   70 incidents     6\n",
      "102    C   70 incidents     2\n",
      "103    C   75 incidents     0\n",
      "104    C   75 incidents     1\n",
      "105    D   60 incidents     0\n",
      "106    D   60 incidents     0\n",
      "107    D   65 incidents     0\n",
      "108    D   65 incidents     0\n",
      "109    D   70 incidents     2\n",
      "110    D   70 incidents    11\n",
      "111    D   75 incidents     0\n",
      "112    D   75 incidents     4\n",
      "113    E   60 incidents     0\n",
      "114    E   60 incidents     0\n",
      "115    E   65 incidents     7\n",
      "116    E   65 incidents     7\n",
      "117    E   70 incidents     5\n",
      "118    E   70 incidents    12\n",
      "119    E   75 incidents     0\n",
      "120    E   75 incidents     1\n"
     ]
    }
   ],
   "source": [
    "molten.ships <- melt(ships, id = c(\"type\",\"year\"))\n",
    "print(molten.ships)"
   ]
  },
  {
   "cell_type": "code",
   "execution_count": 18,
   "id": "9dafad3b-df74-40c8-85d5-b725875f3879",
   "metadata": {},
   "outputs": [
    {
     "name": "stdout",
     "output_type": "stream",
     "text": [
      "'data.frame':\t120 obs. of  4 variables:\n",
      " $ type    : Factor w/ 5 levels \"A\",\"B\",\"C\",\"D\",..: 1 1 1 1 1 1 1 1 2 2 ...\n",
      " $ year    : int  60 60 65 65 70 70 75 75 60 60 ...\n",
      " $ variable: Factor w/ 3 levels \"period\",\"service\",..: 1 1 1 1 1 1 1 1 1 1 ...\n",
      " $ value   : int  60 75 60 75 60 75 60 75 60 75 ...\n"
     ]
    }
   ],
   "source": [
    "str(molten.ships)"
   ]
  },
  {
   "cell_type": "code",
   "execution_count": null,
   "id": "7cd52c48-c56f-4820-a86e-e52ceb86d0fa",
   "metadata": {},
   "outputs": [],
   "source": [
    "b) Cast the Molten Data\n",
    "We can cast the molten data into a new form where the aggregate of each type of ship for each year is created.\n",
    "It is done using the cast() function."
   ]
  },
  {
   "cell_type": "code",
   "execution_count": 15,
   "id": "9e9a10fa-8de1-49a5-ae44-f9c29c37cfa9",
   "metadata": {},
   "outputs": [],
   "source": [
    "recasted.ship <- cast(molten.ships, type+year~variable,sum)"
   ]
  },
  {
   "cell_type": "code",
   "execution_count": 16,
   "id": "322568ae-6050-4570-93f0-0940bd918bc9",
   "metadata": {},
   "outputs": [
    {
     "data": {
      "text/html": [
       "<table class=\"dataframe\">\n",
       "<caption>A cast_df: 20 × 5</caption>\n",
       "<thead>\n",
       "\t<tr><th></th><th scope=col>type</th><th scope=col>year</th><th scope=col>period</th><th scope=col>service</th><th scope=col>incidents</th></tr>\n",
       "\t<tr><th></th><th scope=col>&lt;fct&gt;</th><th scope=col>&lt;int&gt;</th><th scope=col>&lt;int&gt;</th><th scope=col>&lt;int&gt;</th><th scope=col>&lt;int&gt;</th></tr>\n",
       "</thead>\n",
       "<tbody>\n",
       "\t<tr><th scope=row>1</th><td>A</td><td>60</td><td>135</td><td>  190</td><td>  0</td></tr>\n",
       "\t<tr><th scope=row>2</th><td>A</td><td>65</td><td>135</td><td> 2190</td><td>  7</td></tr>\n",
       "\t<tr><th scope=row>3</th><td>A</td><td>70</td><td>135</td><td> 4865</td><td> 24</td></tr>\n",
       "\t<tr><th scope=row>4</th><td>A</td><td>75</td><td>135</td><td> 2244</td><td> 11</td></tr>\n",
       "\t<tr><th scope=row>5</th><td>B</td><td>60</td><td>135</td><td>62058</td><td> 68</td></tr>\n",
       "\t<tr><th scope=row>6</th><td>B</td><td>65</td><td>135</td><td>48979</td><td>111</td></tr>\n",
       "\t<tr><th scope=row>7</th><td>B</td><td>70</td><td>135</td><td>20163</td><td> 56</td></tr>\n",
       "\t<tr><th scope=row>8</th><td>B</td><td>75</td><td>135</td><td> 7117</td><td> 18</td></tr>\n",
       "\t<tr><th scope=row>9</th><td>C</td><td>60</td><td>135</td><td> 1731</td><td>  2</td></tr>\n",
       "\t<tr><th scope=row>10</th><td>C</td><td>65</td><td>135</td><td> 1457</td><td>  1</td></tr>\n",
       "\t<tr><th scope=row>11</th><td>C</td><td>70</td><td>135</td><td> 2731</td><td>  8</td></tr>\n",
       "\t<tr><th scope=row>12</th><td>C</td><td>75</td><td>135</td><td>  274</td><td>  1</td></tr>\n",
       "\t<tr><th scope=row>13</th><td>D</td><td>60</td><td>135</td><td>  356</td><td>  0</td></tr>\n",
       "\t<tr><th scope=row>14</th><td>D</td><td>65</td><td>135</td><td>  480</td><td>  0</td></tr>\n",
       "\t<tr><th scope=row>15</th><td>D</td><td>70</td><td>135</td><td> 1557</td><td> 13</td></tr>\n",
       "\t<tr><th scope=row>16</th><td>D</td><td>75</td><td>135</td><td> 2051</td><td>  4</td></tr>\n",
       "\t<tr><th scope=row>17</th><td>E</td><td>60</td><td>135</td><td>   45</td><td>  0</td></tr>\n",
       "\t<tr><th scope=row>18</th><td>E</td><td>65</td><td>135</td><td> 1226</td><td> 14</td></tr>\n",
       "\t<tr><th scope=row>19</th><td>E</td><td>70</td><td>135</td><td> 3318</td><td> 17</td></tr>\n",
       "\t<tr><th scope=row>20</th><td>E</td><td>75</td><td>135</td><td>  542</td><td>  1</td></tr>\n",
       "</tbody>\n",
       "</table>\n"
      ],
      "text/latex": [
       "A cast\\_df: 20 × 5\n",
       "\\begin{tabular}{r|lllll}\n",
       "  & type & year & period & service & incidents\\\\\n",
       "  & <fct> & <int> & <int> & <int> & <int>\\\\\n",
       "\\hline\n",
       "\t1 & A & 60 & 135 &   190 &   0\\\\\n",
       "\t2 & A & 65 & 135 &  2190 &   7\\\\\n",
       "\t3 & A & 70 & 135 &  4865 &  24\\\\\n",
       "\t4 & A & 75 & 135 &  2244 &  11\\\\\n",
       "\t5 & B & 60 & 135 & 62058 &  68\\\\\n",
       "\t6 & B & 65 & 135 & 48979 & 111\\\\\n",
       "\t7 & B & 70 & 135 & 20163 &  56\\\\\n",
       "\t8 & B & 75 & 135 &  7117 &  18\\\\\n",
       "\t9 & C & 60 & 135 &  1731 &   2\\\\\n",
       "\t10 & C & 65 & 135 &  1457 &   1\\\\\n",
       "\t11 & C & 70 & 135 &  2731 &   8\\\\\n",
       "\t12 & C & 75 & 135 &   274 &   1\\\\\n",
       "\t13 & D & 60 & 135 &   356 &   0\\\\\n",
       "\t14 & D & 65 & 135 &   480 &   0\\\\\n",
       "\t15 & D & 70 & 135 &  1557 &  13\\\\\n",
       "\t16 & D & 75 & 135 &  2051 &   4\\\\\n",
       "\t17 & E & 60 & 135 &    45 &   0\\\\\n",
       "\t18 & E & 65 & 135 &  1226 &  14\\\\\n",
       "\t19 & E & 70 & 135 &  3318 &  17\\\\\n",
       "\t20 & E & 75 & 135 &   542 &   1\\\\\n",
       "\\end{tabular}\n"
      ],
      "text/markdown": [
       "\n",
       "A cast_df: 20 × 5\n",
       "\n",
       "| <!--/--> | type &lt;fct&gt; | year &lt;int&gt; | period &lt;int&gt; | service &lt;int&gt; | incidents &lt;int&gt; |\n",
       "|---|---|---|---|---|---|\n",
       "| 1 | A | 60 | 135 |   190 |   0 |\n",
       "| 2 | A | 65 | 135 |  2190 |   7 |\n",
       "| 3 | A | 70 | 135 |  4865 |  24 |\n",
       "| 4 | A | 75 | 135 |  2244 |  11 |\n",
       "| 5 | B | 60 | 135 | 62058 |  68 |\n",
       "| 6 | B | 65 | 135 | 48979 | 111 |\n",
       "| 7 | B | 70 | 135 | 20163 |  56 |\n",
       "| 8 | B | 75 | 135 |  7117 |  18 |\n",
       "| 9 | C | 60 | 135 |  1731 |   2 |\n",
       "| 10 | C | 65 | 135 |  1457 |   1 |\n",
       "| 11 | C | 70 | 135 |  2731 |   8 |\n",
       "| 12 | C | 75 | 135 |   274 |   1 |\n",
       "| 13 | D | 60 | 135 |   356 |   0 |\n",
       "| 14 | D | 65 | 135 |   480 |   0 |\n",
       "| 15 | D | 70 | 135 |  1557 |  13 |\n",
       "| 16 | D | 75 | 135 |  2051 |   4 |\n",
       "| 17 | E | 60 | 135 |    45 |   0 |\n",
       "| 18 | E | 65 | 135 |  1226 |  14 |\n",
       "| 19 | E | 70 | 135 |  3318 |  17 |\n",
       "| 20 | E | 75 | 135 |   542 |   1 |\n",
       "\n"
      ],
      "text/plain": [
       "   type year period service incidents\n",
       "1  A    60   135      190     0      \n",
       "2  A    65   135     2190     7      \n",
       "3  A    70   135     4865    24      \n",
       "4  A    75   135     2244    11      \n",
       "5  B    60   135    62058    68      \n",
       "6  B    65   135    48979   111      \n",
       "7  B    70   135    20163    56      \n",
       "8  B    75   135     7117    18      \n",
       "9  C    60   135     1731     2      \n",
       "10 C    65   135     1457     1      \n",
       "11 C    70   135     2731     8      \n",
       "12 C    75   135      274     1      \n",
       "13 D    60   135      356     0      \n",
       "14 D    65   135      480     0      \n",
       "15 D    70   135     1557    13      \n",
       "16 D    75   135     2051     4      \n",
       "17 E    60   135       45     0      \n",
       "18 E    65   135     1226    14      \n",
       "19 E    70   135     3318    17      \n",
       "20 E    75   135      542     1      "
      ]
     },
     "metadata": {},
     "output_type": "display_data"
    }
   ],
   "source": [
    "recasted.ship"
   ]
  },
  {
   "cell_type": "markdown",
   "id": "e15c8c3d-77ff-44c9-ac77-71f3ab29fcfc",
   "metadata": {},
   "source": [
    "Lab Excerise:\n",
    "1.read data from the given link:\n",
    "https://raw.githubusercontent.com/svkarthik86/Advanced-python/main/Python%20for%20DataVisualization/data/movie_score.csv\n",
    "2.use read.csv()   / readr::read_csv()  and store it as movie.score  \n",
    "3.Reshape the  monvie.score from wider to longer format  and store it as lms\n",
    "4.Reshape the lms from Longer to Wider and store it as wms "
   ]
  },
  {
   "cell_type": "code",
   "execution_count": 134,
   "id": "c6fb85d2-e383-4a8d-b9f1-1fc51068a47f",
   "metadata": {},
   "outputs": [
    {
     "name": "stderr",
     "output_type": "stream",
     "text": [
      "New names:\n",
      "* `` -> ...1\n",
      "\n"
     ]
    }
   ],
   "source": [
    "movie.score<-readr::read_csv(\"https://raw.githubusercontent.com/svkarthik86/Advanced-python/main/Python%20for%20DataVisualization/data/movie_score.csv\",show_col_types = FALSE)"
   ]
  },
  {
   "cell_type": "code",
   "execution_count": 133,
   "id": "25151deb-5985-4cf6-81ca-3f0812487218",
   "metadata": {},
   "outputs": [
    {
     "data": {
      "text/html": [
       "<table class=\"dataframe\">\n",
       "<caption>A spec_tbl_df: 5 × 4</caption>\n",
       "<thead>\n",
       "\t<tr><th scope=col>...1</th><th scope=col>MovieTitle</th><th scope=col>Tomatometer</th><th scope=col>AudienceScore</th></tr>\n",
       "\t<tr><th scope=col>&lt;dbl&gt;</th><th scope=col>&lt;chr&gt;</th><th scope=col>&lt;dbl&gt;</th><th scope=col>&lt;dbl&gt;</th></tr>\n",
       "</thead>\n",
       "<tbody>\n",
       "\t<tr><td>0</td><td>The Shape of Water               </td><td>91</td><td>73</td></tr>\n",
       "\t<tr><td>1</td><td>Black Panther                    </td><td>97</td><td>79</td></tr>\n",
       "\t<tr><td>2</td><td>Dunkirk                          </td><td>92</td><td>81</td></tr>\n",
       "\t<tr><td>3</td><td>The Martian                      </td><td>91</td><td>91</td></tr>\n",
       "\t<tr><td>4</td><td>The Hobbit: An Unexpected Journey</td><td>64</td><td>83</td></tr>\n",
       "</tbody>\n",
       "</table>\n"
      ],
      "text/latex": [
       "A spec\\_tbl\\_df: 5 × 4\n",
       "\\begin{tabular}{llll}\n",
       " ...1 & MovieTitle & Tomatometer & AudienceScore\\\\\n",
       " <dbl> & <chr> & <dbl> & <dbl>\\\\\n",
       "\\hline\n",
       "\t 0 & The Shape of Water                & 91 & 73\\\\\n",
       "\t 1 & Black Panther                     & 97 & 79\\\\\n",
       "\t 2 & Dunkirk                           & 92 & 81\\\\\n",
       "\t 3 & The Martian                       & 91 & 91\\\\\n",
       "\t 4 & The Hobbit: An Unexpected Journey & 64 & 83\\\\\n",
       "\\end{tabular}\n"
      ],
      "text/markdown": [
       "\n",
       "A spec_tbl_df: 5 × 4\n",
       "\n",
       "| ...1 &lt;dbl&gt; | MovieTitle &lt;chr&gt; | Tomatometer &lt;dbl&gt; | AudienceScore &lt;dbl&gt; |\n",
       "|---|---|---|---|\n",
       "| 0 | The Shape of Water                | 91 | 73 |\n",
       "| 1 | Black Panther                     | 97 | 79 |\n",
       "| 2 | Dunkirk                           | 92 | 81 |\n",
       "| 3 | The Martian                       | 91 | 91 |\n",
       "| 4 | The Hobbit: An Unexpected Journey | 64 | 83 |\n",
       "\n"
      ],
      "text/plain": [
       "  ...1 MovieTitle                        Tomatometer AudienceScore\n",
       "1 0    The Shape of Water                91          73           \n",
       "2 1    Black Panther                     97          79           \n",
       "3 2    Dunkirk                           92          81           \n",
       "4 3    The Martian                       91          91           \n",
       "5 4    The Hobbit: An Unexpected Journey 64          83           "
      ]
     },
     "metadata": {},
     "output_type": "display_data"
    }
   ],
   "source": [
    "movie.score"
   ]
  },
  {
   "cell_type": "code",
   "execution_count": 135,
   "id": "aaaab0bf-f92c-4cff-8ada-3147315793c1",
   "metadata": {},
   "outputs": [
    {
     "data": {
      "text/html": [
       "<table class=\"dataframe\">\n",
       "<caption>A tibble: 10 × 4</caption>\n",
       "<thead>\n",
       "\t<tr><th scope=col>...1</th><th scope=col>MovieTitle</th><th scope=col>Type.score</th><th scope=col>Score</th></tr>\n",
       "\t<tr><th scope=col>&lt;dbl&gt;</th><th scope=col>&lt;chr&gt;</th><th scope=col>&lt;chr&gt;</th><th scope=col>&lt;dbl&gt;</th></tr>\n",
       "</thead>\n",
       "<tbody>\n",
       "\t<tr><td>0</td><td>The Shape of Water               </td><td>Tomatometer  </td><td>91</td></tr>\n",
       "\t<tr><td>0</td><td>The Shape of Water               </td><td>AudienceScore</td><td>73</td></tr>\n",
       "\t<tr><td>1</td><td>Black Panther                    </td><td>Tomatometer  </td><td>97</td></tr>\n",
       "\t<tr><td>1</td><td>Black Panther                    </td><td>AudienceScore</td><td>79</td></tr>\n",
       "\t<tr><td>2</td><td>Dunkirk                          </td><td>Tomatometer  </td><td>92</td></tr>\n",
       "\t<tr><td>2</td><td>Dunkirk                          </td><td>AudienceScore</td><td>81</td></tr>\n",
       "\t<tr><td>3</td><td>The Martian                      </td><td>Tomatometer  </td><td>91</td></tr>\n",
       "\t<tr><td>3</td><td>The Martian                      </td><td>AudienceScore</td><td>91</td></tr>\n",
       "\t<tr><td>4</td><td>The Hobbit: An Unexpected Journey</td><td>Tomatometer  </td><td>64</td></tr>\n",
       "\t<tr><td>4</td><td>The Hobbit: An Unexpected Journey</td><td>AudienceScore</td><td>83</td></tr>\n",
       "</tbody>\n",
       "</table>\n"
      ],
      "text/latex": [
       "A tibble: 10 × 4\n",
       "\\begin{tabular}{llll}\n",
       " ...1 & MovieTitle & Type.score & Score\\\\\n",
       " <dbl> & <chr> & <chr> & <dbl>\\\\\n",
       "\\hline\n",
       "\t 0 & The Shape of Water                & Tomatometer   & 91\\\\\n",
       "\t 0 & The Shape of Water                & AudienceScore & 73\\\\\n",
       "\t 1 & Black Panther                     & Tomatometer   & 97\\\\\n",
       "\t 1 & Black Panther                     & AudienceScore & 79\\\\\n",
       "\t 2 & Dunkirk                           & Tomatometer   & 92\\\\\n",
       "\t 2 & Dunkirk                           & AudienceScore & 81\\\\\n",
       "\t 3 & The Martian                       & Tomatometer   & 91\\\\\n",
       "\t 3 & The Martian                       & AudienceScore & 91\\\\\n",
       "\t 4 & The Hobbit: An Unexpected Journey & Tomatometer   & 64\\\\\n",
       "\t 4 & The Hobbit: An Unexpected Journey & AudienceScore & 83\\\\\n",
       "\\end{tabular}\n"
      ],
      "text/markdown": [
       "\n",
       "A tibble: 10 × 4\n",
       "\n",
       "| ...1 &lt;dbl&gt; | MovieTitle &lt;chr&gt; | Type.score &lt;chr&gt; | Score &lt;dbl&gt; |\n",
       "|---|---|---|---|\n",
       "| 0 | The Shape of Water                | Tomatometer   | 91 |\n",
       "| 0 | The Shape of Water                | AudienceScore | 73 |\n",
       "| 1 | Black Panther                     | Tomatometer   | 97 |\n",
       "| 1 | Black Panther                     | AudienceScore | 79 |\n",
       "| 2 | Dunkirk                           | Tomatometer   | 92 |\n",
       "| 2 | Dunkirk                           | AudienceScore | 81 |\n",
       "| 3 | The Martian                       | Tomatometer   | 91 |\n",
       "| 3 | The Martian                       | AudienceScore | 91 |\n",
       "| 4 | The Hobbit: An Unexpected Journey | Tomatometer   | 64 |\n",
       "| 4 | The Hobbit: An Unexpected Journey | AudienceScore | 83 |\n",
       "\n"
      ],
      "text/plain": [
       "   ...1 MovieTitle                        Type.score    Score\n",
       "1  0    The Shape of Water                Tomatometer   91   \n",
       "2  0    The Shape of Water                AudienceScore 73   \n",
       "3  1    Black Panther                     Tomatometer   97   \n",
       "4  1    Black Panther                     AudienceScore 79   \n",
       "5  2    Dunkirk                           Tomatometer   92   \n",
       "6  2    Dunkirk                           AudienceScore 81   \n",
       "7  3    The Martian                       Tomatometer   91   \n",
       "8  3    The Martian                       AudienceScore 91   \n",
       "9  4    The Hobbit: An Unexpected Journey Tomatometer   64   \n",
       "10 4    The Hobbit: An Unexpected Journey AudienceScore 83   "
      ]
     },
     "metadata": {},
     "output_type": "display_data"
    }
   ],
   "source": [
    "(lms<-movie.score%>%pivot_longer(.,cols =3:4,names_to =\"Type.score\",values_to =\"Score\" )) # wider to Longer format"
   ]
  },
  {
   "cell_type": "code",
   "execution_count": 136,
   "id": "ab7670fe-09a4-4cd3-9138-27398e3f62ee",
   "metadata": {},
   "outputs": [
    {
     "data": {
      "text/html": [
       "<table class=\"dataframe\">\n",
       "<caption>A tibble: 5 × 4</caption>\n",
       "<thead>\n",
       "\t<tr><th scope=col>...1</th><th scope=col>MovieTitle</th><th scope=col>Tomatometer</th><th scope=col>AudienceScore</th></tr>\n",
       "\t<tr><th scope=col>&lt;dbl&gt;</th><th scope=col>&lt;chr&gt;</th><th scope=col>&lt;dbl&gt;</th><th scope=col>&lt;dbl&gt;</th></tr>\n",
       "</thead>\n",
       "<tbody>\n",
       "\t<tr><td>0</td><td>The Shape of Water               </td><td>91</td><td>73</td></tr>\n",
       "\t<tr><td>1</td><td>Black Panther                    </td><td>97</td><td>79</td></tr>\n",
       "\t<tr><td>2</td><td>Dunkirk                          </td><td>92</td><td>81</td></tr>\n",
       "\t<tr><td>3</td><td>The Martian                      </td><td>91</td><td>91</td></tr>\n",
       "\t<tr><td>4</td><td>The Hobbit: An Unexpected Journey</td><td>64</td><td>83</td></tr>\n",
       "</tbody>\n",
       "</table>\n"
      ],
      "text/latex": [
       "A tibble: 5 × 4\n",
       "\\begin{tabular}{llll}\n",
       " ...1 & MovieTitle & Tomatometer & AudienceScore\\\\\n",
       " <dbl> & <chr> & <dbl> & <dbl>\\\\\n",
       "\\hline\n",
       "\t 0 & The Shape of Water                & 91 & 73\\\\\n",
       "\t 1 & Black Panther                     & 97 & 79\\\\\n",
       "\t 2 & Dunkirk                           & 92 & 81\\\\\n",
       "\t 3 & The Martian                       & 91 & 91\\\\\n",
       "\t 4 & The Hobbit: An Unexpected Journey & 64 & 83\\\\\n",
       "\\end{tabular}\n"
      ],
      "text/markdown": [
       "\n",
       "A tibble: 5 × 4\n",
       "\n",
       "| ...1 &lt;dbl&gt; | MovieTitle &lt;chr&gt; | Tomatometer &lt;dbl&gt; | AudienceScore &lt;dbl&gt; |\n",
       "|---|---|---|---|\n",
       "| 0 | The Shape of Water                | 91 | 73 |\n",
       "| 1 | Black Panther                     | 97 | 79 |\n",
       "| 2 | Dunkirk                           | 92 | 81 |\n",
       "| 3 | The Martian                       | 91 | 91 |\n",
       "| 4 | The Hobbit: An Unexpected Journey | 64 | 83 |\n",
       "\n"
      ],
      "text/plain": [
       "  ...1 MovieTitle                        Tomatometer AudienceScore\n",
       "1 0    The Shape of Water                91          73           \n",
       "2 1    Black Panther                     97          79           \n",
       "3 2    Dunkirk                           92          81           \n",
       "4 3    The Martian                       91          91           \n",
       "5 4    The Hobbit: An Unexpected Journey 64          83           "
      ]
     },
     "metadata": {},
     "output_type": "display_data"
    }
   ],
   "source": [
    "(wms<-lms%>%pivot_wider(.,names_from = 'Type.score',values_from ='Score'))"
   ]
  },
  {
   "cell_type": "code",
   "execution_count": null,
   "id": "b780c819-85c4-4d00-a2ca-c1d6a9a0e2d1",
   "metadata": {},
   "outputs": [],
   "source": []
  }
 ],
 "metadata": {
  "kernelspec": {
   "display_name": "R",
   "language": "R",
   "name": "ir"
  },
  "language_info": {
   "codemirror_mode": "r",
   "file_extension": ".r",
   "mimetype": "text/x-r-source",
   "name": "R",
   "pygments_lexer": "r",
   "version": "4.1.2"
  }
 },
 "nbformat": 4,
 "nbformat_minor": 5
}
